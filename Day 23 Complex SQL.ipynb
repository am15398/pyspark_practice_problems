{
 "cells": [
  {
   "cell_type": "markdown",
   "metadata": {
    "application/vnd.databricks.v1+cell": {
     "cellMetadata": {
      "byteLimit": 2048000,
      "rowLimit": 10000
     },
     "inputWidgets": {},
     "nuid": "e70e8228-7c1e-4500-9e88-c21db34150fb",
     "showTitle": false,
     "title": ""
    }
   },
   "source": [
    "<h3> Horizontal Sorting in SQL | Amazon Interview Question for BIE position </h3>"
   ]
  },
  {
   "cell_type": "code",
   "execution_count": 0,
   "metadata": {
    "application/vnd.databricks.v1+cell": {
     "cellMetadata": {
      "byteLimit": 2048000,
      "implicitDf": true,
      "rowLimit": 10000
     },
     "inputWidgets": {},
     "nuid": "655712c8-912b-4eaa-af3d-6f306f74fe4d",
     "showTitle": false,
     "title": ""
    }
   },
   "outputs": [
    {
     "output_type": "display_data",
     "data": {
      "text/html": [
       "<style scoped>\n",
       "  .table-result-container {\n",
       "    max-height: 300px;\n",
       "    overflow: auto;\n",
       "  }\n",
       "  table, th, td {\n",
       "    border: 1px solid black;\n",
       "    border-collapse: collapse;\n",
       "  }\n",
       "  th, td {\n",
       "    padding: 5px;\n",
       "  }\n",
       "  th {\n",
       "    text-align: left;\n",
       "  }\n",
       "</style><div class='table-result-container'><table class='table-result'><thead style='background-color: white'><tr><th>num_affected_rows</th><th>num_inserted_rows</th></tr></thead><tbody><tr><td>1</td><td>1</td></tr></tbody></table></div>"
      ]
     },
     "metadata": {
      "application/vnd.databricks.v1+output": {
       "addedWidgets": {},
       "aggData": [],
       "aggError": "",
       "aggOverflow": false,
       "aggSchema": [],
       "aggSeriesLimitReached": false,
       "aggType": "",
       "arguments": {},
       "columnCustomDisplayInfos": {},
       "data": [
        [
         1,
         1
        ]
       ],
       "datasetInfos": [],
       "dbfsResultPath": null,
       "isJsonSchema": true,
       "metadata": {},
       "overflow": false,
       "plotOptions": {
        "customPlotOptions": {},
        "displayType": "table",
        "pivotAggregation": null,
        "pivotColumns": null,
        "xColumns": null,
        "yColumns": null
       },
       "removedWidgets": [],
       "schema": [
        {
         "metadata": "{}",
         "name": "num_affected_rows",
         "type": "\"long\""
        },
        {
         "metadata": "{}",
         "name": "num_inserted_rows",
         "type": "\"long\""
        }
       ],
       "type": "table"
      }
     },
     "output_type": "display_data"
    }
   ],
   "source": [
    "%sql\n",
    "CREATE TABLE subscriber (\n",
    " sms_date date ,\n",
    " sender varchar(20) ,\n",
    " receiver varchar(20) ,\n",
    " sms_no int\n",
    ");\n",
    "-- insert some values\n",
    "INSERT INTO subscriber VALUES ('2020-4-1', 'Avinash', 'Vibhor',10);\n",
    "INSERT INTO subscriber VALUES ('2020-4-1', 'Vibhor', 'Avinash',20);\n",
    "INSERT INTO subscriber VALUES ('2020-4-1', 'Avinash', 'Pawan',30);\n",
    "INSERT INTO subscriber VALUES ('2020-4-1', 'Pawan', 'Avinash',20);\n",
    "INSERT INTO subscriber VALUES ('2020-4-1', 'Vibhor', 'Pawan',5);\n",
    "INSERT INTO subscriber VALUES ('2020-4-1', 'Pawan', 'Vibhor',8);\n",
    "INSERT INTO subscriber VALUES ('2020-4-1', 'Vibhor', 'Deepak',50);\n"
   ]
  },
  {
   "cell_type": "code",
   "execution_count": 0,
   "metadata": {
    "application/vnd.databricks.v1+cell": {
     "cellMetadata": {
      "byteLimit": 2048000,
      "implicitDf": true,
      "rowLimit": 10000
     },
     "inputWidgets": {},
     "nuid": "187b6105-3f4f-4587-819e-1e20468fcef6",
     "showTitle": false,
     "title": ""
    }
   },
   "outputs": [
    {
     "output_type": "display_data",
     "data": {
      "text/html": [
       "<style scoped>\n",
       "  .table-result-container {\n",
       "    max-height: 300px;\n",
       "    overflow: auto;\n",
       "  }\n",
       "  table, th, td {\n",
       "    border: 1px solid black;\n",
       "    border-collapse: collapse;\n",
       "  }\n",
       "  th, td {\n",
       "    padding: 5px;\n",
       "  }\n",
       "  th {\n",
       "    text-align: left;\n",
       "  }\n",
       "</style><div class='table-result-container'><table class='table-result'><thead style='background-color: white'><tr><th>sms_date</th><th>sender</th><th>receiver</th><th>sms_no</th></tr></thead><tbody><tr><td>2020-04-01</td><td>Avinash</td><td>Vibhor</td><td>10</td></tr><tr><td>2020-04-01</td><td>Vibhor</td><td>Avinash</td><td>20</td></tr><tr><td>2020-04-01</td><td>Vibhor</td><td>Deepak</td><td>50</td></tr><tr><td>2020-04-01</td><td>Avinash</td><td>Pawan</td><td>30</td></tr><tr><td>2020-04-01</td><td>Pawan</td><td>Avinash</td><td>20</td></tr><tr><td>2020-04-01</td><td>Vibhor</td><td>Pawan</td><td>5</td></tr><tr><td>2020-04-01</td><td>Pawan</td><td>Vibhor</td><td>8</td></tr></tbody></table></div>"
      ]
     },
     "metadata": {
      "application/vnd.databricks.v1+output": {
       "addedWidgets": {},
       "aggData": [],
       "aggError": "",
       "aggOverflow": false,
       "aggSchema": [],
       "aggSeriesLimitReached": false,
       "aggType": "",
       "arguments": {},
       "columnCustomDisplayInfos": {},
       "data": [
        [
         "2020-04-01",
         "Avinash",
         "Vibhor",
         10
        ],
        [
         "2020-04-01",
         "Vibhor",
         "Avinash",
         20
        ],
        [
         "2020-04-01",
         "Vibhor",
         "Deepak",
         50
        ],
        [
         "2020-04-01",
         "Avinash",
         "Pawan",
         30
        ],
        [
         "2020-04-01",
         "Pawan",
         "Avinash",
         20
        ],
        [
         "2020-04-01",
         "Vibhor",
         "Pawan",
         5
        ],
        [
         "2020-04-01",
         "Pawan",
         "Vibhor",
         8
        ]
       ],
       "datasetInfos": [],
       "dbfsResultPath": null,
       "isJsonSchema": true,
       "metadata": {},
       "overflow": false,
       "plotOptions": {
        "customPlotOptions": {},
        "displayType": "table",
        "pivotAggregation": null,
        "pivotColumns": null,
        "xColumns": null,
        "yColumns": null
       },
       "removedWidgets": [],
       "schema": [
        {
         "metadata": "{}",
         "name": "sms_date",
         "type": "\"date\""
        },
        {
         "metadata": "{\"__CHAR_VARCHAR_TYPE_STRING\":\"varchar(20)\"}",
         "name": "sender",
         "type": "\"string\""
        },
        {
         "metadata": "{\"__CHAR_VARCHAR_TYPE_STRING\":\"varchar(20)\"}",
         "name": "receiver",
         "type": "\"string\""
        },
        {
         "metadata": "{}",
         "name": "sms_no",
         "type": "\"integer\""
        }
       ],
       "type": "table"
      }
     },
     "output_type": "display_data"
    }
   ],
   "source": [
    "%sql\n",
    "select * from subscriber"
   ]
  },
  {
   "cell_type": "code",
   "execution_count": 0,
   "metadata": {
    "application/vnd.databricks.v1+cell": {
     "cellMetadata": {
      "byteLimit": 2048000,
      "implicitDf": true,
      "rowLimit": 10000
     },
     "inputWidgets": {},
     "nuid": "c35009be-0e74-481b-8ab0-1e8d7ba3b5a5",
     "showTitle": false,
     "title": ""
    }
   },
   "outputs": [
    {
     "output_type": "display_data",
     "data": {
      "text/html": [
       "<style scoped>\n",
       "  .table-result-container {\n",
       "    max-height: 300px;\n",
       "    overflow: auto;\n",
       "  }\n",
       "  table, th, td {\n",
       "    border: 1px solid black;\n",
       "    border-collapse: collapse;\n",
       "  }\n",
       "  th, td {\n",
       "    padding: 5px;\n",
       "  }\n",
       "  th {\n",
       "    text-align: left;\n",
       "  }\n",
       "</style><div class='table-result-container'><table class='table-result'><thead style='background-color: white'><tr><th>sms_date</th><th>send</th><th>receiv</th><th>total_msg</th></tr></thead><tbody><tr><td>2020-04-01</td><td>Avinash</td><td>Vibhor</td><td>30</td></tr><tr><td>2020-04-01</td><td>Deepak</td><td>Vibhor</td><td>50</td></tr><tr><td>2020-04-01</td><td>Avinash</td><td>Pawan</td><td>50</td></tr><tr><td>2020-04-01</td><td>Pawan</td><td>Vibhor</td><td>13</td></tr></tbody></table></div>"
      ]
     },
     "metadata": {
      "application/vnd.databricks.v1+output": {
       "addedWidgets": {},
       "aggData": [],
       "aggError": "",
       "aggOverflow": false,
       "aggSchema": [],
       "aggSeriesLimitReached": false,
       "aggType": "",
       "arguments": {},
       "columnCustomDisplayInfos": {},
       "data": [
        [
         "2020-04-01",
         "Avinash",
         "Vibhor",
         30
        ],
        [
         "2020-04-01",
         "Deepak",
         "Vibhor",
         50
        ],
        [
         "2020-04-01",
         "Avinash",
         "Pawan",
         50
        ],
        [
         "2020-04-01",
         "Pawan",
         "Vibhor",
         13
        ]
       ],
       "datasetInfos": [],
       "dbfsResultPath": null,
       "isJsonSchema": true,
       "metadata": {},
       "overflow": false,
       "plotOptions": {
        "customPlotOptions": {},
        "displayType": "table",
        "pivotAggregation": null,
        "pivotColumns": null,
        "xColumns": null,
        "yColumns": null
       },
       "removedWidgets": [],
       "schema": [
        {
         "metadata": "{}",
         "name": "sms_date",
         "type": "\"date\""
        },
        {
         "metadata": "{}",
         "name": "send",
         "type": "\"string\""
        },
        {
         "metadata": "{}",
         "name": "receiv",
         "type": "\"string\""
        },
        {
         "metadata": "{}",
         "name": "total_msg",
         "type": "\"long\""
        }
       ],
       "type": "table"
      }
     },
     "output_type": "display_data"
    }
   ],
   "source": [
    "%sql\n",
    "select a1.sms_date,a1.send,a1.receiv,sum(a1.sms_no)as total_msg from (\n",
    "select sms_date,sms_no,case when sender<receiver then sender else receiver end as send\n",
    ",case when sender>receiver then sender else receiver end as receiv from subscriber)a1\n",
    "group by a1.sms_date,a1.send,a1.receiv"
   ]
  },
  {
   "cell_type": "markdown",
   "metadata": {
    "application/vnd.databricks.v1+cell": {
     "cellMetadata": {},
     "inputWidgets": {},
     "nuid": "a252bf52-2467-4410-820f-eb60b3545025",
     "showTitle": false,
     "title": ""
    }
   },
   "source": [
    "<h3> solution in pyspark <\\h3>"
   ]
  },
  {
   "cell_type": "code",
   "execution_count": 0,
   "metadata": {
    "application/vnd.databricks.v1+cell": {
     "cellMetadata": {
      "byteLimit": 2048000,
      "rowLimit": 10000
     },
     "inputWidgets": {},
     "nuid": "8991586e-ebbf-4b9e-873f-d437635388fd",
     "showTitle": false,
     "title": ""
    }
   },
   "outputs": [],
   "source": [
    "from pyspark.sql.functions import when,col,sum"
   ]
  },
  {
   "cell_type": "code",
   "execution_count": 0,
   "metadata": {
    "application/vnd.databricks.v1+cell": {
     "cellMetadata": {
      "byteLimit": 2048000,
      "rowLimit": 10000
     },
     "inputWidgets": {},
     "nuid": "771ae21d-14f1-4316-ba01-3125a859fb04",
     "showTitle": false,
     "title": ""
    }
   },
   "outputs": [
    {
     "output_type": "stream",
     "name": "stdout",
     "output_type": "stream",
     "text": [
      "+----------+-------+--------+------+\n|  sms_date| sender|receiver|sms_no|\n+----------+-------+--------+------+\n|2020-04-01|Avinash|  Vibhor|    10|\n|2020-04-01| Vibhor| Avinash|    20|\n|2020-04-01| Vibhor|  Deepak|    50|\n|2020-04-01|Avinash|   Pawan|    30|\n|2020-04-01|  Pawan| Avinash|    20|\n|2020-04-01| Vibhor|   Pawan|     5|\n|2020-04-01|  Pawan|  Vibhor|     8|\n+----------+-------+--------+------+\n\n"
     ]
    }
   ],
   "source": [
    "df_s=spark.sql(\"select * from subscriber\")\n",
    "df_s.show()"
   ]
  },
  {
   "cell_type": "code",
   "execution_count": 0,
   "metadata": {
    "application/vnd.databricks.v1+cell": {
     "cellMetadata": {
      "byteLimit": 2048000,
      "rowLimit": 10000
     },
     "inputWidgets": {},
     "nuid": "8694b0e9-3afd-4a25-8708-070fddd1ceb6",
     "showTitle": false,
     "title": ""
    }
   },
   "outputs": [
    {
     "output_type": "stream",
     "name": "stdout",
     "output_type": "stream",
     "text": [
      "+----------+-------+------+---------+\n|  sms_date|   send|receiv|total_msg|\n+----------+-------+------+---------+\n|2020-04-01|Avinash|Vibhor|       30|\n|2020-04-01| Deepak|Vibhor|       50|\n|2020-04-01|Avinash| Pawan|       50|\n|2020-04-01|  Pawan|Vibhor|       13|\n+----------+-------+------+---------+\n\n"
     ]
    }
   ],
   "source": [
    "df_s.withColumn(\"send\",when(col(\"sender\")<col(\"receiver\"),col(\"sender\")).otherwise(col(\"receiver\"))).\\\n",
    "    withColumn(\"receiv\",when(col(\"sender\")>col(\"receiver\"),col(\"sender\")).otherwise(col(\"receiver\")))\\\n",
    "        .groupBy(\"sms_date\",\"send\",\"receiv\").agg(sum(col(\"sms_no\")).alias(\"total_msg\")).show()"
   ]
  }
 ],
 "metadata": {
  "application/vnd.databricks.v1+notebook": {
   "dashboards": [],
   "language": "python",
   "notebookMetadata": {
    "mostRecentlyExecutedCommandWithImplicitDF": {
     "commandId": 2469719601851352,
     "dataframes": [
      "_sqldf"
     ]
    },
    "pythonIndentUnit": 4
   },
   "notebookName": "Day 23 Complex SQL",
   "widgets": {}
  }
 },
 "nbformat": 4,
 "nbformat_minor": 0
}
