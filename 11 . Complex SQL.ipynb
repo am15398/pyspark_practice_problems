{
 "cells": [
  {
   "cell_type": "markdown",
   "metadata": {
    "application/vnd.databricks.v1+cell": {
     "cellMetadata": {
      "byteLimit": 2048000,
      "rowLimit": 10000
     },
     "inputWidgets": {},
     "nuid": "e70e8228-7c1e-4500-9e88-c21db34150fb",
     "showTitle": false,
     "title": ""
    }
   },
   "source": [
    "<h3> Amazon Prime Subscription Rate SQL Logic | Amazon Music | Complex SQL 14 </h3>"
   ]
  },
  {
   "cell_type": "code",
   "execution_count": 0,
   "metadata": {
    "application/vnd.databricks.v1+cell": {
     "cellMetadata": {
      "byteLimit": 2048000,
      "implicitDf": true,
      "rowLimit": 10000
     },
     "inputWidgets": {},
     "nuid": "0de2e4c6-2bd0-4f7f-81cd-100108dbbe04",
     "showTitle": false,
     "title": ""
    }
   },
   "outputs": [
    {
     "output_type": "display_data",
     "data": {
      "text/html": [
       "<style scoped>\n",
       "  .table-result-container {\n",
       "    max-height: 300px;\n",
       "    overflow: auto;\n",
       "  }\n",
       "  table, th, td {\n",
       "    border: 1px solid black;\n",
       "    border-collapse: collapse;\n",
       "  }\n",
       "  th, td {\n",
       "    padding: 5px;\n",
       "  }\n",
       "  th {\n",
       "    text-align: left;\n",
       "  }\n",
       "</style><div class='table-result-container'><table class='table-result'><thead style='background-color: white'><tr><th>num_affected_rows</th><th>num_inserted_rows</th></tr></thead><tbody><tr><td>7</td><td>7</td></tr></tbody></table></div>"
      ]
     },
     "metadata": {
      "application/vnd.databricks.v1+output": {
       "addedWidgets": {},
       "aggData": [],
       "aggError": "",
       "aggOverflow": false,
       "aggSchema": [],
       "aggSeriesLimitReached": false,
       "aggType": "",
       "arguments": {},
       "columnCustomDisplayInfos": {},
       "data": [
        [
         7,
         7
        ]
       ],
       "datasetInfos": [],
       "dbfsResultPath": null,
       "isJsonSchema": true,
       "metadata": {},
       "overflow": false,
       "plotOptions": {
        "customPlotOptions": {},
        "displayType": "table",
        "pivotAggregation": null,
        "pivotColumns": null,
        "xColumns": null,
        "yColumns": null
       },
       "removedWidgets": [],
       "schema": [
        {
         "metadata": "{}",
         "name": "num_affected_rows",
         "type": "\"long\""
        },
        {
         "metadata": "{}",
         "name": "num_inserted_rows",
         "type": "\"long\""
        }
       ],
       "type": "table"
      }
     },
     "output_type": "display_data"
    }
   ],
   "source": [
    "%sql\n",
    "drop table if exists users;\n",
    "create table users\n",
    "(\n",
    "user_id integer,\n",
    "name varchar(20),\n",
    "join_date date\n",
    ");\n",
    "insert into users\n",
    "VALUES\n",
    "  (1, 'Jon', '2020-02-14'),\n",
    "  (2, 'Jane', '2020-02-14'),\n",
    "  (3, 'Jill', '2020-02-15'),\n",
    "  (4, 'Josh', '2020-02-15'),\n",
    "  (5, 'Jean', '2020-02-16'),\n",
    "  (6, 'Justin', '2020-02-17'),\n",
    "  (7, 'Jeremy', '2020-02-18');\n",
    "\n",
    "drop table if exists events;\n",
    "create table events\n",
    "(\n",
    "user_id integer,\n",
    "type varchar(10),\n",
    "access_date date\n",
    ");\n",
    "\n",
    "insert into events values\n",
    "  (1, 'Pay', '2020-03-01'),\n",
    "  (2, 'Music', '2020-03-02'),\n",
    "  (2, 'P', '2020-03-12'),\n",
    "  (3, 'Music', '2020-03-15'),\n",
    "  (4, 'Music', '2020-03-15'),\n",
    "  (1, 'P', '2020-03-16'),\n",
    "  (3, 'P', '2020-03-22');"
   ]
  },
  {
   "cell_type": "code",
   "execution_count": 0,
   "metadata": {
    "application/vnd.databricks.v1+cell": {
     "cellMetadata": {
      "byteLimit": 2048000,
      "implicitDf": true,
      "rowLimit": 10000
     },
     "inputWidgets": {},
     "nuid": "cf5907a0-f18c-4a8a-99b2-0f32828118c2",
     "showTitle": false,
     "title": ""
    }
   },
   "outputs": [
    {
     "output_type": "display_data",
     "data": {
      "text/html": [
       "<style scoped>\n",
       "  .table-result-container {\n",
       "    max-height: 300px;\n",
       "    overflow: auto;\n",
       "  }\n",
       "  table, th, td {\n",
       "    border: 1px solid black;\n",
       "    border-collapse: collapse;\n",
       "  }\n",
       "  th, td {\n",
       "    padding: 5px;\n",
       "  }\n",
       "  th {\n",
       "    text-align: left;\n",
       "  }\n",
       "</style><div class='table-result-container'><table class='table-result'><thead style='background-color: white'><tr><th>user_id</th><th>name</th><th>join_date</th></tr></thead><tbody><tr><td>1</td><td>Jon</td><td>2020-02-14</td></tr><tr><td>2</td><td>Jane</td><td>2020-02-14</td></tr><tr><td>3</td><td>Jill</td><td>2020-02-15</td></tr><tr><td>4</td><td>Josh</td><td>2020-02-15</td></tr><tr><td>5</td><td>Jean</td><td>2020-02-16</td></tr><tr><td>6</td><td>Justin</td><td>2020-02-17</td></tr><tr><td>7</td><td>Jeremy</td><td>2020-02-18</td></tr></tbody></table></div>"
      ]
     },
     "metadata": {
      "application/vnd.databricks.v1+output": {
       "addedWidgets": {},
       "aggData": [],
       "aggError": "",
       "aggOverflow": false,
       "aggSchema": [],
       "aggSeriesLimitReached": false,
       "aggType": "",
       "arguments": {},
       "columnCustomDisplayInfos": {},
       "data": [
        [
         1,
         "Jon",
         "2020-02-14"
        ],
        [
         2,
         "Jane",
         "2020-02-14"
        ],
        [
         3,
         "Jill",
         "2020-02-15"
        ],
        [
         4,
         "Josh",
         "2020-02-15"
        ],
        [
         5,
         "Jean",
         "2020-02-16"
        ],
        [
         6,
         "Justin",
         "2020-02-17"
        ],
        [
         7,
         "Jeremy",
         "2020-02-18"
        ]
       ],
       "datasetInfos": [],
       "dbfsResultPath": null,
       "isJsonSchema": true,
       "metadata": {},
       "overflow": false,
       "plotOptions": {
        "customPlotOptions": {},
        "displayType": "table",
        "pivotAggregation": null,
        "pivotColumns": null,
        "xColumns": null,
        "yColumns": null
       },
       "removedWidgets": [],
       "schema": [
        {
         "metadata": "{}",
         "name": "user_id",
         "type": "\"integer\""
        },
        {
         "metadata": "{\"__CHAR_VARCHAR_TYPE_STRING\":\"varchar(20)\"}",
         "name": "name",
         "type": "\"string\""
        },
        {
         "metadata": "{}",
         "name": "join_date",
         "type": "\"date\""
        }
       ],
       "type": "table"
      }
     },
     "output_type": "display_data"
    }
   ],
   "source": [
    "%sql\n",
    "select * from users"
   ]
  },
  {
   "cell_type": "code",
   "execution_count": 0,
   "metadata": {
    "application/vnd.databricks.v1+cell": {
     "cellMetadata": {
      "byteLimit": 2048000,
      "implicitDf": true,
      "rowLimit": 10000
     },
     "inputWidgets": {},
     "nuid": "6d41e5b8-9200-40b9-b376-4a1ee1bec63d",
     "showTitle": false,
     "title": ""
    }
   },
   "outputs": [
    {
     "output_type": "display_data",
     "data": {
      "text/html": [
       "<style scoped>\n",
       "  .table-result-container {\n",
       "    max-height: 300px;\n",
       "    overflow: auto;\n",
       "  }\n",
       "  table, th, td {\n",
       "    border: 1px solid black;\n",
       "    border-collapse: collapse;\n",
       "  }\n",
       "  th, td {\n",
       "    padding: 5px;\n",
       "  }\n",
       "  th {\n",
       "    text-align: left;\n",
       "  }\n",
       "</style><div class='table-result-container'><table class='table-result'><thead style='background-color: white'><tr><th>user_id</th><th>type</th><th>access_date</th></tr></thead><tbody><tr><td>1</td><td>Pay</td><td>2020-03-01</td></tr><tr><td>2</td><td>Music</td><td>2020-03-02</td></tr><tr><td>2</td><td>P</td><td>2020-03-12</td></tr><tr><td>3</td><td>Music</td><td>2020-03-15</td></tr><tr><td>4</td><td>Music</td><td>2020-03-15</td></tr><tr><td>1</td><td>P</td><td>2020-03-16</td></tr><tr><td>3</td><td>P</td><td>2020-03-22</td></tr></tbody></table></div>"
      ]
     },
     "metadata": {
      "application/vnd.databricks.v1+output": {
       "addedWidgets": {},
       "aggData": [],
       "aggError": "",
       "aggOverflow": false,
       "aggSchema": [],
       "aggSeriesLimitReached": false,
       "aggType": "",
       "arguments": {},
       "columnCustomDisplayInfos": {},
       "data": [
        [
         1,
         "Pay",
         "2020-03-01"
        ],
        [
         2,
         "Music",
         "2020-03-02"
        ],
        [
         2,
         "P",
         "2020-03-12"
        ],
        [
         3,
         "Music",
         "2020-03-15"
        ],
        [
         4,
         "Music",
         "2020-03-15"
        ],
        [
         1,
         "P",
         "2020-03-16"
        ],
        [
         3,
         "P",
         "2020-03-22"
        ]
       ],
       "datasetInfos": [],
       "dbfsResultPath": null,
       "isJsonSchema": true,
       "metadata": {},
       "overflow": false,
       "plotOptions": {
        "customPlotOptions": {},
        "displayType": "table",
        "pivotAggregation": null,
        "pivotColumns": null,
        "xColumns": null,
        "yColumns": null
       },
       "removedWidgets": [],
       "schema": [
        {
         "metadata": "{}",
         "name": "user_id",
         "type": "\"integer\""
        },
        {
         "metadata": "{\"__CHAR_VARCHAR_TYPE_STRING\":\"varchar(10)\"}",
         "name": "type",
         "type": "\"string\""
        },
        {
         "metadata": "{}",
         "name": "access_date",
         "type": "\"date\""
        }
       ],
       "type": "table"
      }
     },
     "output_type": "display_data"
    }
   ],
   "source": [
    "%sql\n",
    "select * from events"
   ]
  },
  {
   "cell_type": "markdown",
   "metadata": {
    "application/vnd.databricks.v1+cell": {
     "cellMetadata": {
      "byteLimit": 2048000,
      "rowLimit": 10000
     },
     "inputWidgets": {},
     "nuid": "e8defe35-87a3-4ff8-b703-37a6b8452f17",
     "showTitle": false,
     "title": ""
    }
   },
   "source": [
    "<h3> Solution in sql(hive) </h3>"
   ]
  },
  {
   "cell_type": "code",
   "execution_count": 0,
   "metadata": {
    "application/vnd.databricks.v1+cell": {
     "cellMetadata": {
      "byteLimit": 2048000,
      "implicitDf": true,
      "rowLimit": 10000
     },
     "inputWidgets": {},
     "nuid": "c8a0592d-cbf4-46b2-8396-8aac8eaad6b4",
     "showTitle": false,
     "title": ""
    }
   },
   "outputs": [
    {
     "output_type": "display_data",
     "data": {
      "text/html": [
       "<style scoped>\n",
       "  .table-result-container {\n",
       "    max-height: 300px;\n",
       "    overflow: auto;\n",
       "  }\n",
       "  table, th, td {\n",
       "    border: 1px solid black;\n",
       "    border-collapse: collapse;\n",
       "  }\n",
       "  th, td {\n",
       "    padding: 5px;\n",
       "  }\n",
       "  th {\n",
       "    text-align: left;\n",
       "  }\n",
       "</style><div class='table-result-container'><table class='table-result'><thead style='background-color: white'><tr><th>total_users</th><th>enroll_users</th><th>per_of_enroll</th></tr></thead><tbody><tr><td>3</td><td>1</td><td>33.33</td></tr></tbody></table></div>"
      ]
     },
     "metadata": {
      "application/vnd.databricks.v1+output": {
       "addedWidgets": {},
       "aggData": [],
       "aggError": "",
       "aggOverflow": false,
       "aggSchema": [],
       "aggSeriesLimitReached": false,
       "aggType": "",
       "arguments": {},
       "columnCustomDisplayInfos": {},
       "data": [
        [
         3,
         1,
         33.33
        ]
       ],
       "datasetInfos": [],
       "dbfsResultPath": null,
       "isJsonSchema": true,
       "metadata": {},
       "overflow": false,
       "plotOptions": {
        "customPlotOptions": {},
        "displayType": "table",
        "pivotAggregation": null,
        "pivotColumns": null,
        "xColumns": null,
        "yColumns": null
       },
       "removedWidgets": [],
       "schema": [
        {
         "metadata": "{}",
         "name": "total_users",
         "type": "\"long\""
        },
        {
         "metadata": "{}",
         "name": "enroll_users",
         "type": "\"long\""
        },
        {
         "metadata": "{}",
         "name": "per_of_enroll",
         "type": "\"double\""
        }
       ],
       "type": "table"
      }
     },
     "output_type": "display_data"
    }
   ],
   "source": [
    "%sql \n",
    "with cte as (\n",
    "SELECT count(*) as total_users, sum(case when datediff(access_date,join_date)<=30 then 1 else null end) as enroll_users FROM users\n",
    "left join events on users.user_id=events.user_id and type='P'\n",
    "where users.user_id in(select user_id from events where type='Music'))\n",
    "select *,round(enroll_users*100/total_users,2) as per_of_enroll from cte"
   ]
  },
  {
   "cell_type": "markdown",
   "metadata": {
    "application/vnd.databricks.v1+cell": {
     "cellMetadata": {},
     "inputWidgets": {},
     "nuid": "adc632fa-686f-4bac-a5e8-d18ee723de94",
     "showTitle": false,
     "title": ""
    }
   },
   "source": [
    "<h3> solution in pyspark <\\h3>"
   ]
  },
  {
   "cell_type": "code",
   "execution_count": 0,
   "metadata": {
    "application/vnd.databricks.v1+cell": {
     "cellMetadata": {
      "byteLimit": 2048000,
      "rowLimit": 10000
     },
     "inputWidgets": {},
     "nuid": "8991586e-ebbf-4b9e-873f-d437635388fd",
     "showTitle": false,
     "title": ""
    }
   },
   "outputs": [],
   "source": [
    "from pyspark.sql.functions import col,concat,datediff,sum,when,lit,round\n"
   ]
  },
  {
   "cell_type": "code",
   "execution_count": 0,
   "metadata": {
    "application/vnd.databricks.v1+cell": {
     "cellMetadata": {
      "byteLimit": 2048000,
      "rowLimit": 10000
     },
     "inputWidgets": {},
     "nuid": "06b99aaf-cfd2-487e-b7b4-21a7192dca89",
     "showTitle": false,
     "title": ""
    }
   },
   "outputs": [
    {
     "output_type": "stream",
     "name": "stdout",
     "output_type": "stream",
     "text": [
      "+-------+------+----------+\n|user_id|  name| join_date|\n+-------+------+----------+\n|      1|   Jon|2020-02-14|\n|      2|  Jane|2020-02-14|\n|      3|  Jill|2020-02-15|\n|      4|  Josh|2020-02-15|\n|      5|  Jean|2020-02-16|\n|      6|Justin|2020-02-17|\n|      7|Jeremy|2020-02-18|\n+-------+------+----------+\n\n+-------+-----+-----------+\n|user_id| type|access_date|\n+-------+-----+-----------+\n|      1|  Pay| 2020-03-01|\n|      2|Music| 2020-03-02|\n|      2|    P| 2020-03-12|\n|      3|Music| 2020-03-15|\n|      4|Music| 2020-03-15|\n|      1|    P| 2020-03-16|\n|      3|    P| 2020-03-22|\n+-------+-----+-----------+\n\n"
     ]
    }
   ],
   "source": [
    "df_u=spark.sql(\"select * from users\")\n",
    "df_e=spark.sql(\"select * from events\")\n",
    "df_u.show()\n",
    "df_e.show()"
   ]
  },
  {
   "cell_type": "code",
   "execution_count": 0,
   "metadata": {
    "application/vnd.databricks.v1+cell": {
     "cellMetadata": {
      "byteLimit": 2048000,
      "rowLimit": 10000
     },
     "inputWidgets": {},
     "nuid": "5d876e4f-992c-4e73-91bf-ba7eb8616d9c",
     "showTitle": false,
     "title": ""
    }
   },
   "outputs": [
    {
     "output_type": "stream",
     "name": "stdout",
     "output_type": "stream",
     "text": [
      "+-----------+-----------+-------------+\n|total_users|enroll_user|per_of_enroll|\n+-----------+-----------+-------------+\n|          3|          1|        33.33|\n+-----------+-----------+-------------+\n\n"
     ]
    }
   ],
   "source": [
    "music=df_e.filter(df_e[\"type\"]==\"Music\").select(\"user_id\").distinct().rdd.flatMap(lambda x:x).collect()\n",
    "df_e1=df_e.filter(df_e[\"type\"]==\"P\")\n",
    "df_f=df_u.filter(df_u[\"user_id\"].isin(music)).join(df_e1,\"user_id\",\"left\")\\\n",
    "    .withColumn(\"date_diff\",datediff(col(\"access_date\"),col(\"join_date\")))\n",
    "df_f=df_f.withColumn(\"total_users\",lit(1)).withColumn(\"enroll_user\",when(col(\"date_diff\")<=30,1).otherwise(0))\n",
    "df_final=df_f.agg(sum(\"total_users\").alias(\"total_users\"),sum(\"enroll_user\").alias(\"enroll_user\")).withColumn(\"per_of_enroll\",col(\"enroll_user\")*100/col(\"total_users\"))\n",
    "df_final.select(\"total_users\",\"enroll_user\",round(df_final[\"per_of_enroll\"],2).alias(\"per_of_enroll\")).show()"
   ]
  }
 ],
 "metadata": {
  "application/vnd.databricks.v1+notebook": {
   "dashboards": [],
   "language": "python",
   "notebookMetadata": {
    "mostRecentlyExecutedCommandWithImplicitDF": {
     "commandId": 1214035745514416,
     "dataframes": [
      "_sqldf"
     ]
    },
    "pythonIndentUnit": 4
   },
   "notebookName": "11 . Complex SQL",
   "widgets": {}
  }
 },
 "nbformat": 4,
 "nbformat_minor": 0
}
