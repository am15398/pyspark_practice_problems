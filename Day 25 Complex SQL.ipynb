{
 "cells": [
  {
   "cell_type": "markdown",
   "metadata": {
    "application/vnd.databricks.v1+cell": {
     "cellMetadata": {},
     "inputWidgets": {},
     "nuid": "1db2990f-dbe7-4bd0-8738-6fefe71e8c17",
     "showTitle": false,
     "title": ""
    }
   },
   "source": [
    "<h3> Brilliant SQL Interview Question | Solve it without using CTE, Sub Query, Window functions <\\h3>"
   ]
  },
  {
   "cell_type": "code",
   "execution_count": 0,
   "metadata": {
    "application/vnd.databricks.v1+cell": {
     "cellMetadata": {
      "byteLimit": 2048000,
      "implicitDf": true,
      "rowLimit": 10000
     },
     "inputWidgets": {},
     "nuid": "475b8bb4-7dfd-45f5-87c6-174c9944a5d0",
     "showTitle": false,
     "title": ""
    }
   },
   "outputs": [
    {
     "output_type": "display_data",
     "data": {
      "text/html": [
       "<style scoped>\n",
       "  .table-result-container {\n",
       "    max-height: 300px;\n",
       "    overflow: auto;\n",
       "  }\n",
       "  table, th, td {\n",
       "    border: 1px solid black;\n",
       "    border-collapse: collapse;\n",
       "  }\n",
       "  th, td {\n",
       "    padding: 5px;\n",
       "  }\n",
       "  th {\n",
       "    text-align: left;\n",
       "  }\n",
       "</style><div class='table-result-container'><table class='table-result'><thead style='background-color: white'><tr><th>num_affected_rows</th><th>num_inserted_rows</th></tr></thead><tbody><tr><td>1</td><td>1</td></tr></tbody></table></div>"
      ]
     },
     "metadata": {
      "application/vnd.databricks.v1+output": {
       "addedWidgets": {},
       "aggData": [],
       "aggError": "",
       "aggOverflow": false,
       "aggSchema": [],
       "aggSeriesLimitReached": false,
       "aggType": "",
       "arguments": {},
       "columnCustomDisplayInfos": {},
       "data": [
        [
         1,
         1
        ]
       ],
       "datasetInfos": [],
       "dbfsResultPath": null,
       "isJsonSchema": true,
       "metadata": {},
       "overflow": false,
       "plotOptions": {
        "customPlotOptions": {},
        "displayType": "table",
        "pivotAggregation": null,
        "pivotColumns": null,
        "xColumns": null,
        "yColumns": null
       },
       "removedWidgets": [],
       "schema": [
        {
         "metadata": "{}",
         "name": "num_affected_rows",
         "type": "\"long\""
        },
        {
         "metadata": "{}",
         "name": "num_inserted_rows",
         "type": "\"long\""
        }
       ],
       "type": "table"
      }
     },
     "output_type": "display_data"
    }
   ],
   "source": [
    "%sql\n",
    "CREATE TABLE int_orders(\n",
    " order_number int NOT NULL,\n",
    " order_date date NOT NULL,\n",
    " cust_id int NOT NULL,\n",
    " salesperson_id int NOT NULL,\n",
    " amount float NOT NULL\n",
    ");\n",
    "\n",
    "INSERT INTO int_orders (order_number, order_date, cust_id, salesperson_id, amount) VALUES (30, CAST('1995-07-14' AS Date), 9, 1, 460);\n",
    "\n",
    "INSERT into int_orders (order_number, order_date, cust_id, salesperson_id, amount) VALUES (10, CAST('1996-08-02' AS Date), 4, 2, 540);\n",
    "\n",
    "INSERT INTO int_orders (order_number, order_date, cust_id, salesperson_id, amount) VALUES (40, CAST('1998-01-29' AS Date), 7, 2, 2400);\n",
    "\n",
    "INSERT INTO int_orders (order_number, order_date, cust_id, salesperson_id, amount) VALUES (50, CAST('1998-02-03' AS Date), 6, 7, 600);\n",
    "\n",
    "INSERT into int_orders (order_number, order_date, cust_id, salesperson_id, amount) VALUES (60, CAST('1998-03-02' AS Date), 6, 7, 720);\n",
    "\n",
    "INSERT into int_orders (order_number, order_date, cust_id, salesperson_id, amount) VALUES (70, CAST('1998-05-06' AS Date), 9, 7, 150);\n",
    "\n",
    "INSERT into int_orders (order_number, order_date, cust_id, salesperson_id, amount) VALUES (20, CAST('1999-01-30' AS Date), 4, 8, 1800);"
   ]
  },
  {
   "cell_type": "code",
   "execution_count": 0,
   "metadata": {
    "application/vnd.databricks.v1+cell": {
     "cellMetadata": {
      "byteLimit": 2048000,
      "implicitDf": true,
      "rowLimit": 10000
     },
     "inputWidgets": {},
     "nuid": "d21519b6-f47a-497d-b177-39968a313966",
     "showTitle": false,
     "title": ""
    }
   },
   "outputs": [
    {
     "output_type": "display_data",
     "data": {
      "text/html": [
       "<style scoped>\n",
       "  .table-result-container {\n",
       "    max-height: 300px;\n",
       "    overflow: auto;\n",
       "  }\n",
       "  table, th, td {\n",
       "    border: 1px solid black;\n",
       "    border-collapse: collapse;\n",
       "  }\n",
       "  th, td {\n",
       "    padding: 5px;\n",
       "  }\n",
       "  th {\n",
       "    text-align: left;\n",
       "  }\n",
       "</style><div class='table-result-container'><table class='table-result'><thead style='background-color: white'><tr><th>order_number</th><th>order_date</th><th>cust_id</th><th>salesperson_id</th><th>amount</th></tr></thead><tbody><tr><td>20</td><td>1999-01-30</td><td>4</td><td>8</td><td>1800.0</td></tr><tr><td>60</td><td>1998-03-02</td><td>6</td><td>7</td><td>720.0</td></tr><tr><td>40</td><td>1998-01-29</td><td>7</td><td>2</td><td>2400.0</td></tr><tr><td>30</td><td>1995-07-14</td><td>9</td><td>1</td><td>460.0</td></tr></tbody></table></div>"
      ]
     },
     "metadata": {
      "application/vnd.databricks.v1+output": {
       "addedWidgets": {},
       "aggData": [],
       "aggError": "",
       "aggOverflow": false,
       "aggSchema": [],
       "aggSeriesLimitReached": false,
       "aggType": "",
       "arguments": {},
       "columnCustomDisplayInfos": {},
       "data": [
        [
         20,
         "1999-01-30",
         4,
         8,
         1800.0
        ],
        [
         60,
         "1998-03-02",
         6,
         7,
         720.0
        ],
        [
         40,
         "1998-01-29",
         7,
         2,
         2400.0
        ],
        [
         30,
         "1995-07-14",
         9,
         1,
         460.0
        ]
       ],
       "datasetInfos": [],
       "dbfsResultPath": null,
       "isJsonSchema": true,
       "metadata": {},
       "overflow": false,
       "plotOptions": {
        "customPlotOptions": {},
        "displayType": "table",
        "pivotAggregation": null,
        "pivotColumns": null,
        "xColumns": null,
        "yColumns": null
       },
       "removedWidgets": [],
       "schema": [
        {
         "metadata": "{}",
         "name": "order_number",
         "type": "\"integer\""
        },
        {
         "metadata": "{}",
         "name": "order_date",
         "type": "\"date\""
        },
        {
         "metadata": "{}",
         "name": "cust_id",
         "type": "\"integer\""
        },
        {
         "metadata": "{}",
         "name": "salesperson_id",
         "type": "\"integer\""
        },
        {
         "metadata": "{}",
         "name": "amount",
         "type": "\"float\""
        }
       ],
       "type": "table"
      }
     },
     "output_type": "display_data"
    }
   ],
   "source": [
    "%sql\n",
    "select a1.order_number ,a1.order_date ,a1.cust_id ,a1.salesperson_id ,a1.amount  from int_orders a1\n",
    "left join int_orders a2 on a1.salesperson_id=a2.salesperson_id\n",
    "group by  a1.order_number ,a1.order_date ,a1.cust_id, a1.salesperson_id ,a1.amount\n",
    "having a1.amount=max(a2.amount)\n"
   ]
  },
  {
   "cell_type": "markdown",
   "metadata": {
    "application/vnd.databricks.v1+cell": {
     "cellMetadata": {},
     "inputWidgets": {},
     "nuid": "4e83830f-40d5-4b27-8c7f-304e92a629bd",
     "showTitle": false,
     "title": ""
    }
   },
   "source": [
    "<h3> solution in pyspark <\\h3>"
   ]
  },
  {
   "cell_type": "code",
   "execution_count": 0,
   "metadata": {
    "application/vnd.databricks.v1+cell": {
     "cellMetadata": {
      "byteLimit": 2048000,
      "rowLimit": 10000
     },
     "inputWidgets": {},
     "nuid": "1a3bae17-fc09-47fa-8ba0-18ea41e35569",
     "showTitle": false,
     "title": ""
    }
   },
   "outputs": [],
   "source": [
    "from pyspark.sql.functions import col,max"
   ]
  },
  {
   "cell_type": "code",
   "execution_count": 0,
   "metadata": {
    "application/vnd.databricks.v1+cell": {
     "cellMetadata": {
      "byteLimit": 2048000,
      "rowLimit": 10000
     },
     "inputWidgets": {},
     "nuid": "055eb4c9-7030-48a2-a051-f04b962c8faa",
     "showTitle": false,
     "title": ""
    }
   },
   "outputs": [
    {
     "output_type": "stream",
     "name": "stdout",
     "output_type": "stream",
     "text": [
      "+------------+----------+-------+--------------+------+\n|order_number|order_date|cust_id|salesperson_id|amount|\n+------------+----------+-------+--------------+------+\n|          10|1996-08-02|      4|             2| 540.0|\n|          50|1998-02-03|      6|             7| 600.0|\n|          60|1998-03-02|      6|             7| 720.0|\n|          70|1998-05-06|      9|             7| 150.0|\n|          20|1999-01-30|      4|             8|1800.0|\n|          30|1995-07-14|      9|             1| 460.0|\n|          40|1998-01-29|      7|             2|2400.0|\n+------------+----------+-------+--------------+------+\n\n"
     ]
    }
   ],
   "source": [
    "df_i=spark.sql(\"select * from int_orders\")\n",
    "df_i.show()"
   ]
  },
  {
   "cell_type": "code",
   "execution_count": 0,
   "metadata": {
    "application/vnd.databricks.v1+cell": {
     "cellMetadata": {
      "byteLimit": 2048000,
      "rowLimit": 10000
     },
     "inputWidgets": {},
     "nuid": "4f8d7f79-bfc8-4487-9feb-3d9eac5707a3",
     "showTitle": false,
     "title": ""
    }
   },
   "outputs": [
    {
     "output_type": "stream",
     "name": "stdout",
     "output_type": "stream",
     "text": [
      "+------------+----------+-------+--------------+------+------+\n|order_number|order_date|cust_id|salesperson_id|amount|   max|\n+------------+----------+-------+--------------+------+------+\n|          20|1999-01-30|      4|             8|1800.0|1800.0|\n|          60|1998-03-02|      6|             7| 720.0| 720.0|\n|          40|1998-01-29|      7|             2|2400.0|2400.0|\n|          30|1995-07-14|      9|             1| 460.0| 460.0|\n+------------+----------+-------+--------------+------+------+\n\n"
     ]
    }
   ],
   "source": [
    "df_i.join(df_i.select(\"salesperson_id\",col(\"amount\").alias(\"amt\")),\"salesperson_id\",\"inner\").\\\n",
    "    groupBy(\"order_number\",\"order_date\",\"cust_id\",\"salesperson_id\",\"amount\").\\\n",
    "        agg(max(\"amt\").alias(\"max\")).filter(col(\"max\")==col(\"amount\")).show()"
   ]
  }
 ],
 "metadata": {
  "application/vnd.databricks.v1+notebook": {
   "dashboards": [],
   "language": "python",
   "notebookMetadata": {
    "mostRecentlyExecutedCommandWithImplicitDF": {
     "commandId": 3055158021508899,
     "dataframes": [
      "_sqldf"
     ]
    },
    "pythonIndentUnit": 4
   },
   "notebookName": "Day 25 Complex SQL",
   "widgets": {}
  }
 },
 "nbformat": 4,
 "nbformat_minor": 0
}
