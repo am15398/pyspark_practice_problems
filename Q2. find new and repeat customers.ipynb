{
 "cells": [
  {
   "cell_type": "markdown",
   "metadata": {
    "application/vnd.databricks.v1+cell": {
     "cellMetadata": {},
     "inputWidgets": {},
     "nuid": "01cd40c7-15d4-4f30-a3dd-c09df7c43eec",
     "showTitle": false,
     "title": ""
    }
   },
   "source": [
    "<h3>Ankit Bansal Complex SQL 2 | find new and repeat customers</h3>"
   ]
  },
  {
   "cell_type": "markdown",
   "metadata": {
    "application/vnd.databricks.v1+cell": {
     "cellMetadata": {},
     "inputWidgets": {},
     "nuid": "3cb4e5fc-cdc2-4fd9-bfa0-19cc7f2e27e1",
     "showTitle": false,
     "title": ""
    }
   },
   "source": [
    "<h2>query data set</h2>"
   ]
  },
  {
   "cell_type": "code",
   "execution_count": 0,
   "metadata": {
    "application/vnd.databricks.v1+cell": {
     "cellMetadata": {
      "byteLimit": 2048000,
      "implicitDf": true,
      "rowLimit": 10000
     },
     "inputWidgets": {},
     "nuid": "36e71637-4912-4006-9d91-ce413f43bc56",
     "showTitle": false,
     "title": ""
    }
   },
   "outputs": [
    {
     "output_type": "display_data",
     "data": {
      "text/html": [
       "<style scoped>\n",
       "  .table-result-container {\n",
       "    max-height: 300px;\n",
       "    overflow: auto;\n",
       "  }\n",
       "  table, th, td {\n",
       "    border: 1px solid black;\n",
       "    border-collapse: collapse;\n",
       "  }\n",
       "  th, td {\n",
       "    padding: 5px;\n",
       "  }\n",
       "  th {\n",
       "    text-align: left;\n",
       "  }\n",
       "</style><div class='table-result-container'><table class='table-result'><thead style='background-color: white'><tr><th>num_affected_rows</th><th>num_inserted_rows</th></tr></thead><tbody><tr><td>9</td><td>9</td></tr></tbody></table></div>"
      ]
     },
     "metadata": {
      "application/vnd.databricks.v1+output": {
       "addedWidgets": {},
       "aggData": [],
       "aggError": "",
       "aggOverflow": false,
       "aggSchema": [],
       "aggSeriesLimitReached": false,
       "aggType": "",
       "arguments": {},
       "columnCustomDisplayInfos": {},
       "data": [
        [
         9,
         9
        ]
       ],
       "datasetInfos": [],
       "dbfsResultPath": null,
       "isJsonSchema": true,
       "metadata": {},
       "overflow": false,
       "plotOptions": {
        "customPlotOptions": {},
        "displayType": "table",
        "pivotAggregation": null,
        "pivotColumns": null,
        "xColumns": null,
        "yColumns": null
       },
       "removedWidgets": [],
       "schema": [
        {
         "metadata": "{}",
         "name": "num_affected_rows",
         "type": "\"long\""
        },
        {
         "metadata": "{}",
         "name": "num_inserted_rows",
         "type": "\"long\""
        }
       ],
       "type": "table"
      }
     },
     "output_type": "display_data"
    }
   ],
   "source": [
    "%sql \n",
    "drop table customer_orders;\n",
    "create table customer_orders (\n",
    "order_id integer,\n",
    "customer_id integer,\n",
    "order_date date,\n",
    "order_amount integer\n",
    ");\n",
    "insert into customer_orders values\n",
    "(1,100,cast('2022-01-01' as date),2000),\n",
    "(2,200,cast('2022-01-01' as date),2500),\n",
    "(3,300,cast('2022-01-01' as date),2100),\n",
    "(4,100,cast('2022-01-02' as date),2000),\n",
    "(5,400,cast('2022-01-02' as date),2200),\n",
    "(6,500,cast('2022-01-02' as date),2700),\n",
    "(7,100,cast('2022-01-03' as date),3000),\n",
    "(8,400,cast('2022-01-03' as date),1000),\n",
    "(9,600,cast('2022-01-03' as date),3000)\n",
    ";"
   ]
  },
  {
   "cell_type": "code",
   "execution_count": 0,
   "metadata": {
    "application/vnd.databricks.v1+cell": {
     "cellMetadata": {
      "byteLimit": 2048000,
      "implicitDf": true,
      "rowLimit": 10000
     },
     "inputWidgets": {},
     "nuid": "90dcfc94-030f-4662-9d71-4ee4cc76e6b6",
     "showTitle": false,
     "title": ""
    }
   },
   "outputs": [
    {
     "output_type": "display_data",
     "data": {
      "text/html": [
       "<style scoped>\n",
       "  .table-result-container {\n",
       "    max-height: 300px;\n",
       "    overflow: auto;\n",
       "  }\n",
       "  table, th, td {\n",
       "    border: 1px solid black;\n",
       "    border-collapse: collapse;\n",
       "  }\n",
       "  th, td {\n",
       "    padding: 5px;\n",
       "  }\n",
       "  th {\n",
       "    text-align: left;\n",
       "  }\n",
       "</style><div class='table-result-container'><table class='table-result'><thead style='background-color: white'><tr><th>order_id</th><th>customer_id</th><th>order_date</th><th>order_amount</th></tr></thead><tbody><tr><td>1</td><td>100</td><td>2022-01-01</td><td>2000</td></tr><tr><td>2</td><td>200</td><td>2022-01-01</td><td>2500</td></tr><tr><td>3</td><td>300</td><td>2022-01-01</td><td>2100</td></tr><tr><td>4</td><td>100</td><td>2022-01-02</td><td>2000</td></tr><tr><td>5</td><td>400</td><td>2022-01-02</td><td>2200</td></tr><tr><td>6</td><td>500</td><td>2022-01-02</td><td>2700</td></tr><tr><td>7</td><td>100</td><td>2022-01-03</td><td>3000</td></tr><tr><td>8</td><td>400</td><td>2022-01-03</td><td>1000</td></tr><tr><td>9</td><td>600</td><td>2022-01-03</td><td>3000</td></tr></tbody></table></div>"
      ]
     },
     "metadata": {
      "application/vnd.databricks.v1+output": {
       "addedWidgets": {},
       "aggData": [],
       "aggError": "",
       "aggOverflow": false,
       "aggSchema": [],
       "aggSeriesLimitReached": false,
       "aggType": "",
       "arguments": {},
       "columnCustomDisplayInfos": {},
       "data": [
        [
         1,
         100,
         "2022-01-01",
         2000
        ],
        [
         2,
         200,
         "2022-01-01",
         2500
        ],
        [
         3,
         300,
         "2022-01-01",
         2100
        ],
        [
         4,
         100,
         "2022-01-02",
         2000
        ],
        [
         5,
         400,
         "2022-01-02",
         2200
        ],
        [
         6,
         500,
         "2022-01-02",
         2700
        ],
        [
         7,
         100,
         "2022-01-03",
         3000
        ],
        [
         8,
         400,
         "2022-01-03",
         1000
        ],
        [
         9,
         600,
         "2022-01-03",
         3000
        ]
       ],
       "datasetInfos": [],
       "dbfsResultPath": null,
       "isJsonSchema": true,
       "metadata": {},
       "overflow": false,
       "plotOptions": {
        "customPlotOptions": {},
        "displayType": "table",
        "pivotAggregation": null,
        "pivotColumns": null,
        "xColumns": null,
        "yColumns": null
       },
       "removedWidgets": [],
       "schema": [
        {
         "metadata": "{}",
         "name": "order_id",
         "type": "\"integer\""
        },
        {
         "metadata": "{}",
         "name": "customer_id",
         "type": "\"integer\""
        },
        {
         "metadata": "{}",
         "name": "order_date",
         "type": "\"date\""
        },
        {
         "metadata": "{}",
         "name": "order_amount",
         "type": "\"integer\""
        }
       ],
       "type": "table"
      }
     },
     "output_type": "display_data"
    }
   ],
   "source": [
    "%sql\n",
    "select * from customer_orders"
   ]
  },
  {
   "cell_type": "markdown",
   "metadata": {
    "application/vnd.databricks.v1+cell": {
     "cellMetadata": {},
     "inputWidgets": {},
     "nuid": "686ff872-720c-4ed6-b5d8-676cfb972232",
     "showTitle": false,
     "title": ""
    }
   },
   "source": [
    "<h2>Solution in sql(hive)</h2>"
   ]
  },
  {
   "cell_type": "code",
   "execution_count": 0,
   "metadata": {
    "application/vnd.databricks.v1+cell": {
     "cellMetadata": {
      "byteLimit": 2048000,
      "implicitDf": true,
      "rowLimit": 10000
     },
     "inputWidgets": {},
     "nuid": "31b92282-d485-4946-ae44-9945b01a81a3",
     "showTitle": false,
     "title": ""
    }
   },
   "outputs": [
    {
     "output_type": "display_data",
     "data": {
      "text/html": [
       "<style scoped>\n",
       "  .table-result-container {\n",
       "    max-height: 300px;\n",
       "    overflow: auto;\n",
       "  }\n",
       "  table, th, td {\n",
       "    border: 1px solid black;\n",
       "    border-collapse: collapse;\n",
       "  }\n",
       "  th, td {\n",
       "    padding: 5px;\n",
       "  }\n",
       "  th {\n",
       "    text-align: left;\n",
       "  }\n",
       "</style><div class='table-result-container'><table class='table-result'><thead style='background-color: white'><tr><th>order_date</th><th>first_vist</th><th>repeate_vist</th></tr></thead><tbody><tr><td>2022-01-03</td><td>1</td><td>2</td></tr><tr><td>2022-01-01</td><td>3</td><td>0</td></tr><tr><td>2022-01-02</td><td>2</td><td>1</td></tr></tbody></table></div>"
      ]
     },
     "metadata": {
      "application/vnd.databricks.v1+output": {
       "addedWidgets": {},
       "aggData": [],
       "aggError": "",
       "aggOverflow": false,
       "aggSchema": [],
       "aggSeriesLimitReached": false,
       "aggType": "",
       "arguments": {},
       "columnCustomDisplayInfos": {},
       "data": [
        [
         "2022-01-03",
         1,
         2
        ],
        [
         "2022-01-01",
         3,
         0
        ],
        [
         "2022-01-02",
         2,
         1
        ]
       ],
       "datasetInfos": [],
       "dbfsResultPath": null,
       "isJsonSchema": true,
       "metadata": {},
       "overflow": false,
       "plotOptions": {
        "customPlotOptions": {},
        "displayType": "table",
        "pivotAggregation": null,
        "pivotColumns": null,
        "xColumns": null,
        "yColumns": null
       },
       "removedWidgets": [],
       "schema": [
        {
         "metadata": "{}",
         "name": "order_date",
         "type": "\"date\""
        },
        {
         "metadata": "{}",
         "name": "first_vist",
         "type": "\"long\""
        },
        {
         "metadata": "{}",
         "name": "repeate_vist",
         "type": "\"long\""
        }
       ],
       "type": "table"
      }
     },
     "output_type": "display_data"
    }
   ],
   "source": [
    "%sql \n",
    "select c1.order_date, \n",
    "sum(case \n",
    "  when c1.order_date=c2.fst_dt then 1 else 0 end) as first_vist,\n",
    "sum(case \n",
    "  when c1.order_date!=c2.fst_dt then 1 else 0 end) as repeate_vist\n",
    " from customer_orders c1\n",
    "left join (\n",
    "  select customer_id,min(order_date) as fst_dt from  customer_orders group by customer_id\n",
    ") c2 on c1.customer_id=c2.customer_id\n",
    "group by c1.order_date\n"
   ]
  },
  {
   "cell_type": "markdown",
   "metadata": {
    "application/vnd.databricks.v1+cell": {
     "cellMetadata": {},
     "inputWidgets": {},
     "nuid": "946dd3e7-ab26-4c11-974f-ef258866767d",
     "showTitle": false,
     "title": ""
    }
   },
   "source": [
    "<h2>Solution in Pyspark</h2>"
   ]
  },
  {
   "cell_type": "code",
   "execution_count": 0,
   "metadata": {
    "application/vnd.databricks.v1+cell": {
     "cellMetadata": {
      "byteLimit": 2048000,
      "rowLimit": 10000
     },
     "inputWidgets": {},
     "nuid": "f46f5510-475a-42e7-aed9-78736f57fd43",
     "showTitle": false,
     "title": ""
    }
   },
   "outputs": [],
   "source": [
    "from pyspark.sql.functions import col\n",
    "from pyspark.sql.functions import min\n",
    "from pyspark.sql.functions import when\n",
    "from pyspark.sql.functions import sum"
   ]
  },
  {
   "cell_type": "code",
   "execution_count": 0,
   "metadata": {
    "application/vnd.databricks.v1+cell": {
     "cellMetadata": {
      "byteLimit": 2048000,
      "rowLimit": 10000
     },
     "inputWidgets": {},
     "nuid": "cd5e63c6-0311-4771-bac3-b306e7a03d1f",
     "showTitle": false,
     "title": ""
    }
   },
   "outputs": [
    {
     "output_type": "stream",
     "name": "stdout",
     "output_type": "stream",
     "text": [
      "+--------+-----------+----------+------------+\n|order_id|customer_id|order_date|order_amount|\n+--------+-----------+----------+------------+\n|       1|        100|2022-01-01|        2000|\n|       2|        200|2022-01-01|        2500|\n|       3|        300|2022-01-01|        2100|\n|       4|        100|2022-01-02|        2000|\n|       5|        400|2022-01-02|        2200|\n|       6|        500|2022-01-02|        2700|\n|       7|        100|2022-01-03|        3000|\n|       8|        400|2022-01-03|        1000|\n|       9|        600|2022-01-03|        3000|\n+--------+-----------+----------+------------+\n\n"
     ]
    }
   ],
   "source": [
    "# put data in pyspark data frame from the hive table\n",
    "df=spark.sql(\"select * from customer_orders\")\n",
    "df.show()"
   ]
  },
  {
   "cell_type": "code",
   "execution_count": 0,
   "metadata": {
    "application/vnd.databricks.v1+cell": {
     "cellMetadata": {
      "byteLimit": 2048000,
      "rowLimit": 10000
     },
     "inputWidgets": {},
     "nuid": "90e99ae1-543e-4256-a91c-acef1aa70610",
     "showTitle": false,
     "title": ""
    }
   },
   "outputs": [
    {
     "output_type": "stream",
     "name": "stdout",
     "output_type": "stream",
     "text": [
      "+----------+----------+------------+\n|order_date|first_vist|repeate_vist|\n+----------+----------+------------+\n|2022-01-03|         1|           2|\n|2022-01-01|         3|           0|\n|2022-01-02|         2|           1|\n+----------+----------+------------+\n\n"
     ]
    }
   ],
   "source": [
    "df_fst=df.groupBy(\"customer_id\").agg(min(\"order_date\").alias(\"fst_dt\"))\n",
    "df_vist=df.join(df_fst,df.customer_id==df_fst.customer_id,\"inner\").withColumn(\"first_vist\",\\\n",
    "    when(df[\"order_date\"]==df_fst[\"fst_dt\"],1).otherwise(0))\\\n",
    "    .withColumn(\"repeate_vist\",\\\n",
    "    when(df[\"order_date\"]!=df_fst[\"fst_dt\"],1).otherwise(0))\n",
    "df_final=df_vist.groupBy(\"order_date\").agg(sum(\"first_vist\").alias(\"first_vist\"),\\\n",
    "    sum(\"repeate_vist\").alias(\"repeate_vist\"))\n",
    "df_final.show()"
   ]
  }
 ],
 "metadata": {
  "application/vnd.databricks.v1+notebook": {
   "dashboards": [],
   "language": "python",
   "notebookMetadata": {
    "mostRecentlyExecutedCommandWithImplicitDF": {
     "commandId": 1736595202135488,
     "dataframes": [
      "_sqldf"
     ]
    },
    "pythonIndentUnit": 4
   },
   "notebookName": "Q2. find new and repeat customers",
   "widgets": {}
  }
 },
 "nbformat": 4,
 "nbformat_minor": 0
}
