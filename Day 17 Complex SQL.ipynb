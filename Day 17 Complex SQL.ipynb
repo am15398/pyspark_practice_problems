{
 "cells": [
  {
   "cell_type": "markdown",
   "metadata": {
    "application/vnd.databricks.v1+cell": {
     "cellMetadata": {
      "byteLimit": 2048000,
      "rowLimit": 10000
     },
     "inputWidgets": {},
     "nuid": "e70e8228-7c1e-4500-9e88-c21db34150fb",
     "showTitle": false,
     "title": ""
    }
   },
   "source": [
    "<h3> How to Write Advance SQL Queries | Consecutive Empty Seats | SQL Interview Questions </h3>"
   ]
  },
  {
   "cell_type": "code",
   "execution_count": 0,
   "metadata": {
    "application/vnd.databricks.v1+cell": {
     "cellMetadata": {
      "byteLimit": 2048000,
      "implicitDf": true,
      "rowLimit": 10000
     },
     "inputWidgets": {},
     "nuid": "655712c8-912b-4eaa-af3d-6f306f74fe4d",
     "showTitle": false,
     "title": ""
    }
   },
   "outputs": [
    {
     "output_type": "display_data",
     "data": {
      "text/html": [
       "<style scoped>\n",
       "  .table-result-container {\n",
       "    max-height: 300px;\n",
       "    overflow: auto;\n",
       "  }\n",
       "  table, th, td {\n",
       "    border: 1px solid black;\n",
       "    border-collapse: collapse;\n",
       "  }\n",
       "  th, td {\n",
       "    padding: 5px;\n",
       "  }\n",
       "  th {\n",
       "    text-align: left;\n",
       "  }\n",
       "</style><div class='table-result-container'><table class='table-result'><thead style='background-color: white'><tr><th>num_affected_rows</th><th>num_inserted_rows</th></tr></thead><tbody><tr><td>14</td><td>14</td></tr></tbody></table></div>"
      ]
     },
     "metadata": {
      "application/vnd.databricks.v1+output": {
       "addedWidgets": {},
       "aggData": [],
       "aggError": "",
       "aggOverflow": false,
       "aggSchema": [],
       "aggSeriesLimitReached": false,
       "aggType": "",
       "arguments": {},
       "columnCustomDisplayInfos": {},
       "data": [
        [
         14,
         14
        ]
       ],
       "datasetInfos": [],
       "dbfsResultPath": null,
       "isJsonSchema": true,
       "metadata": {},
       "overflow": false,
       "plotOptions": {
        "customPlotOptions": {},
        "displayType": "table",
        "pivotAggregation": null,
        "pivotColumns": null,
        "xColumns": null,
        "yColumns": null
       },
       "removedWidgets": [],
       "schema": [
        {
         "metadata": "{}",
         "name": "num_affected_rows",
         "type": "\"long\""
        },
        {
         "metadata": "{}",
         "name": "num_inserted_rows",
         "type": "\"long\""
        }
       ],
       "type": "table"
      }
     },
     "output_type": "display_data"
    }
   ],
   "source": [
    "%sql\n",
    "create table bms (seat_no int ,is_empty varchar(10));\n",
    "insert into bms values\n",
    "(1,'N')\n",
    ",(2,'Y')\n",
    ",(3,'N')\n",
    ",(4,'Y')\n",
    ",(5,'Y')\n",
    ",(6,'Y')\n",
    ",(7,'N')\n",
    ",(8,'Y')\n",
    ",(9,'Y')\n",
    ",(10,'Y')\n",
    ",(11,'Y')\n",
    ",(12,'N')\n",
    ",(13,'Y')\n",
    ",(14,'Y');"
   ]
  },
  {
   "cell_type": "code",
   "execution_count": 0,
   "metadata": {
    "application/vnd.databricks.v1+cell": {
     "cellMetadata": {
      "byteLimit": 2048000,
      "implicitDf": true,
      "rowLimit": 10000
     },
     "inputWidgets": {},
     "nuid": "a6c83937-1937-4960-b1e2-9fa1790ede4f",
     "showTitle": false,
     "title": ""
    }
   },
   "outputs": [
    {
     "output_type": "display_data",
     "data": {
      "text/html": [
       "<style scoped>\n",
       "  .table-result-container {\n",
       "    max-height: 300px;\n",
       "    overflow: auto;\n",
       "  }\n",
       "  table, th, td {\n",
       "    border: 1px solid black;\n",
       "    border-collapse: collapse;\n",
       "  }\n",
       "  th, td {\n",
       "    padding: 5px;\n",
       "  }\n",
       "  th {\n",
       "    text-align: left;\n",
       "  }\n",
       "</style><div class='table-result-container'><table class='table-result'><thead style='background-color: white'><tr><th>seat_no</th></tr></thead><tbody><tr><td>6</td></tr><tr><td>5</td></tr><tr><td>9</td></tr><tr><td>4</td></tr><tr><td>8</td></tr><tr><td>10</td></tr><tr><td>11</td></tr></tbody></table></div>"
      ]
     },
     "metadata": {
      "application/vnd.databricks.v1+output": {
       "addedWidgets": {},
       "aggData": [],
       "aggError": "",
       "aggOverflow": false,
       "aggSchema": [],
       "aggSeriesLimitReached": false,
       "aggType": "",
       "arguments": {},
       "columnCustomDisplayInfos": {},
       "data": [
        [
         6
        ],
        [
         5
        ],
        [
         9
        ],
        [
         4
        ],
        [
         8
        ],
        [
         10
        ],
        [
         11
        ]
       ],
       "datasetInfos": [],
       "dbfsResultPath": null,
       "isJsonSchema": true,
       "metadata": {},
       "overflow": false,
       "plotOptions": {
        "customPlotOptions": {},
        "displayType": "table",
        "pivotAggregation": null,
        "pivotColumns": null,
        "xColumns": null,
        "yColumns": null
       },
       "removedWidgets": [],
       "schema": [
        {
         "metadata": "{}",
         "name": "seat_no",
         "type": "\"integer\""
        }
       ],
       "type": "table"
      }
     },
     "output_type": "display_data"
    }
   ],
   "source": [
    "%sql\n",
    "with cte as(\n",
    "select *,lag(is_empty,1,'N')over(order by seat_no asc) as lag1,\n",
    "lag(is_empty,2,'N')over(order by seat_no asc) as lag2 from bms\n",
    ")\n",
    "select distinct bms.seat_no from bms \n",
    "inner join(\n",
    "select seat_no from cte where is_empty='Y' AND LAG1='Y' AND LAG2='Y'\n",
    ")a on (bms.seat_no<=a.seat_no and bms.seat_no>=a.seat_no-2)\n"
   ]
  },
  {
   "cell_type": "code",
   "execution_count": 0,
   "metadata": {
    "application/vnd.databricks.v1+cell": {
     "cellMetadata": {
      "byteLimit": 2048000,
      "implicitDf": true,
      "rowLimit": 10000
     },
     "inputWidgets": {},
     "nuid": "462628d4-71fe-45f6-a5b7-e2efa66cc689",
     "showTitle": false,
     "title": ""
    }
   },
   "outputs": [
    {
     "output_type": "display_data",
     "data": {
      "text/html": [
       "<style scoped>\n",
       "  .table-result-container {\n",
       "    max-height: 300px;\n",
       "    overflow: auto;\n",
       "  }\n",
       "  table, th, td {\n",
       "    border: 1px solid black;\n",
       "    border-collapse: collapse;\n",
       "  }\n",
       "  th, td {\n",
       "    padding: 5px;\n",
       "  }\n",
       "  th {\n",
       "    text-align: left;\n",
       "  }\n",
       "</style><div class='table-result-container'><table class='table-result'><thead style='background-color: white'><tr><th>seat_no</th></tr></thead><tbody><tr><td>4</td></tr><tr><td>5</td></tr><tr><td>6</td></tr><tr><td>8</td></tr><tr><td>9</td></tr><tr><td>10</td></tr><tr><td>11</td></tr></tbody></table></div>"
      ]
     },
     "metadata": {
      "application/vnd.databricks.v1+output": {
       "addedWidgets": {},
       "aggData": [],
       "aggError": "",
       "aggOverflow": false,
       "aggSchema": [],
       "aggSeriesLimitReached": false,
       "aggType": "",
       "arguments": {},
       "columnCustomDisplayInfos": {},
       "data": [
        [
         4
        ],
        [
         5
        ],
        [
         6
        ],
        [
         8
        ],
        [
         9
        ],
        [
         10
        ],
        [
         11
        ]
       ],
       "datasetInfos": [],
       "dbfsResultPath": null,
       "isJsonSchema": true,
       "metadata": {},
       "overflow": false,
       "plotOptions": {
        "customPlotOptions": {},
        "displayType": "table",
        "pivotAggregation": null,
        "pivotColumns": null,
        "xColumns": null,
        "yColumns": null
       },
       "removedWidgets": [],
       "schema": [
        {
         "metadata": "{}",
         "name": "seat_no",
         "type": "\"integer\""
        }
       ],
       "type": "table"
      }
     },
     "output_type": "display_data"
    }
   ],
   "source": [
    "%sql\n",
    "with cte as(\n",
    "select *,seat_no-rn as diff from(\n",
    "select *,row_number()over(order by seat_no)rn from bms where is_empty='Y'))\n",
    "\n",
    "select seat_no from cte where diff in(\n",
    "select diff from (\n",
    "select diff,count(*) from cte\n",
    "group by diff\n",
    "having count(*)>2)a\n",
    ")"
   ]
  },
  {
   "cell_type": "markdown",
   "metadata": {
    "application/vnd.databricks.v1+cell": {
     "cellMetadata": {},
     "inputWidgets": {},
     "nuid": "a252bf52-2467-4410-820f-eb60b3545025",
     "showTitle": false,
     "title": ""
    }
   },
   "source": [
    "<h3> solution in pyspark <\\h3>"
   ]
  },
  {
   "cell_type": "code",
   "execution_count": 0,
   "metadata": {
    "application/vnd.databricks.v1+cell": {
     "cellMetadata": {
      "byteLimit": 2048000,
      "rowLimit": 10000
     },
     "inputWidgets": {},
     "nuid": "8991586e-ebbf-4b9e-873f-d437635388fd",
     "showTitle": false,
     "title": ""
    }
   },
   "outputs": [],
   "source": [
    "from pyspark.sql.functions import lag,row_number,col\n",
    "from pyspark.sql.window import Window"
   ]
  },
  {
   "cell_type": "code",
   "execution_count": 0,
   "metadata": {
    "application/vnd.databricks.v1+cell": {
     "cellMetadata": {
      "byteLimit": 2048000,
      "rowLimit": 10000
     },
     "inputWidgets": {},
     "nuid": "771ae21d-14f1-4316-ba01-3125a859fb04",
     "showTitle": false,
     "title": ""
    }
   },
   "outputs": [
    {
     "output_type": "stream",
     "name": "stdout",
     "output_type": "stream",
     "text": [
      "+-------+--------+\n|seat_no|is_empty|\n+-------+--------+\n|      1|       N|\n|      2|       Y|\n|      3|       N|\n|      4|       Y|\n|      5|       Y|\n|      6|       Y|\n|      7|       N|\n|      8|       Y|\n|      9|       Y|\n|     10|       Y|\n|     11|       Y|\n|     12|       N|\n|     13|       Y|\n|     14|       Y|\n+-------+--------+\n\n"
     ]
    }
   ],
   "source": [
    "df_b=spark.sql(\"select * from bms\")\n",
    "df_b.show()"
   ]
  },
  {
   "cell_type": "code",
   "execution_count": 0,
   "metadata": {
    "application/vnd.databricks.v1+cell": {
     "cellMetadata": {
      "byteLimit": 2048000,
      "rowLimit": 10000
     },
     "inputWidgets": {},
     "nuid": "4dca3f44-1b80-4f9c-9602-e4432b72e5c6",
     "showTitle": false,
     "title": ""
    }
   },
   "outputs": [
    {
     "output_type": "stream",
     "name": "stdout",
     "output_type": "stream",
     "text": [
      "+-------+\n|seat_no|\n+-------+\n|      4|\n|      5|\n|      6|\n|      8|\n|      9|\n|     10|\n|     11|\n+-------+\n\n"
     ]
    }
   ],
   "source": [
    "df_a=df_b.withColumn(\"lag1\",lag(\"is_empty\",1).over(Window.orderBy(\"seat_no\"))).\\\n",
    "    withColumn(\"lag2\",lag(\"is_empty\",2).over(Window.orderBy(\"seat_no\"))).\\\n",
    "        filter((col(\"is_empty\")==\"Y\")&(col(\"lag1\")==\"Y\")&(col(\"lag2\")==\"Y\")).select(col(\"seat_no\").alias(\"st_no\"))\n",
    "df_b.join(df_a,(df_b.seat_no<=df_a.st_no)&(df_b.seat_no>=df_a.st_no-2),\"inner\")\\\n",
    "    .select(\"seat_no\").distinct().orderBy(\"seat_no\").show()\n"
   ]
  },
  {
   "cell_type": "code",
   "execution_count": 0,
   "metadata": {
    "application/vnd.databricks.v1+cell": {
     "cellMetadata": {
      "byteLimit": 2048000,
      "rowLimit": 10000
     },
     "inputWidgets": {},
     "nuid": "ae62edae-2a37-4ec9-a99c-c4d3dd53c12f",
     "showTitle": false,
     "title": ""
    }
   },
   "outputs": [
    {
     "output_type": "stream",
     "name": "stdout",
     "output_type": "stream",
     "text": [
      "+-------+\n|seat_no|\n+-------+\n|      4|\n|      5|\n|      6|\n|      8|\n|      9|\n|     10|\n|     11|\n+-------+\n\n"
     ]
    }
   ],
   "source": [
    "df_a=df_b.filter(col(\"is_empty\")==\"Y\").withColumn(\"rnk\",row_number().over(Window.orderBy(\"seat_no\")))\n",
    "df_a1=df_a.withColumn(\"diff\",col(\"seat_no\")-col(\"rnk\"))\n",
    "df_a1.groupBy(\"diff\").count().filter(col(\"count\")>2).select(\"diff\")\n",
    "df_a1.join(df,\"diff\",\"inner\").select(\"seat_no\").show()"
   ]
  }
 ],
 "metadata": {
  "application/vnd.databricks.v1+notebook": {
   "dashboards": [],
   "language": "python",
   "notebookMetadata": {
    "mostRecentlyExecutedCommandWithImplicitDF": {
     "commandId": 380643482579502,
     "dataframes": [
      "_sqldf"
     ]
    },
    "pythonIndentUnit": 4
   },
   "notebookName": "Day 17 Complex SQL",
   "widgets": {}
  }
 },
 "nbformat": 4,
 "nbformat_minor": 0
}
