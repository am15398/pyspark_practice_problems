{
 "cells": [
  {
   "cell_type": "markdown",
   "metadata": {
    "application/vnd.databricks.v1+cell": {
     "cellMetadata": {},
     "inputWidgets": {},
     "nuid": "e70e8228-7c1e-4500-9e88-c21db34150fb",
     "showTitle": false,
     "title": ""
    }
   },
   "source": [
    "<h3> Leetcode Hard Problem 4 | User Purchase Platform | Complex SQL 11 </h3>"
   ]
  },
  {
   "cell_type": "code",
   "execution_count": 0,
   "metadata": {
    "application/vnd.databricks.v1+cell": {
     "cellMetadata": {
      "byteLimit": 2048000,
      "implicitDf": true,
      "rowLimit": 10000
     },
     "inputWidgets": {},
     "nuid": "58741a57-573d-4fa3-963d-823b3369facc",
     "showTitle": false,
     "title": ""
    }
   },
   "outputs": [
    {
     "output_type": "display_data",
     "data": {
      "text/html": [
       "<style scoped>\n",
       "  .table-result-container {\n",
       "    max-height: 300px;\n",
       "    overflow: auto;\n",
       "  }\n",
       "  table, th, td {\n",
       "    border: 1px solid black;\n",
       "    border-collapse: collapse;\n",
       "  }\n",
       "  th, td {\n",
       "    padding: 5px;\n",
       "  }\n",
       "  th {\n",
       "    text-align: left;\n",
       "  }\n",
       "</style><div class='table-result-container'><table class='table-result'><thead style='background-color: white'><tr><th>num_affected_rows</th><th>num_inserted_rows</th></tr></thead><tbody><tr><td>6</td><td>6</td></tr></tbody></table></div>"
      ]
     },
     "metadata": {
      "application/vnd.databricks.v1+output": {
       "addedWidgets": {},
       "aggData": [],
       "aggError": "",
       "aggOverflow": false,
       "aggSchema": [],
       "aggSeriesLimitReached": false,
       "aggType": "",
       "arguments": {},
       "columnCustomDisplayInfos": {},
       "data": [
        [
         6,
         6
        ]
       ],
       "datasetInfos": [],
       "dbfsResultPath": null,
       "isJsonSchema": true,
       "metadata": {},
       "overflow": false,
       "plotOptions": {
        "customPlotOptions": {},
        "displayType": "table",
        "pivotAggregation": null,
        "pivotColumns": null,
        "xColumns": null,
        "yColumns": null
       },
       "removedWidgets": [],
       "schema": [
        {
         "metadata": "{}",
         "name": "num_affected_rows",
         "type": "\"long\""
        },
        {
         "metadata": "{}",
         "name": "num_inserted_rows",
         "type": "\"long\""
        }
       ],
       "type": "table"
      }
     },
     "output_type": "display_data"
    }
   ],
   "source": [
    "%sql\n",
    "create table spending \n",
    "(\n",
    "user_id int,\n",
    "spend_date date,\n",
    "platform varchar(10),\n",
    "amount int\n",
    ");\n",
    "\n",
    "insert into spending values(1,'2019-07-01','mobile',100),(1,'2019-07-01','desktop',100),(2,'2019-07-01','mobile',100)\n",
    ",(2,'2019-07-02','mobile',100),(3,'2019-07-01','desktop',100),(3,'2019-07-02','desktop',100);"
   ]
  },
  {
   "cell_type": "code",
   "execution_count": 0,
   "metadata": {
    "application/vnd.databricks.v1+cell": {
     "cellMetadata": {
      "byteLimit": 2048000,
      "implicitDf": true,
      "rowLimit": 10000
     },
     "inputWidgets": {},
     "nuid": "0de2e4c6-2bd0-4f7f-81cd-100108dbbe04",
     "showTitle": false,
     "title": ""
    }
   },
   "outputs": [
    {
     "output_type": "display_data",
     "data": {
      "text/html": [
       "<style scoped>\n",
       "  .table-result-container {\n",
       "    max-height: 300px;\n",
       "    overflow: auto;\n",
       "  }\n",
       "  table, th, td {\n",
       "    border: 1px solid black;\n",
       "    border-collapse: collapse;\n",
       "  }\n",
       "  th, td {\n",
       "    padding: 5px;\n",
       "  }\n",
       "  th {\n",
       "    text-align: left;\n",
       "  }\n",
       "</style><div class='table-result-container'><table class='table-result'><thead style='background-color: white'><tr><th>user_id</th><th>spend_date</th><th>platform</th><th>amount</th></tr></thead><tbody><tr><td>1</td><td>2019-07-01</td><td>mobile</td><td>100</td></tr><tr><td>1</td><td>2019-07-01</td><td>desktop</td><td>100</td></tr><tr><td>2</td><td>2019-07-01</td><td>mobile</td><td>100</td></tr><tr><td>2</td><td>2019-07-02</td><td>mobile</td><td>100</td></tr><tr><td>3</td><td>2019-07-01</td><td>desktop</td><td>100</td></tr><tr><td>3</td><td>2019-07-02</td><td>desktop</td><td>100</td></tr></tbody></table></div>"
      ]
     },
     "metadata": {
      "application/vnd.databricks.v1+output": {
       "addedWidgets": {},
       "aggData": [],
       "aggError": "",
       "aggOverflow": false,
       "aggSchema": [],
       "aggSeriesLimitReached": false,
       "aggType": "",
       "arguments": {},
       "columnCustomDisplayInfos": {},
       "data": [
        [
         1,
         "2019-07-01",
         "mobile",
         100
        ],
        [
         1,
         "2019-07-01",
         "desktop",
         100
        ],
        [
         2,
         "2019-07-01",
         "mobile",
         100
        ],
        [
         2,
         "2019-07-02",
         "mobile",
         100
        ],
        [
         3,
         "2019-07-01",
         "desktop",
         100
        ],
        [
         3,
         "2019-07-02",
         "desktop",
         100
        ]
       ],
       "datasetInfos": [],
       "dbfsResultPath": null,
       "isJsonSchema": true,
       "metadata": {},
       "overflow": false,
       "plotOptions": {
        "customPlotOptions": {},
        "displayType": "table",
        "pivotAggregation": null,
        "pivotColumns": null,
        "xColumns": null,
        "yColumns": null
       },
       "removedWidgets": [],
       "schema": [
        {
         "metadata": "{}",
         "name": "user_id",
         "type": "\"integer\""
        },
        {
         "metadata": "{}",
         "name": "spend_date",
         "type": "\"date\""
        },
        {
         "metadata": "{\"__CHAR_VARCHAR_TYPE_STRING\":\"varchar(10)\"}",
         "name": "platform",
         "type": "\"string\""
        },
        {
         "metadata": "{}",
         "name": "amount",
         "type": "\"integer\""
        }
       ],
       "type": "table"
      }
     },
     "output_type": "display_data"
    }
   ],
   "source": [
    "%sql\n",
    "select * from spending"
   ]
  },
  {
   "cell_type": "markdown",
   "metadata": {
    "application/vnd.databricks.v1+cell": {
     "cellMetadata": {},
     "inputWidgets": {},
     "nuid": "e8defe35-87a3-4ff8-b703-37a6b8452f17",
     "showTitle": false,
     "title": ""
    }
   },
   "source": [
    "<h3> Solution in sql(hive) </h3>"
   ]
  },
  {
   "cell_type": "code",
   "execution_count": 0,
   "metadata": {
    "application/vnd.databricks.v1+cell": {
     "cellMetadata": {
      "byteLimit": 2048000,
      "implicitDf": true,
      "rowLimit": 10000
     },
     "inputWidgets": {},
     "nuid": "c8a0592d-cbf4-46b2-8396-8aac8eaad6b4",
     "showTitle": false,
     "title": ""
    }
   },
   "outputs": [
    {
     "output_type": "display_data",
     "data": {
      "text/html": [
       "<style scoped>\n",
       "  .table-result-container {\n",
       "    max-height: 300px;\n",
       "    overflow: auto;\n",
       "  }\n",
       "  table, th, td {\n",
       "    border: 1px solid black;\n",
       "    border-collapse: collapse;\n",
       "  }\n",
       "  th, td {\n",
       "    padding: 5px;\n",
       "  }\n",
       "  th {\n",
       "    text-align: left;\n",
       "  }\n",
       "</style><div class='table-result-container'><table class='table-result'><thead style='background-color: white'><tr><th>spend_date</th><th>platform</th><th>total_amount</th><th>total_user</th></tr></thead><tbody><tr><td>2019-07-01</td><td>mobile</td><td>100</td><td>1</td></tr><tr><td>2019-07-01</td><td>desktop</td><td>100</td><td>1</td></tr><tr><td>2019-07-01</td><td>both</td><td>200</td><td>1</td></tr><tr><td>2019-07-02</td><td>mobile</td><td>100</td><td>1</td></tr><tr><td>2019-07-02</td><td>desktop</td><td>100</td><td>1</td></tr><tr><td>2019-07-02</td><td>both</td><td>0</td><td>0</td></tr></tbody></table></div>"
      ]
     },
     "metadata": {
      "application/vnd.databricks.v1+output": {
       "addedWidgets": {},
       "aggData": [],
       "aggError": "",
       "aggOverflow": false,
       "aggSchema": [],
       "aggSeriesLimitReached": false,
       "aggType": "",
       "arguments": {},
       "columnCustomDisplayInfos": {},
       "data": [
        [
         "2019-07-01",
         "mobile",
         100,
         1
        ],
        [
         "2019-07-01",
         "desktop",
         100,
         1
        ],
        [
         "2019-07-01",
         "both",
         200,
         1
        ],
        [
         "2019-07-02",
         "mobile",
         100,
         1
        ],
        [
         "2019-07-02",
         "desktop",
         100,
         1
        ],
        [
         "2019-07-02",
         "both",
         0,
         0
        ]
       ],
       "datasetInfos": [],
       "dbfsResultPath": null,
       "isJsonSchema": true,
       "metadata": {},
       "overflow": false,
       "plotOptions": {
        "customPlotOptions": {},
        "displayType": "table",
        "pivotAggregation": null,
        "pivotColumns": null,
        "xColumns": null,
        "yColumns": null
       },
       "removedWidgets": [],
       "schema": [
        {
         "metadata": "{}",
         "name": "spend_date",
         "type": "\"date\""
        },
        {
         "metadata": "{}",
         "name": "platform",
         "type": "\"string\""
        },
        {
         "metadata": "{}",
         "name": "total_amount",
         "type": "\"long\""
        },
        {
         "metadata": "{}",
         "name": "total_user",
         "type": "\"long\""
        }
       ],
       "type": "table"
      }
     },
     "output_type": "display_data"
    }
   ],
   "source": [
    "%sql \n",
    "with cte as(\n",
    "select spend_date,sum(amount)amount,count(distinct user_id)user_count,\n",
    "case when count(user_id)>1 then 'both' else max(platform) end as platform\n",
    " from spending\n",
    " group by spend_date,user_id\n",
    " UNION\n",
    "SELECT spend_date, 0 as Amount, 0 as Users_Count,'both' AS PlatformName\n",
    "FROM spending\n",
    "GROUP BY  spend_date)\n",
    "select spend_date,platform,sum(amount)as total_amount,sum(user_count)as total_user from cte\n",
    "group by spend_date,platform\n",
    "order by spend_date,platform desc"
   ]
  },
  {
   "cell_type": "markdown",
   "metadata": {
    "application/vnd.databricks.v1+cell": {
     "cellMetadata": {},
     "inputWidgets": {},
     "nuid": "aa10ab13-cd45-4ad9-942e-d81ee2ce70d5",
     "showTitle": false,
     "title": ""
    }
   },
   "source": [
    "<h3> Solution in pyspark </h3>"
   ]
  },
  {
   "cell_type": "code",
   "execution_count": 0,
   "metadata": {
    "application/vnd.databricks.v1+cell": {
     "cellMetadata": {
      "byteLimit": 2048000,
      "rowLimit": 10000
     },
     "inputWidgets": {},
     "nuid": "8991586e-ebbf-4b9e-873f-d437635388fd",
     "showTitle": false,
     "title": ""
    }
   },
   "outputs": [],
   "source": [
    "from pyspark.sql.functions import col,countDistinct,sum,lit,count,max\n",
    "from pyspark.sql.window import Window"
   ]
  },
  {
   "cell_type": "code",
   "execution_count": 0,
   "metadata": {
    "application/vnd.databricks.v1+cell": {
     "cellMetadata": {
      "byteLimit": 2048000,
      "rowLimit": 10000
     },
     "inputWidgets": {},
     "nuid": "06b99aaf-cfd2-487e-b7b4-21a7192dca89",
     "showTitle": false,
     "title": ""
    }
   },
   "outputs": [
    {
     "output_type": "stream",
     "name": "stdout",
     "output_type": "stream",
     "text": [
      "+-------+----------+--------+------+\n|user_id|spend_date|platform|amount|\n+-------+----------+--------+------+\n|      1|2019-07-01|  mobile|   100|\n|      1|2019-07-01| desktop|   100|\n|      2|2019-07-01|  mobile|   100|\n|      2|2019-07-02|  mobile|   100|\n|      3|2019-07-01| desktop|   100|\n|      3|2019-07-02| desktop|   100|\n+-------+----------+--------+------+\n\n"
     ]
    }
   ],
   "source": [
    "df_s=spark.sql(\"select * from spending\")\n",
    "df_s.show()"
   ]
  },
  {
   "cell_type": "code",
   "execution_count": 0,
   "metadata": {
    "application/vnd.databricks.v1+cell": {
     "cellMetadata": {
      "byteLimit": 2048000,
      "rowLimit": 10000
     },
     "inputWidgets": {},
     "nuid": "87457f5b-c0a2-4d62-a9e9-cbc36f8fe1f2",
     "showTitle": false,
     "title": ""
    }
   },
   "outputs": [
    {
     "output_type": "stream",
     "name": "stdout",
     "output_type": "stream",
     "text": [
      "+----------+--------+------------+----------+\n|spend_date|platform|total_amount|total_user|\n+----------+--------+------------+----------+\n|2019-07-01|  mobile|         100|         1|\n|2019-07-01| desktop|         100|         1|\n|2019-07-01|    both|         200|         1|\n|2019-07-02|  mobile|         100|         1|\n|2019-07-02| desktop|         100|         1|\n|2019-07-02|    both|           0|         0|\n+----------+--------+------------+----------+\n\n"
     ]
    }
   ],
   "source": [
    "df_t=df_s.groupBy(\"spend_date\",\"user_id\").agg(sum(col(\"amount\")).alias(\"amt\"),\\\n",
    "    countDistinct(\"user_id\").alias(\"tot_user\"),count(\"user_id\").alias(\"cnt\"),max(\"platform\").alias(\"platform1\"))\n",
    "df_p=df_t.withColumn(\"platform\",when(col(\"cnt\")>1,\"both\").otherwise(col(\"platform1\")))\n",
    "df_f=df_p.select(\"spend_date\",\"amt\",\"tot_user\",\"platform\").unionAll(df_s.groupBy(\"spend_date\").\\\n",
    "    agg(lit(0).alias(\"amt\"),lit(0).alias(\"tot_user\"),lit(\"both\").alias(\"platform\")))\n",
    "df_f.groupBy(\"spend_date\",\"platform\").agg(sum(\"amt\").alias(\"total_amount\"),sum(\"tot_user\").alias(\"total_user\"))\\\n",
    "    .orderBy(\"spend_date\",col(\"platform\").desc()).show()\n"
   ]
  }
 ],
 "metadata": {
  "application/vnd.databricks.v1+notebook": {
   "dashboards": [],
   "language": "python",
   "notebookMetadata": {
    "mostRecentlyExecutedCommandWithImplicitDF": {
     "commandId": 1214035745514416,
     "dataframes": [
      "_sqldf"
     ]
    },
    "pythonIndentUnit": 4
   },
   "notebookName": "9. Complex SQL",
   "widgets": {}
  }
 },
 "nbformat": 4,
 "nbformat_minor": 0
}
