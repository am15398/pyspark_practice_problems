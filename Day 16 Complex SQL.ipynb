{
 "cells": [
  {
   "cell_type": "markdown",
   "metadata": {
    "application/vnd.databricks.v1+cell": {
     "cellMetadata": {
      "byteLimit": 2048000,
      "rowLimit": 10000
     },
     "inputWidgets": {},
     "nuid": "e70e8228-7c1e-4500-9e88-c21db34150fb",
     "showTitle": false,
     "title": ""
    }
   },
   "source": [
    "<h3> Data Analyst Spotify Case Study | SQL Interview Questions </h3>"
   ]
  },
  {
   "cell_type": "code",
   "execution_count": 0,
   "metadata": {
    "application/vnd.databricks.v1+cell": {
     "cellMetadata": {
      "byteLimit": 2048000,
      "implicitDf": true,
      "rowLimit": 10000
     },
     "inputWidgets": {},
     "nuid": "0de2e4c6-2bd0-4f7f-81cd-100108dbbe04",
     "showTitle": false,
     "title": ""
    }
   },
   "outputs": [
    {
     "output_type": "display_data",
     "data": {
      "text/html": [
       "<style scoped>\n",
       "  .table-result-container {\n",
       "    max-height: 300px;\n",
       "    overflow: auto;\n",
       "  }\n",
       "  table, th, td {\n",
       "    border: 1px solid black;\n",
       "    border-collapse: collapse;\n",
       "  }\n",
       "  th, td {\n",
       "    padding: 5px;\n",
       "  }\n",
       "  th {\n",
       "    text-align: left;\n",
       "  }\n",
       "</style><div class='table-result-container'><table class='table-result'><thead style='background-color: white'><tr><th>num_affected_rows</th><th>num_inserted_rows</th></tr></thead><tbody><tr><td>11</td><td>11</td></tr></tbody></table></div>"
      ]
     },
     "metadata": {
      "application/vnd.databricks.v1+output": {
       "addedWidgets": {},
       "aggData": [],
       "aggError": "",
       "aggOverflow": false,
       "aggSchema": [],
       "aggSeriesLimitReached": false,
       "aggType": "",
       "arguments": {},
       "columnCustomDisplayInfos": {},
       "data": [
        [
         11,
         11
        ]
       ],
       "datasetInfos": [],
       "dbfsResultPath": null,
       "isJsonSchema": true,
       "metadata": {},
       "overflow": false,
       "plotOptions": {
        "customPlotOptions": {},
        "displayType": "table",
        "pivotAggregation": null,
        "pivotColumns": null,
        "xColumns": null,
        "yColumns": null
       },
       "removedWidgets": [],
       "schema": [
        {
         "metadata": "{}",
         "name": "num_affected_rows",
         "type": "\"long\""
        },
        {
         "metadata": "{}",
         "name": "num_inserted_rows",
         "type": "\"long\""
        }
       ],
       "type": "table"
      }
     },
     "output_type": "display_data"
    }
   ],
   "source": [
    "%sql\n",
    "\n",
    "CREATE table activity\n",
    "(\n",
    "user_id varchar(20),\n",
    "event_name varchar(20),\n",
    "event_date date,\n",
    "country varchar(20)\n",
    ");\n",
    "delete from activity;\n",
    "insert into activity values (1,'app-installed','2022-01-01','India')\n",
    ",(1,'app-purchase','2022-01-02','India')\n",
    ",(2,'app-installed','2022-01-01','USA')\n",
    ",(3,'app-installed','2022-01-01','USA')\n",
    ",(3,'app-purchase','2022-01-03','USA')\n",
    ",(4,'app-installed','2022-01-03','India')\n",
    ",(4,'app-purchase','2022-01-03','India')\n",
    ",(5,'app-installed','2022-01-03','SL')\n",
    ",(5,'app-purchase','2022-01-03','SL')\n",
    ",(6,'app-installed','2022-01-04','Pakistan')\n",
    ",(6,'app-purchase','2022-01-04','Pakistan');"
   ]
  },
  {
   "cell_type": "code",
   "execution_count": 0,
   "metadata": {
    "application/vnd.databricks.v1+cell": {
     "cellMetadata": {
      "byteLimit": 2048000,
      "implicitDf": true,
      "rowLimit": 10000
     },
     "inputWidgets": {},
     "nuid": "cf5907a0-f18c-4a8a-99b2-0f32828118c2",
     "showTitle": false,
     "title": ""
    }
   },
   "outputs": [
    {
     "output_type": "display_data",
     "data": {
      "text/html": [
       "<style scoped>\n",
       "  .table-result-container {\n",
       "    max-height: 300px;\n",
       "    overflow: auto;\n",
       "  }\n",
       "  table, th, td {\n",
       "    border: 1px solid black;\n",
       "    border-collapse: collapse;\n",
       "  }\n",
       "  th, td {\n",
       "    padding: 5px;\n",
       "  }\n",
       "  th {\n",
       "    text-align: left;\n",
       "  }\n",
       "</style><div class='table-result-container'><table class='table-result'><thead style='background-color: white'><tr><th>user_id</th><th>event_name</th><th>event_date</th><th>country</th></tr></thead><tbody><tr><td>1</td><td>app-installed</td><td>2022-01-01</td><td>India</td></tr><tr><td>1</td><td>app-purchase</td><td>2022-01-02</td><td>India</td></tr><tr><td>2</td><td>app-installed</td><td>2022-01-01</td><td>USA</td></tr><tr><td>3</td><td>app-installed</td><td>2022-01-01</td><td>USA</td></tr><tr><td>3</td><td>app-purchase</td><td>2022-01-03</td><td>USA</td></tr><tr><td>4</td><td>app-installed</td><td>2022-01-03</td><td>India</td></tr><tr><td>4</td><td>app-purchase</td><td>2022-01-03</td><td>India</td></tr><tr><td>5</td><td>app-installed</td><td>2022-01-03</td><td>SL</td></tr><tr><td>5</td><td>app-purchase</td><td>2022-01-03</td><td>SL</td></tr><tr><td>6</td><td>app-installed</td><td>2022-01-04</td><td>Pakistan</td></tr><tr><td>6</td><td>app-purchase</td><td>2022-01-04</td><td>Pakistan</td></tr></tbody></table></div>"
      ]
     },
     "metadata": {
      "application/vnd.databricks.v1+output": {
       "addedWidgets": {},
       "aggData": [],
       "aggError": "",
       "aggOverflow": false,
       "aggSchema": [],
       "aggSeriesLimitReached": false,
       "aggType": "",
       "arguments": {},
       "columnCustomDisplayInfos": {},
       "data": [
        [
         "1",
         "app-installed",
         "2022-01-01",
         "India"
        ],
        [
         "1",
         "app-purchase",
         "2022-01-02",
         "India"
        ],
        [
         "2",
         "app-installed",
         "2022-01-01",
         "USA"
        ],
        [
         "3",
         "app-installed",
         "2022-01-01",
         "USA"
        ],
        [
         "3",
         "app-purchase",
         "2022-01-03",
         "USA"
        ],
        [
         "4",
         "app-installed",
         "2022-01-03",
         "India"
        ],
        [
         "4",
         "app-purchase",
         "2022-01-03",
         "India"
        ],
        [
         "5",
         "app-installed",
         "2022-01-03",
         "SL"
        ],
        [
         "5",
         "app-purchase",
         "2022-01-03",
         "SL"
        ],
        [
         "6",
         "app-installed",
         "2022-01-04",
         "Pakistan"
        ],
        [
         "6",
         "app-purchase",
         "2022-01-04",
         "Pakistan"
        ]
       ],
       "datasetInfos": [],
       "dbfsResultPath": null,
       "isJsonSchema": true,
       "metadata": {},
       "overflow": false,
       "plotOptions": {
        "customPlotOptions": {},
        "displayType": "table",
        "pivotAggregation": null,
        "pivotColumns": null,
        "xColumns": null,
        "yColumns": null
       },
       "removedWidgets": [],
       "schema": [
        {
         "metadata": "{\"__CHAR_VARCHAR_TYPE_STRING\":\"varchar(20)\"}",
         "name": "user_id",
         "type": "\"string\""
        },
        {
         "metadata": "{\"__CHAR_VARCHAR_TYPE_STRING\":\"varchar(20)\"}",
         "name": "event_name",
         "type": "\"string\""
        },
        {
         "metadata": "{}",
         "name": "event_date",
         "type": "\"date\""
        },
        {
         "metadata": "{\"__CHAR_VARCHAR_TYPE_STRING\":\"varchar(20)\"}",
         "name": "country",
         "type": "\"string\""
        }
       ],
       "type": "table"
      }
     },
     "output_type": "display_data"
    }
   ],
   "source": [
    "%sql\n",
    "select * from activity"
   ]
  },
  {
   "cell_type": "markdown",
   "metadata": {
    "application/vnd.databricks.v1+cell": {
     "cellMetadata": {
      "byteLimit": 2048000,
      "rowLimit": 10000
     },
     "inputWidgets": {},
     "nuid": "e8defe35-87a3-4ff8-b703-37a6b8452f17",
     "showTitle": false,
     "title": ""
    }
   },
   "source": [
    "<h3> Solution in sql(hive) </h3>"
   ]
  },
  {
   "cell_type": "markdown",
   "metadata": {
    "application/vnd.databricks.v1+cell": {
     "cellMetadata": {},
     "inputWidgets": {},
     "nuid": "23ac19a1-f9c7-4388-8ddf-ae21aed66a35",
     "showTitle": false,
     "title": ""
    }
   },
   "source": [
    "<h3> Daily active users <\\h3>"
   ]
  },
  {
   "cell_type": "code",
   "execution_count": 0,
   "metadata": {
    "application/vnd.databricks.v1+cell": {
     "cellMetadata": {
      "byteLimit": 2048000,
      "implicitDf": true,
      "rowLimit": 10000
     },
     "inputWidgets": {},
     "nuid": "4f1bbe48-aa4e-4887-ae19-2463634370f7",
     "showTitle": false,
     "title": ""
    }
   },
   "outputs": [
    {
     "output_type": "display_data",
     "data": {
      "text/html": [
       "<style scoped>\n",
       "  .table-result-container {\n",
       "    max-height: 300px;\n",
       "    overflow: auto;\n",
       "  }\n",
       "  table, th, td {\n",
       "    border: 1px solid black;\n",
       "    border-collapse: collapse;\n",
       "  }\n",
       "  th, td {\n",
       "    padding: 5px;\n",
       "  }\n",
       "  th {\n",
       "    text-align: left;\n",
       "  }\n",
       "</style><div class='table-result-container'><table class='table-result'><thead style='background-color: white'><tr><th>event_date</th><th>daily_user</th></tr></thead><tbody><tr><td>2022-01-03</td><td>3</td></tr><tr><td>2022-01-04</td><td>1</td></tr><tr><td>2022-01-01</td><td>3</td></tr><tr><td>2022-01-02</td><td>1</td></tr></tbody></table></div>"
      ]
     },
     "metadata": {
      "application/vnd.databricks.v1+output": {
       "addedWidgets": {},
       "aggData": [],
       "aggError": "",
       "aggOverflow": false,
       "aggSchema": [],
       "aggSeriesLimitReached": false,
       "aggType": "",
       "arguments": {},
       "columnCustomDisplayInfos": {},
       "data": [
        [
         "2022-01-03",
         3
        ],
        [
         "2022-01-04",
         1
        ],
        [
         "2022-01-01",
         3
        ],
        [
         "2022-01-02",
         1
        ]
       ],
       "datasetInfos": [],
       "dbfsResultPath": null,
       "isJsonSchema": true,
       "metadata": {},
       "overflow": false,
       "plotOptions": {
        "customPlotOptions": {},
        "displayType": "table",
        "pivotAggregation": null,
        "pivotColumns": null,
        "xColumns": null,
        "yColumns": null
       },
       "removedWidgets": [],
       "schema": [
        {
         "metadata": "{}",
         "name": "event_date",
         "type": "\"date\""
        },
        {
         "metadata": "{}",
         "name": "daily_user",
         "type": "\"long\""
        }
       ],
       "type": "table"
      }
     },
     "output_type": "display_data"
    }
   ],
   "source": [
    "%sql \n",
    "select event_date,count( distinct user_id) as daily_user from activity group by event_date"
   ]
  },
  {
   "cell_type": "markdown",
   "metadata": {
    "application/vnd.databricks.v1+cell": {
     "cellMetadata": {},
     "inputWidgets": {},
     "nuid": "cbad8d6d-bc5c-40fa-af7d-ebd9e49a446a",
     "showTitle": false,
     "title": ""
    }
   },
   "source": [
    "<h3> Weekly active users <\\h3>"
   ]
  },
  {
   "cell_type": "code",
   "execution_count": 0,
   "metadata": {
    "application/vnd.databricks.v1+cell": {
     "cellMetadata": {
      "byteLimit": 2048000,
      "implicitDf": true,
      "rowLimit": 10000
     },
     "inputWidgets": {},
     "nuid": "37a504a2-eacd-4c06-8c1c-f51166c660be",
     "showTitle": false,
     "title": ""
    }
   },
   "outputs": [
    {
     "output_type": "display_data",
     "data": {
      "text/html": [
       "<style scoped>\n",
       "  .table-result-container {\n",
       "    max-height: 300px;\n",
       "    overflow: auto;\n",
       "  }\n",
       "  table, th, td {\n",
       "    border: 1px solid black;\n",
       "    border-collapse: collapse;\n",
       "  }\n",
       "  th, td {\n",
       "    padding: 5px;\n",
       "  }\n",
       "  th {\n",
       "    text-align: left;\n",
       "  }\n",
       "</style><div class='table-result-container'><table class='table-result'><thead style='background-color: white'><tr><th>week</th><th>count(DISTINCT user_id)</th></tr></thead><tbody><tr><td>2</td><td>4</td></tr><tr><td>1</td><td>3</td></tr></tbody></table></div>"
      ]
     },
     "metadata": {
      "application/vnd.databricks.v1+output": {
       "addedWidgets": {},
       "aggData": [],
       "aggError": "",
       "aggOverflow": false,
       "aggSchema": [],
       "aggSeriesLimitReached": false,
       "aggType": "",
       "arguments": {},
       "columnCustomDisplayInfos": {},
       "data": [
        [
         2,
         4
        ],
        [
         1,
         3
        ]
       ],
       "datasetInfos": [],
       "dbfsResultPath": null,
       "isJsonSchema": true,
       "metadata": {},
       "overflow": false,
       "plotOptions": {
        "customPlotOptions": {},
        "displayType": "table",
        "pivotAggregation": null,
        "pivotColumns": null,
        "xColumns": null,
        "yColumns": null
       },
       "removedWidgets": [],
       "schema": [
        {
         "metadata": "{}",
         "name": "week",
         "type": "\"integer\""
        },
        {
         "metadata": "{\"__autoGeneratedAlias\":\"true\"}",
         "name": "count(DISTINCT user_id)",
         "type": "\"long\""
        }
       ],
       "type": "table"
      }
     },
     "output_type": "display_data"
    }
   ],
   "source": [
    "%sql\n",
    "select case when weekofyear(event_date)=52 then 1 else weekofyear(event_date)+1 end as week,count(distinct user_id)  \n",
    "from activity\n",
    "group by weekofyear(event_date)"
   ]
  },
  {
   "cell_type": "markdown",
   "metadata": {
    "application/vnd.databricks.v1+cell": {
     "cellMetadata": {},
     "inputWidgets": {},
     "nuid": "8c8d25b7-7d80-4795-b167-59796e95e111",
     "showTitle": false,
     "title": ""
    }
   },
   "source": [
    "<h3> same day install and purchase <\\h3>"
   ]
  },
  {
   "cell_type": "code",
   "execution_count": 0,
   "metadata": {
    "application/vnd.databricks.v1+cell": {
     "cellMetadata": {
      "byteLimit": 2048000,
      "implicitDf": true,
      "rowLimit": 10000
     },
     "inputWidgets": {},
     "nuid": "68a0b05a-e7ca-4f64-829f-2618ec537dc8",
     "showTitle": false,
     "title": ""
    }
   },
   "outputs": [
    {
     "output_type": "display_data",
     "data": {
      "text/html": [
       "<style scoped>\n",
       "  .table-result-container {\n",
       "    max-height: 300px;\n",
       "    overflow: auto;\n",
       "  }\n",
       "  table, th, td {\n",
       "    border: 1px solid black;\n",
       "    border-collapse: collapse;\n",
       "  }\n",
       "  th, td {\n",
       "    padding: 5px;\n",
       "  }\n",
       "  th {\n",
       "    text-align: left;\n",
       "  }\n",
       "</style><div class='table-result-container'><table class='table-result'><thead style='background-color: white'><tr><th>event_date</th><th>coalesce(cnt, 0)</th></tr></thead><tbody><tr><td>2022-01-03</td><td>2</td></tr><tr><td>2022-01-04</td><td>1</td></tr><tr><td>2022-01-01</td><td>0</td></tr><tr><td>2022-01-02</td><td>0</td></tr></tbody></table></div>"
      ]
     },
     "metadata": {
      "application/vnd.databricks.v1+output": {
       "addedWidgets": {},
       "aggData": [],
       "aggError": "",
       "aggOverflow": false,
       "aggSchema": [],
       "aggSeriesLimitReached": false,
       "aggType": "",
       "arguments": {},
       "columnCustomDisplayInfos": {},
       "data": [
        [
         "2022-01-03",
         2
        ],
        [
         "2022-01-04",
         1
        ],
        [
         "2022-01-01",
         0
        ],
        [
         "2022-01-02",
         0
        ]
       ],
       "datasetInfos": [],
       "dbfsResultPath": null,
       "isJsonSchema": true,
       "metadata": {},
       "overflow": false,
       "plotOptions": {
        "customPlotOptions": {},
        "displayType": "table",
        "pivotAggregation": null,
        "pivotColumns": null,
        "xColumns": null,
        "yColumns": null
       },
       "removedWidgets": [],
       "schema": [
        {
         "metadata": "{}",
         "name": "event_date",
         "type": "\"date\""
        },
        {
         "metadata": "{\"__autoGeneratedAlias\":\"true\"}",
         "name": "coalesce(cnt, 0)",
         "type": "\"long\""
        }
       ],
       "type": "table"
      }
     },
     "output_type": "display_data"
    }
   ],
   "source": [
    "%sql\n",
    "SELECT e1.event_date,COALESCE(e2.cnt,0) FROM (SELECT DISTINCT event_date FROM activity)e1\n",
    "left join (\n",
    "SELECT a1.event_date,count(distinct a1.user_id)cnt FROM activity a1\n",
    "INNER JOIN activity a2 on a1.user_id=a2.user_id and a1.event_date=a2.event_date\n",
    "WHERE a1.event_name='app-installed' and a2.event_name='app-purchase'\n",
    "GROUP BY a1.event_date)e2 on e2.event_date=e1.event_date;\n"
   ]
  },
  {
   "cell_type": "markdown",
   "metadata": {
    "application/vnd.databricks.v1+cell": {
     "cellMetadata": {},
     "inputWidgets": {},
     "nuid": "49cce120-4b2b-46e3-a072-a31cf207cbc4",
     "showTitle": false,
     "title": ""
    }
   },
   "source": [
    "<h3> country wise paid users <\\h3>"
   ]
  },
  {
   "cell_type": "code",
   "execution_count": 0,
   "metadata": {
    "application/vnd.databricks.v1+cell": {
     "cellMetadata": {
      "byteLimit": 2048000,
      "implicitDf": true,
      "rowLimit": 10000
     },
     "inputWidgets": {},
     "nuid": "8b81663c-27d4-4620-8104-2719fb0418a5",
     "showTitle": false,
     "title": ""
    }
   },
   "outputs": [
    {
     "output_type": "display_data",
     "data": {
      "text/html": [
       "<style scoped>\n",
       "  .table-result-container {\n",
       "    max-height: 300px;\n",
       "    overflow: auto;\n",
       "  }\n",
       "  table, th, td {\n",
       "    border: 1px solid black;\n",
       "    border-collapse: collapse;\n",
       "  }\n",
       "  th, td {\n",
       "    padding: 5px;\n",
       "  }\n",
       "  th {\n",
       "    text-align: left;\n",
       "  }\n",
       "</style><div class='table-result-container'><table class='table-result'><thead style='background-color: white'><tr><th>country</th><th>percentage</th></tr></thead><tbody><tr><td>India</td><td>40.0</td></tr><tr><td>others</td><td>40.0</td></tr><tr><td>Pakistan</td><td>20.0</td></tr></tbody></table></div>"
      ]
     },
     "metadata": {
      "application/vnd.databricks.v1+output": {
       "addedWidgets": {},
       "aggData": [],
       "aggError": "",
       "aggOverflow": false,
       "aggSchema": [],
       "aggSeriesLimitReached": false,
       "aggType": "",
       "arguments": {},
       "columnCustomDisplayInfos": {},
       "data": [
        [
         "India",
         40.0
        ],
        [
         "others",
         40.0
        ],
        [
         "Pakistan",
         20.0
        ]
       ],
       "datasetInfos": [],
       "dbfsResultPath": null,
       "isJsonSchema": true,
       "metadata": {},
       "overflow": false,
       "plotOptions": {
        "customPlotOptions": {},
        "displayType": "table",
        "pivotAggregation": null,
        "pivotColumns": null,
        "xColumns": null,
        "yColumns": null
       },
       "removedWidgets": [],
       "schema": [
        {
         "metadata": "{}",
         "name": "country",
         "type": "\"string\""
        },
        {
         "metadata": "{}",
         "name": "percentage",
         "type": "\"double\""
        }
       ],
       "type": "table"
      }
     },
     "output_type": "display_data"
    }
   ],
   "source": [
    "%sql\n",
    "with cte as(\n",
    "select case when country in ('India','Pakistan') then country else 'others' end as country,count(distinct user_id) cnt\n",
    " from activity where event_name='app-purchase'\n",
    " group by case when country in ('India','Pakistan') then country else 'others' end)\n",
    "\n",
    " select country,(cnt/(select sum(cnt) from cte))*100 as percentage from cte"
   ]
  },
  {
   "cell_type": "markdown",
   "metadata": {
    "application/vnd.databricks.v1+cell": {
     "cellMetadata": {},
     "inputWidgets": {},
     "nuid": "682c4e73-24ff-43a8-8dd6-eaa2236bd81f",
     "showTitle": false,
     "title": ""
    }
   },
   "source": [
    "<h3> install and purchase on next day <\\h3"
   ]
  },
  {
   "cell_type": "code",
   "execution_count": 0,
   "metadata": {
    "application/vnd.databricks.v1+cell": {
     "cellMetadata": {
      "byteLimit": 2048000,
      "implicitDf": true,
      "rowLimit": 10000
     },
     "inputWidgets": {},
     "nuid": "cc8406d5-8e62-4ea7-bfe8-a0af4f4fb208",
     "showTitle": false,
     "title": ""
    }
   },
   "outputs": [
    {
     "output_type": "display_data",
     "data": {
      "text/html": [
       "<style scoped>\n",
       "  .table-result-container {\n",
       "    max-height: 300px;\n",
       "    overflow: auto;\n",
       "  }\n",
       "  table, th, td {\n",
       "    border: 1px solid black;\n",
       "    border-collapse: collapse;\n",
       "  }\n",
       "  th, td {\n",
       "    padding: 5px;\n",
       "  }\n",
       "  th {\n",
       "    text-align: left;\n",
       "  }\n",
       "</style><div class='table-result-container'><table class='table-result'><thead style='background-color: white'><tr><th>event_date</th><th>coalesce(cnt, 0)</th></tr></thead><tbody><tr><td>2022-01-03</td><td>0</td></tr><tr><td>2022-01-04</td><td>0</td></tr><tr><td>2022-01-01</td><td>0</td></tr><tr><td>2022-01-02</td><td>1</td></tr></tbody></table></div>"
      ]
     },
     "metadata": {
      "application/vnd.databricks.v1+output": {
       "addedWidgets": {},
       "aggData": [],
       "aggError": "",
       "aggOverflow": false,
       "aggSchema": [],
       "aggSeriesLimitReached": false,
       "aggType": "",
       "arguments": {},
       "columnCustomDisplayInfos": {},
       "data": [
        [
         "2022-01-03",
         0
        ],
        [
         "2022-01-04",
         0
        ],
        [
         "2022-01-01",
         0
        ],
        [
         "2022-01-02",
         1
        ]
       ],
       "datasetInfos": [],
       "dbfsResultPath": null,
       "isJsonSchema": true,
       "metadata": {},
       "overflow": false,
       "plotOptions": {
        "customPlotOptions": {},
        "displayType": "table",
        "pivotAggregation": null,
        "pivotColumns": null,
        "xColumns": null,
        "yColumns": null
       },
       "removedWidgets": [],
       "schema": [
        {
         "metadata": "{}",
         "name": "event_date",
         "type": "\"date\""
        },
        {
         "metadata": "{\"__autoGeneratedAlias\":\"true\"}",
         "name": "coalesce(cnt, 0)",
         "type": "\"long\""
        }
       ],
       "type": "table"
      }
     },
     "output_type": "display_data"
    }
   ],
   "source": [
    "%sql\n",
    "SELECT e1.event_date,COALESCE(e2.cnt,0) FROM (SELECT DISTINCT event_date FROM activity)e1\n",
    "left join (\n",
    "SELECT a2.event_date,count(DISTINCT a2.user_id)cnt FROM activity a1\n",
    "INNER JOIN activity a2 on a1.user_id=a2.user_id and date_diff(a2.event_date,a1.event_date)=1\n",
    "WHERE a1.event_name='app-installed' and a2.event_name='app-purchase'\n",
    "GROUP BY a2.event_date)e2 on e2.event_date=e1.event_date;\n",
    "\n"
   ]
  },
  {
   "cell_type": "markdown",
   "metadata": {
    "application/vnd.databricks.v1+cell": {
     "cellMetadata": {
      "byteLimit": 2048000,
      "rowLimit": 10000
     },
     "inputWidgets": {},
     "nuid": "adc632fa-686f-4bac-a5e8-d18ee723de94",
     "showTitle": false,
     "title": ""
    }
   },
   "source": [
    "<h3> solution in pyspark <\\h3>"
   ]
  },
  {
   "cell_type": "code",
   "execution_count": 0,
   "metadata": {
    "application/vnd.databricks.v1+cell": {
     "cellMetadata": {
      "byteLimit": 2048000,
      "rowLimit": 10000
     },
     "inputWidgets": {},
     "nuid": "8991586e-ebbf-4b9e-873f-d437635388fd",
     "showTitle": false,
     "title": ""
    }
   },
   "outputs": [],
   "source": [
    "from pyspark.sql.functions import col,count,weekofyear,when,lit,sum,datediff"
   ]
  },
  {
   "cell_type": "code",
   "execution_count": 0,
   "metadata": {
    "application/vnd.databricks.v1+cell": {
     "cellMetadata": {
      "byteLimit": 2048000,
      "rowLimit": 10000
     },
     "inputWidgets": {},
     "nuid": "771ae21d-14f1-4316-ba01-3125a859fb04",
     "showTitle": false,
     "title": ""
    }
   },
   "outputs": [
    {
     "output_type": "stream",
     "name": "stdout",
     "output_type": "stream",
     "text": [
      "+-------+-------------+----------+--------+\n|user_id|   event_name|event_date| country|\n+-------+-------------+----------+--------+\n|      1|app-installed|2022-01-01|   India|\n|      1| app-purchase|2022-01-02|   India|\n|      2|app-installed|2022-01-01|     USA|\n|      3|app-installed|2022-01-01|     USA|\n|      3| app-purchase|2022-01-03|     USA|\n|      4|app-installed|2022-01-03|   India|\n|      4| app-purchase|2022-01-03|   India|\n|      5|app-installed|2022-01-03|      SL|\n|      5| app-purchase|2022-01-03|      SL|\n|      6|app-installed|2022-01-04|Pakistan|\n|      6| app-purchase|2022-01-04|Pakistan|\n+-------+-------------+----------+--------+\n\n"
     ]
    }
   ],
   "source": [
    "df_a=spark.sql(\"select * from activity\")\n",
    "df_a.show()"
   ]
  },
  {
   "cell_type": "markdown",
   "metadata": {
    "application/vnd.databricks.v1+cell": {
     "cellMetadata": {},
     "inputWidgets": {},
     "nuid": "f9db3061-740b-410d-b317-1becc953e735",
     "showTitle": false,
     "title": ""
    }
   },
   "source": [
    "<h3> Daily active users <\\h3>"
   ]
  },
  {
   "cell_type": "code",
   "execution_count": 0,
   "metadata": {
    "application/vnd.databricks.v1+cell": {
     "cellMetadata": {
      "byteLimit": 2048000,
      "rowLimit": 10000
     },
     "inputWidgets": {},
     "nuid": "06b99aaf-cfd2-487e-b7b4-21a7192dca89",
     "showTitle": false,
     "title": ""
    }
   },
   "outputs": [
    {
     "output_type": "stream",
     "name": "stdout",
     "output_type": "stream",
     "text": [
      "+----------+-----+\n|event_date|count|\n+----------+-----+\n|2022-01-01|    3|\n|2022-01-02|    1|\n|2022-01-03|    3|\n|2022-01-04|    1|\n+----------+-----+\n\n"
     ]
    }
   ],
   "source": [
    "df_a.select(\"event_date\",\"user_id\").distinct().groupBy(\"event_date\").count().orderBy(\"event_date\").show()"
   ]
  },
  {
   "cell_type": "markdown",
   "metadata": {
    "application/vnd.databricks.v1+cell": {
     "cellMetadata": {},
     "inputWidgets": {},
     "nuid": "e6b51068-de79-4f00-8b6a-2fbd0390f94e",
     "showTitle": false,
     "title": ""
    }
   },
   "source": [
    "<h3> Weekly active users <\\h3>"
   ]
  },
  {
   "cell_type": "code",
   "execution_count": 0,
   "metadata": {
    "application/vnd.databricks.v1+cell": {
     "cellMetadata": {
      "byteLimit": 2048000,
      "rowLimit": 10000
     },
     "inputWidgets": {},
     "nuid": "a1bb9d13-d626-40fe-809f-481aa26bba0a",
     "showTitle": false,
     "title": ""
    }
   },
   "outputs": [
    {
     "output_type": "stream",
     "name": "stdout",
     "output_type": "stream",
     "text": [
      "+-------+-----+\n|week_no|count|\n+-------+-----+\n|      1|    3|\n|      2|    4|\n+-------+-----+\n\n"
     ]
    }
   ],
   "source": [
    "df_a1=df_a.select(\"event_date\",\"user_id\").distinct().withColumn(\"weekno\",weekofyear(df_a[\"event_date\"]))\n",
    "df_a1=df_a1.withColumn(\"week_no\",when(col(\"weekno\")==52,1).otherwise(col(\"weekno\")+1))\n",
    "df_a1.select(\"week_no\",\"user_id\").distinct().groupBy(\"week_no\").count().show()"
   ]
  },
  {
   "cell_type": "markdown",
   "metadata": {
    "application/vnd.databricks.v1+cell": {
     "cellMetadata": {},
     "inputWidgets": {},
     "nuid": "fcd6859d-6bdf-4a46-a290-89642cabb532",
     "showTitle": false,
     "title": ""
    }
   },
   "source": [
    "<h3> same day install and purchase <\\h3>"
   ]
  },
  {
   "cell_type": "code",
   "execution_count": 0,
   "metadata": {
    "application/vnd.databricks.v1+cell": {
     "cellMetadata": {
      "byteLimit": 2048000,
      "rowLimit": 10000
     },
     "inputWidgets": {},
     "nuid": "c86cf571-f4ee-4894-a672-4e66cf8e02e8",
     "showTitle": false,
     "title": ""
    }
   },
   "outputs": [
    {
     "output_type": "stream",
     "name": "stdout",
     "output_type": "stream",
     "text": [
      "+----------+-----+\n|event_date|count|\n+----------+-----+\n|2022-01-01|    0|\n|2022-01-02|    0|\n|2022-01-03|    2|\n|2022-01-04|    1|\n+----------+-----+\n\n"
     ]
    }
   ],
   "source": [
    "df1=df_a.filter(col(\"event_name\")==\"app-installed\").select(\"user_id\",col(\"event_date\").alias(\"event\"))\n",
    "df2=df_a.filter(col(\"event_name\")!=\"app-installed\").select(\"user_id\",\"event_date\")\n",
    "df_f=df2.join(df1,(df1.user_id==df2.user_id)&(df1.event==df2.event_date),\"inner\").\\\n",
    "    select(df2[\"user_id\"],df2[\"event_date\"]).distinct().groupBy(\"event_date\").count()\n",
    "df_a.join(df_f,\"event_date\",\"left\").select(\"event_date\",\"count\").distinct().fillna(0).orderBy(\"event_date\").show()"
   ]
  },
  {
   "cell_type": "markdown",
   "metadata": {
    "application/vnd.databricks.v1+cell": {
     "cellMetadata": {},
     "inputWidgets": {},
     "nuid": "7be68883-383d-4047-adef-e55080364d8f",
     "showTitle": false,
     "title": ""
    }
   },
   "source": [
    "<h3> country wise paid users <\\h3>"
   ]
  },
  {
   "cell_type": "code",
   "execution_count": 0,
   "metadata": {
    "application/vnd.databricks.v1+cell": {
     "cellMetadata": {
      "byteLimit": 2048000,
      "rowLimit": 10000
     },
     "inputWidgets": {},
     "nuid": "0ee170e9-5fbd-4953-89bb-bae89e1e94ee",
     "showTitle": false,
     "title": ""
    }
   },
   "outputs": [
    {
     "output_type": "stream",
     "name": "stdout",
     "output_type": "stream",
     "text": [
      "+-------+----------+\n|country|percentage|\n+-------+----------+\n|  India|      40.0|\n|  other|      40.0|\n|    USA|      20.0|\n+-------+----------+\n\n"
     ]
    }
   ],
   "source": [
    "df_a1=df_a.filter(col(\"event_name\")==\"app-purchase\").withColumn(\"country\",when(col(\"country\")\\\n",
    "    .isin(\"India\",\"USA\"),col(\"country\")).otherwise(\"other\")).select(\"country\",\"user_id\").distinct()\\\n",
    "        .groupBy(\"country\").count()\n",
    "df=df_a1.agg(sum(col(\"count\"))).collect()[0][0]\n",
    "df_a1.withColumn(\"percentage\",col(\"count\")*100/df).select(\"country\",\"percentage\").show()"
   ]
  },
  {
   "cell_type": "markdown",
   "metadata": {
    "application/vnd.databricks.v1+cell": {
     "cellMetadata": {},
     "inputWidgets": {},
     "nuid": "e2c87c8f-f5ed-4f58-8bda-fe6db5ee007d",
     "showTitle": false,
     "title": ""
    }
   },
   "source": [
    "<h3> install and purchase on next day <\\h3"
   ]
  },
  {
   "cell_type": "code",
   "execution_count": 0,
   "metadata": {
    "application/vnd.databricks.v1+cell": {
     "cellMetadata": {
      "byteLimit": 2048000,
      "rowLimit": 10000
     },
     "inputWidgets": {},
     "nuid": "0d4e2f25-a22e-45ff-9db4-af3becae856b",
     "showTitle": false,
     "title": ""
    }
   },
   "outputs": [
    {
     "output_type": "stream",
     "name": "stdout",
     "output_type": "stream",
     "text": [
      "+----------+-----+\n|event_date|count|\n+----------+-----+\n|2022-01-01|    0|\n|2022-01-02|    1|\n|2022-01-03|    0|\n|2022-01-04|    0|\n+----------+-----+\n\n"
     ]
    }
   ],
   "source": [
    "df1=df_a.filter(col(\"event_name\")==\"app-installed\").select(\"user_id\",col(\"event_date\").alias(\"event\"))\n",
    "df2=df_a.filter(col(\"event_name\")!=\"app-installed\").select(\"user_id\",\"event_date\")\n",
    "df_f=df2.join(df1,(df1.user_id==df2.user_id)&(datediff(df2.event_date,df1.event)==1),\"inner\").\\\n",
    "    select(df2[\"user_id\"],df2[\"event_date\"]).distinct().groupBy(\"event_date\").count()\n",
    "df_a.join(df_f,\"event_date\",\"left\").select(\"event_date\",\"count\").distinct().fillna(0).orderBy(\"event_date\").show()"
   ]
  }
 ],
 "metadata": {
  "application/vnd.databricks.v1+notebook": {
   "dashboards": [],
   "language": "python",
   "notebookMetadata": {
    "mostRecentlyExecutedCommandWithImplicitDF": {
     "commandId": 399955919002456,
     "dataframes": [
      "_sqldf"
     ]
    },
    "pythonIndentUnit": 4
   },
   "notebookName": "Day 16 Complex SQL",
   "widgets": {}
  }
 },
 "nbformat": 4,
 "nbformat_minor": 0
}
