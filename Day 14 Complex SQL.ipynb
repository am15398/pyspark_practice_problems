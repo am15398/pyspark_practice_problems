{
 "cells": [
  {
   "cell_type": "markdown",
   "metadata": {
    "application/vnd.databricks.v1+cell": {
     "cellMetadata": {},
     "inputWidgets": {},
     "nuid": "e70e8228-7c1e-4500-9e88-c21db34150fb",
     "showTitle": false,
     "title": ""
    }
   },
   "source": [
    "<h3> Leetcode Hard SQL Problem - 6 | Second Most Recent Activity | SQL Window Analytical Functions </h3>"
   ]
  },
  {
   "cell_type": "code",
   "execution_count": 0,
   "metadata": {
    "application/vnd.databricks.v1+cell": {
     "cellMetadata": {
      "byteLimit": 2048000,
      "implicitDf": true,
      "rowLimit": 10000
     },
     "inputWidgets": {},
     "nuid": "0de2e4c6-2bd0-4f7f-81cd-100108dbbe04",
     "showTitle": false,
     "title": ""
    }
   },
   "outputs": [
    {
     "output_type": "display_data",
     "data": {
      "text/html": [
       "<style scoped>\n",
       "  .table-result-container {\n",
       "    max-height: 300px;\n",
       "    overflow: auto;\n",
       "  }\n",
       "  table, th, td {\n",
       "    border: 1px solid black;\n",
       "    border-collapse: collapse;\n",
       "  }\n",
       "  th, td {\n",
       "    padding: 5px;\n",
       "  }\n",
       "  th {\n",
       "    text-align: left;\n",
       "  }\n",
       "</style><div class='table-result-container'><table class='table-result'><thead style='background-color: white'><tr><th>num_affected_rows</th><th>num_inserted_rows</th></tr></thead><tbody><tr><td>4</td><td>4</td></tr></tbody></table></div>"
      ]
     },
     "metadata": {
      "application/vnd.databricks.v1+output": {
       "addedWidgets": {},
       "aggData": [],
       "aggError": "",
       "aggOverflow": false,
       "aggSchema": [],
       "aggSeriesLimitReached": false,
       "aggType": "",
       "arguments": {},
       "columnCustomDisplayInfos": {},
       "data": [
        [
         4,
         4
        ]
       ],
       "datasetInfos": [],
       "dbfsResultPath": null,
       "isJsonSchema": true,
       "metadata": {},
       "overflow": false,
       "plotOptions": {
        "customPlotOptions": {},
        "displayType": "table",
        "pivotAggregation": null,
        "pivotColumns": null,
        "xColumns": null,
        "yColumns": null
       },
       "removedWidgets": [],
       "schema": [
        {
         "metadata": "{}",
         "name": "num_affected_rows",
         "type": "\"long\""
        },
        {
         "metadata": "{}",
         "name": "num_inserted_rows",
         "type": "\"long\""
        }
       ],
       "type": "table"
      }
     },
     "output_type": "display_data"
    }
   ],
   "source": [
    "%sql\n",
    "create table UserActivity\n",
    "(\n",
    "username      varchar(20) ,\n",
    "activity      varchar(20),\n",
    "startDate     Date   ,\n",
    "endDate      Date\n",
    ");\n",
    "\n",
    "insert into UserActivity values \n",
    "('Alice','Travel','2020-02-12','2020-02-20')\n",
    ",('Alice','Dancing','2020-02-21','2020-02-23')\n",
    ",('Alice','Travel','2020-02-24','2020-02-28')\n",
    ",('Bob','Travel','2020-02-11','2020-02-18');"
   ]
  },
  {
   "cell_type": "code",
   "execution_count": 0,
   "metadata": {
    "application/vnd.databricks.v1+cell": {
     "cellMetadata": {
      "byteLimit": 2048000,
      "implicitDf": true,
      "rowLimit": 10000
     },
     "inputWidgets": {},
     "nuid": "cf5907a0-f18c-4a8a-99b2-0f32828118c2",
     "showTitle": false,
     "title": ""
    }
   },
   "outputs": [
    {
     "output_type": "display_data",
     "data": {
      "text/html": [
       "<style scoped>\n",
       "  .table-result-container {\n",
       "    max-height: 300px;\n",
       "    overflow: auto;\n",
       "  }\n",
       "  table, th, td {\n",
       "    border: 1px solid black;\n",
       "    border-collapse: collapse;\n",
       "  }\n",
       "  th, td {\n",
       "    padding: 5px;\n",
       "  }\n",
       "  th {\n",
       "    text-align: left;\n",
       "  }\n",
       "</style><div class='table-result-container'><table class='table-result'><thead style='background-color: white'><tr><th>username</th><th>activity</th><th>startDate</th><th>endDate</th></tr></thead><tbody><tr><td>Alice</td><td>Travel</td><td>2020-02-12</td><td>2020-02-20</td></tr><tr><td>Alice</td><td>Dancing</td><td>2020-02-21</td><td>2020-02-23</td></tr><tr><td>Alice</td><td>Travel</td><td>2020-02-24</td><td>2020-02-28</td></tr><tr><td>Bob</td><td>Travel</td><td>2020-02-11</td><td>2020-02-18</td></tr></tbody></table></div>"
      ]
     },
     "metadata": {
      "application/vnd.databricks.v1+output": {
       "addedWidgets": {},
       "aggData": [],
       "aggError": "",
       "aggOverflow": false,
       "aggSchema": [],
       "aggSeriesLimitReached": false,
       "aggType": "",
       "arguments": {},
       "columnCustomDisplayInfos": {},
       "data": [
        [
         "Alice",
         "Travel",
         "2020-02-12",
         "2020-02-20"
        ],
        [
         "Alice",
         "Dancing",
         "2020-02-21",
         "2020-02-23"
        ],
        [
         "Alice",
         "Travel",
         "2020-02-24",
         "2020-02-28"
        ],
        [
         "Bob",
         "Travel",
         "2020-02-11",
         "2020-02-18"
        ]
       ],
       "datasetInfos": [],
       "dbfsResultPath": null,
       "isJsonSchema": true,
       "metadata": {},
       "overflow": false,
       "plotOptions": {
        "customPlotOptions": {},
        "displayType": "table",
        "pivotAggregation": null,
        "pivotColumns": null,
        "xColumns": null,
        "yColumns": null
       },
       "removedWidgets": [],
       "schema": [
        {
         "metadata": "{\"__CHAR_VARCHAR_TYPE_STRING\":\"varchar(20)\"}",
         "name": "username",
         "type": "\"string\""
        },
        {
         "metadata": "{\"__CHAR_VARCHAR_TYPE_STRING\":\"varchar(20)\"}",
         "name": "activity",
         "type": "\"string\""
        },
        {
         "metadata": "{}",
         "name": "startDate",
         "type": "\"date\""
        },
        {
         "metadata": "{}",
         "name": "endDate",
         "type": "\"date\""
        }
       ],
       "type": "table"
      }
     },
     "output_type": "display_data"
    }
   ],
   "source": [
    "%sql\n",
    "select * from UserActivity"
   ]
  },
  {
   "cell_type": "markdown",
   "metadata": {
    "application/vnd.databricks.v1+cell": {
     "cellMetadata": {},
     "inputWidgets": {},
     "nuid": "e8defe35-87a3-4ff8-b703-37a6b8452f17",
     "showTitle": false,
     "title": ""
    }
   },
   "source": [
    "<h3> Solution in sql(hive) </h3>"
   ]
  },
  {
   "cell_type": "code",
   "execution_count": 0,
   "metadata": {
    "application/vnd.databricks.v1+cell": {
     "cellMetadata": {
      "byteLimit": 2048000,
      "implicitDf": true,
      "rowLimit": 10000
     },
     "inputWidgets": {},
     "nuid": "c8a0592d-cbf4-46b2-8396-8aac8eaad6b4",
     "showTitle": false,
     "title": ""
    }
   },
   "outputs": [
    {
     "output_type": "display_data",
     "data": {
      "text/html": [
       "<style scoped>\n",
       "  .table-result-container {\n",
       "    max-height: 300px;\n",
       "    overflow: auto;\n",
       "  }\n",
       "  table, th, td {\n",
       "    border: 1px solid black;\n",
       "    border-collapse: collapse;\n",
       "  }\n",
       "  th, td {\n",
       "    padding: 5px;\n",
       "  }\n",
       "  th {\n",
       "    text-align: left;\n",
       "  }\n",
       "</style><div class='table-result-container'><table class='table-result'><thead style='background-color: white'><tr><th>username</th><th>activity</th><th>startDate</th><th>endDate</th></tr></thead><tbody><tr><td>Alice</td><td>Dancing</td><td>2020-02-21</td><td>2020-02-23</td></tr><tr><td>Bob</td><td>Travel</td><td>2020-02-11</td><td>2020-02-18</td></tr></tbody></table></div>"
      ]
     },
     "metadata": {
      "application/vnd.databricks.v1+output": {
       "addedWidgets": {},
       "aggData": [],
       "aggError": "",
       "aggOverflow": false,
       "aggSchema": [],
       "aggSeriesLimitReached": false,
       "aggType": "",
       "arguments": {},
       "columnCustomDisplayInfos": {},
       "data": [
        [
         "Alice",
         "Dancing",
         "2020-02-21",
         "2020-02-23"
        ],
        [
         "Bob",
         "Travel",
         "2020-02-11",
         "2020-02-18"
        ]
       ],
       "datasetInfos": [],
       "dbfsResultPath": null,
       "isJsonSchema": true,
       "metadata": {},
       "overflow": false,
       "plotOptions": {
        "customPlotOptions": {},
        "displayType": "table",
        "pivotAggregation": null,
        "pivotColumns": null,
        "xColumns": null,
        "yColumns": null
       },
       "removedWidgets": [],
       "schema": [
        {
         "metadata": "{\"__CHAR_VARCHAR_TYPE_STRING\":\"varchar(20)\"}",
         "name": "username",
         "type": "\"string\""
        },
        {
         "metadata": "{\"__CHAR_VARCHAR_TYPE_STRING\":\"varchar(20)\"}",
         "name": "activity",
         "type": "\"string\""
        },
        {
         "metadata": "{}",
         "name": "startDate",
         "type": "\"date\""
        },
        {
         "metadata": "{}",
         "name": "endDate",
         "type": "\"date\""
        }
       ],
       "type": "table"
      }
     },
     "output_type": "display_data"
    }
   ],
   "source": [
    "%sql \n",
    "select username,activity,startDate,endDate from(\n",
    "select *,count((1))over(partition by username )cnt,row_number()over(partition by username order by startDate)rnk from UserActivity)a1\n",
    "where cnt=1 or rnk=2"
   ]
  },
  {
   "cell_type": "markdown",
   "metadata": {
    "application/vnd.databricks.v1+cell": {
     "cellMetadata": {},
     "inputWidgets": {},
     "nuid": "adc632fa-686f-4bac-a5e8-d18ee723de94",
     "showTitle": false,
     "title": ""
    }
   },
   "source": [
    "<h3> solution in pyspark <\\h3>"
   ]
  },
  {
   "cell_type": "code",
   "execution_count": 0,
   "metadata": {
    "application/vnd.databricks.v1+cell": {
     "cellMetadata": {
      "byteLimit": 2048000,
      "rowLimit": 10000
     },
     "inputWidgets": {},
     "nuid": "8991586e-ebbf-4b9e-873f-d437635388fd",
     "showTitle": false,
     "title": ""
    }
   },
   "outputs": [],
   "source": [
    "from pyspark.sql.functions import col,count,row_number\n",
    "from pyspark.sql.window import Window"
   ]
  },
  {
   "cell_type": "code",
   "execution_count": 0,
   "metadata": {
    "application/vnd.databricks.v1+cell": {
     "cellMetadata": {
      "byteLimit": 2048000,
      "rowLimit": 10000
     },
     "inputWidgets": {},
     "nuid": "06b99aaf-cfd2-487e-b7b4-21a7192dca89",
     "showTitle": false,
     "title": ""
    }
   },
   "outputs": [
    {
     "output_type": "stream",
     "name": "stdout",
     "output_type": "stream",
     "text": [
      "+--------+--------+----------+----------+\n|username|activity| startDate|   endDate|\n+--------+--------+----------+----------+\n|   Alice|  Travel|2020-02-12|2020-02-20|\n|   Alice| Dancing|2020-02-21|2020-02-23|\n|   Alice|  Travel|2020-02-24|2020-02-28|\n|     Bob|  Travel|2020-02-11|2020-02-18|\n+--------+--------+----------+----------+\n\n"
     ]
    }
   ],
   "source": [
    "df_u=spark.sql(\"select * from UserActivity\")\n",
    "df_u.show()"
   ]
  },
  {
   "cell_type": "code",
   "execution_count": 0,
   "metadata": {
    "application/vnd.databricks.v1+cell": {
     "cellMetadata": {
      "byteLimit": 2048000,
      "rowLimit": 10000
     },
     "inputWidgets": {},
     "nuid": "5370d001-76a4-4209-95fe-08fa2a75384d",
     "showTitle": false,
     "title": ""
    }
   },
   "outputs": [
    {
     "output_type": "stream",
     "name": "stdout",
     "output_type": "stream",
     "text": [
      "+--------+--------+----------+----------+\n|username|activity| startDate|   endDate|\n+--------+--------+----------+----------+\n|   Alice| Dancing|2020-02-21|2020-02-23|\n|     Bob|  Travel|2020-02-11|2020-02-18|\n+--------+--------+----------+----------+\n\n"
     ]
    }
   ],
   "source": [
    "df_u=df_u.withColumn(\"rn\",row_number().over(Window.partitionBy(\"username\").orderBy(\"startDate\"))).\\\n",
    "    withColumn(\"cnt\",count(\"*\").over(Window.partitionBy(\"username\")))\n",
    "df_u.filter((col(\"rn\")==2)|(col(\"cnt\")==1)).select(\"username\",\"activity\",\"startDate\",\"endDate\").show()"
   ]
  }
 ],
 "metadata": {
  "application/vnd.databricks.v1+notebook": {
   "dashboards": [],
   "language": "python",
   "notebookMetadata": {
    "mostRecentlyExecutedCommandWithImplicitDF": {
     "commandId": 3749104628971703,
     "dataframes": [
      "_sqldf"
     ]
    },
    "pythonIndentUnit": 4
   },
   "notebookName": "Day 14 Complex SQL",
   "widgets": {}
  }
 },
 "nbformat": 4,
 "nbformat_minor": 0
}
