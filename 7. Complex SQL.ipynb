{
 "cells": [
  {
   "cell_type": "markdown",
   "metadata": {
    "application/vnd.databricks.v1+cell": {
     "cellMetadata": {},
     "inputWidgets": {},
     "nuid": "e70e8228-7c1e-4500-9e88-c21db34150fb",
     "showTitle": false,
     "title": ""
    }
   },
   "source": [
    "<h3> Leetcode Hard Problem 3 | Market Analysis 2 | Complex SQL 9 </h3>"
   ]
  },
  {
   "cell_type": "code",
   "execution_count": 0,
   "metadata": {
    "application/vnd.databricks.v1+cell": {
     "cellMetadata": {
      "byteLimit": 2048000,
      "implicitDf": true,
      "rowLimit": 10000
     },
     "inputWidgets": {},
     "nuid": "58741a57-573d-4fa3-963d-823b3369facc",
     "showTitle": false,
     "title": ""
    }
   },
   "outputs": [
    {
     "output_type": "display_data",
     "data": {
      "text/html": [
       "<style scoped>\n",
       "  .table-result-container {\n",
       "    max-height: 300px;\n",
       "    overflow: auto;\n",
       "  }\n",
       "  table, th, td {\n",
       "    border: 1px solid black;\n",
       "    border-collapse: collapse;\n",
       "  }\n",
       "  th, td {\n",
       "    padding: 5px;\n",
       "  }\n",
       "  th {\n",
       "    text-align: left;\n",
       "  }\n",
       "</style><div class='table-result-container'><table class='table-result'><thead style='background-color: white'><tr><th>num_affected_rows</th><th>num_inserted_rows</th></tr></thead><tbody><tr><td>6</td><td>6</td></tr></tbody></table></div>"
      ]
     },
     "metadata": {
      "application/vnd.databricks.v1+output": {
       "addedWidgets": {},
       "aggData": [],
       "aggError": "",
       "aggOverflow": false,
       "aggSchema": [],
       "aggSeriesLimitReached": false,
       "aggType": "",
       "arguments": {},
       "columnCustomDisplayInfos": {},
       "data": [
        [
         6,
         6
        ]
       ],
       "datasetInfos": [],
       "dbfsResultPath": null,
       "isJsonSchema": true,
       "metadata": {},
       "overflow": false,
       "plotOptions": {
        "customPlotOptions": {},
        "displayType": "table",
        "pivotAggregation": null,
        "pivotColumns": null,
        "xColumns": null,
        "yColumns": null
       },
       "removedWidgets": [],
       "schema": [
        {
         "metadata": "{}",
         "name": "num_affected_rows",
         "type": "\"long\""
        },
        {
         "metadata": "{}",
         "name": "num_inserted_rows",
         "type": "\"long\""
        }
       ],
       "type": "table"
      }
     },
     "output_type": "display_data"
    }
   ],
   "source": [
    "%sql\n",
    "drop table if exists users;\n",
    "create table users (\n",
    "user_id         int     ,\n",
    " join_date       date    ,\n",
    " favorite_brand  varchar(50));\n",
    "\n",
    " create table orders (\n",
    " order_id       int     ,\n",
    " order_date     date    ,\n",
    " item_id        int     ,\n",
    " buyer_id       int     ,\n",
    " seller_id      int \n",
    " );\n",
    "\n",
    " create table items\n",
    " (\n",
    " item_id        int     ,\n",
    " item_brand     varchar(50)\n",
    " );\n",
    "\n",
    "\n",
    " insert into users values (1,'2019-01-01','Lenovo'),(2,'2019-02-09','Samsung'),(3,'2019-01-19','LG'),(4,'2019-05-21','HP');\n",
    "\n",
    " insert into items values (1,'Samsung'),(2,'Lenovo'),(3,'LG'),(4,'HP');\n",
    "\n",
    " insert into orders values (1,'2019-08-01',4,1,2),(2,'2019-08-02',2,1,3),(3,'2019-08-03',3,2,3),(4,'2019-08-04',1,4,2)\n",
    " ,(5,'2019-08-04',1,3,4),(6,'2019-08-05',2,2,4);"
   ]
  },
  {
   "cell_type": "code",
   "execution_count": 0,
   "metadata": {
    "application/vnd.databricks.v1+cell": {
     "cellMetadata": {
      "byteLimit": 2048000,
      "implicitDf": true,
      "rowLimit": 10000
     },
     "inputWidgets": {},
     "nuid": "845012af-a51b-4d37-940b-7ebfcebb912b",
     "showTitle": false,
     "title": ""
    }
   },
   "outputs": [
    {
     "output_type": "display_data",
     "data": {
      "text/html": [
       "<style scoped>\n",
       "  .table-result-container {\n",
       "    max-height: 300px;\n",
       "    overflow: auto;\n",
       "  }\n",
       "  table, th, td {\n",
       "    border: 1px solid black;\n",
       "    border-collapse: collapse;\n",
       "  }\n",
       "  th, td {\n",
       "    padding: 5px;\n",
       "  }\n",
       "  th {\n",
       "    text-align: left;\n",
       "  }\n",
       "</style><div class='table-result-container'><table class='table-result'><thead style='background-color: white'><tr><th>user_id</th><th>join_date</th><th>favorite_brand</th></tr></thead><tbody><tr><td>1</td><td>2019-01-01</td><td>Lenovo</td></tr><tr><td>2</td><td>2019-02-09</td><td>Samsung</td></tr><tr><td>3</td><td>2019-01-19</td><td>LG</td></tr><tr><td>4</td><td>2019-05-21</td><td>HP</td></tr></tbody></table></div>"
      ]
     },
     "metadata": {
      "application/vnd.databricks.v1+output": {
       "addedWidgets": {},
       "aggData": [],
       "aggError": "",
       "aggOverflow": false,
       "aggSchema": [],
       "aggSeriesLimitReached": false,
       "aggType": "",
       "arguments": {},
       "columnCustomDisplayInfos": {},
       "data": [
        [
         1,
         "2019-01-01",
         "Lenovo"
        ],
        [
         2,
         "2019-02-09",
         "Samsung"
        ],
        [
         3,
         "2019-01-19",
         "LG"
        ],
        [
         4,
         "2019-05-21",
         "HP"
        ]
       ],
       "datasetInfos": [],
       "dbfsResultPath": null,
       "isJsonSchema": true,
       "metadata": {},
       "overflow": false,
       "plotOptions": {
        "customPlotOptions": {},
        "displayType": "table",
        "pivotAggregation": null,
        "pivotColumns": null,
        "xColumns": null,
        "yColumns": null
       },
       "removedWidgets": [],
       "schema": [
        {
         "metadata": "{}",
         "name": "user_id",
         "type": "\"integer\""
        },
        {
         "metadata": "{}",
         "name": "join_date",
         "type": "\"date\""
        },
        {
         "metadata": "{\"__CHAR_VARCHAR_TYPE_STRING\":\"varchar(50)\"}",
         "name": "favorite_brand",
         "type": "\"string\""
        }
       ],
       "type": "table"
      }
     },
     "output_type": "display_data"
    }
   ],
   "source": [
    "%sql\n",
    "select * from users"
   ]
  },
  {
   "cell_type": "code",
   "execution_count": 0,
   "metadata": {
    "application/vnd.databricks.v1+cell": {
     "cellMetadata": {
      "byteLimit": 2048000,
      "implicitDf": true,
      "rowLimit": 10000
     },
     "inputWidgets": {},
     "nuid": "1cff309e-d2ef-4b3d-b623-7c4c4d9399f4",
     "showTitle": false,
     "title": ""
    }
   },
   "outputs": [
    {
     "output_type": "display_data",
     "data": {
      "text/html": [
       "<style scoped>\n",
       "  .table-result-container {\n",
       "    max-height: 300px;\n",
       "    overflow: auto;\n",
       "  }\n",
       "  table, th, td {\n",
       "    border: 1px solid black;\n",
       "    border-collapse: collapse;\n",
       "  }\n",
       "  th, td {\n",
       "    padding: 5px;\n",
       "  }\n",
       "  th {\n",
       "    text-align: left;\n",
       "  }\n",
       "</style><div class='table-result-container'><table class='table-result'><thead style='background-color: white'><tr><th>order_id</th><th>order_date</th><th>item_id</th><th>buyer_id</th><th>seller_id</th></tr></thead><tbody><tr><td>1</td><td>2019-08-01</td><td>4</td><td>1</td><td>2</td></tr><tr><td>2</td><td>2019-08-02</td><td>2</td><td>1</td><td>3</td></tr><tr><td>3</td><td>2019-08-03</td><td>3</td><td>2</td><td>3</td></tr><tr><td>4</td><td>2019-08-04</td><td>1</td><td>4</td><td>2</td></tr><tr><td>5</td><td>2019-08-04</td><td>1</td><td>3</td><td>4</td></tr><tr><td>6</td><td>2019-08-05</td><td>2</td><td>2</td><td>4</td></tr></tbody></table></div>"
      ]
     },
     "metadata": {
      "application/vnd.databricks.v1+output": {
       "addedWidgets": {},
       "aggData": [],
       "aggError": "",
       "aggOverflow": false,
       "aggSchema": [],
       "aggSeriesLimitReached": false,
       "aggType": "",
       "arguments": {},
       "columnCustomDisplayInfos": {},
       "data": [
        [
         1,
         "2019-08-01",
         4,
         1,
         2
        ],
        [
         2,
         "2019-08-02",
         2,
         1,
         3
        ],
        [
         3,
         "2019-08-03",
         3,
         2,
         3
        ],
        [
         4,
         "2019-08-04",
         1,
         4,
         2
        ],
        [
         5,
         "2019-08-04",
         1,
         3,
         4
        ],
        [
         6,
         "2019-08-05",
         2,
         2,
         4
        ]
       ],
       "datasetInfos": [],
       "dbfsResultPath": null,
       "isJsonSchema": true,
       "metadata": {},
       "overflow": false,
       "plotOptions": {
        "customPlotOptions": {},
        "displayType": "table",
        "pivotAggregation": null,
        "pivotColumns": null,
        "xColumns": null,
        "yColumns": null
       },
       "removedWidgets": [],
       "schema": [
        {
         "metadata": "{}",
         "name": "order_id",
         "type": "\"integer\""
        },
        {
         "metadata": "{}",
         "name": "order_date",
         "type": "\"date\""
        },
        {
         "metadata": "{}",
         "name": "item_id",
         "type": "\"integer\""
        },
        {
         "metadata": "{}",
         "name": "buyer_id",
         "type": "\"integer\""
        },
        {
         "metadata": "{}",
         "name": "seller_id",
         "type": "\"integer\""
        }
       ],
       "type": "table"
      }
     },
     "output_type": "display_data"
    }
   ],
   "source": [
    "%sql\n",
    "select * from orders"
   ]
  },
  {
   "cell_type": "code",
   "execution_count": 0,
   "metadata": {
    "application/vnd.databricks.v1+cell": {
     "cellMetadata": {
      "byteLimit": 2048000,
      "implicitDf": true,
      "rowLimit": 10000
     },
     "inputWidgets": {},
     "nuid": "1e7e0fea-7a73-44e5-bca1-c59441a719d4",
     "showTitle": false,
     "title": ""
    }
   },
   "outputs": [
    {
     "output_type": "display_data",
     "data": {
      "text/html": [
       "<style scoped>\n",
       "  .table-result-container {\n",
       "    max-height: 300px;\n",
       "    overflow: auto;\n",
       "  }\n",
       "  table, th, td {\n",
       "    border: 1px solid black;\n",
       "    border-collapse: collapse;\n",
       "  }\n",
       "  th, td {\n",
       "    padding: 5px;\n",
       "  }\n",
       "  th {\n",
       "    text-align: left;\n",
       "  }\n",
       "</style><div class='table-result-container'><table class='table-result'><thead style='background-color: white'><tr><th>item_id</th><th>item_brand</th></tr></thead><tbody><tr><td>1</td><td>Samsung</td></tr><tr><td>2</td><td>Lenovo</td></tr><tr><td>3</td><td>LG</td></tr><tr><td>4</td><td>HP</td></tr></tbody></table></div>"
      ]
     },
     "metadata": {
      "application/vnd.databricks.v1+output": {
       "addedWidgets": {},
       "aggData": [],
       "aggError": "",
       "aggOverflow": false,
       "aggSchema": [],
       "aggSeriesLimitReached": false,
       "aggType": "",
       "arguments": {},
       "columnCustomDisplayInfos": {},
       "data": [
        [
         1,
         "Samsung"
        ],
        [
         2,
         "Lenovo"
        ],
        [
         3,
         "LG"
        ],
        [
         4,
         "HP"
        ]
       ],
       "datasetInfos": [],
       "dbfsResultPath": null,
       "isJsonSchema": true,
       "metadata": {},
       "overflow": false,
       "plotOptions": {
        "customPlotOptions": {},
        "displayType": "table",
        "pivotAggregation": null,
        "pivotColumns": null,
        "xColumns": null,
        "yColumns": null
       },
       "removedWidgets": [],
       "schema": [
        {
         "metadata": "{}",
         "name": "item_id",
         "type": "\"integer\""
        },
        {
         "metadata": "{\"__CHAR_VARCHAR_TYPE_STRING\":\"varchar(50)\"}",
         "name": "item_brand",
         "type": "\"string\""
        }
       ],
       "type": "table"
      }
     },
     "output_type": "display_data"
    }
   ],
   "source": [
    "%sql \n",
    "select * from items"
   ]
  },
  {
   "cell_type": "markdown",
   "metadata": {
    "application/vnd.databricks.v1+cell": {
     "cellMetadata": {},
     "inputWidgets": {},
     "nuid": "e8defe35-87a3-4ff8-b703-37a6b8452f17",
     "showTitle": false,
     "title": ""
    }
   },
   "source": [
    "<h3> Solution in sql(hive) </h3>"
   ]
  },
  {
   "cell_type": "code",
   "execution_count": 0,
   "metadata": {
    "application/vnd.databricks.v1+cell": {
     "cellMetadata": {
      "byteLimit": 2048000,
      "implicitDf": true,
      "rowLimit": 10000
     },
     "inputWidgets": {},
     "nuid": "c8a0592d-cbf4-46b2-8396-8aac8eaad6b4",
     "showTitle": false,
     "title": ""
    }
   },
   "outputs": [
    {
     "output_type": "display_data",
     "data": {
      "text/html": [
       "<style scoped>\n",
       "  .table-result-container {\n",
       "    max-height: 300px;\n",
       "    overflow: auto;\n",
       "  }\n",
       "  table, th, td {\n",
       "    border: 1px solid black;\n",
       "    border-collapse: collapse;\n",
       "  }\n",
       "  th, td {\n",
       "    padding: 5px;\n",
       "  }\n",
       "  th {\n",
       "    text-align: left;\n",
       "  }\n",
       "</style><div class='table-result-container'><table class='table-result'><thead style='background-color: white'><tr><th>seller_id</th><th>2nd_item_fav_brand</th></tr></thead><tbody><tr><td>1</td><td>No</td></tr><tr><td>2</td><td>Yes</td></tr><tr><td>3</td><td>Yes</td></tr><tr><td>4</td><td>No</td></tr></tbody></table></div>"
      ]
     },
     "metadata": {
      "application/vnd.databricks.v1+output": {
       "addedWidgets": {},
       "aggData": [],
       "aggError": "",
       "aggOverflow": false,
       "aggSchema": [],
       "aggSeriesLimitReached": false,
       "aggType": "",
       "arguments": {},
       "columnCustomDisplayInfos": {},
       "data": [
        [
         1,
         "No"
        ],
        [
         2,
         "Yes"
        ],
        [
         3,
         "Yes"
        ],
        [
         4,
         "No"
        ]
       ],
       "datasetInfos": [],
       "dbfsResultPath": null,
       "isJsonSchema": true,
       "metadata": {},
       "overflow": false,
       "plotOptions": {
        "customPlotOptions": {},
        "displayType": "table",
        "pivotAggregation": null,
        "pivotColumns": null,
        "xColumns": null,
        "yColumns": null
       },
       "removedWidgets": [],
       "schema": [
        {
         "metadata": "{}",
         "name": "seller_id",
         "type": "\"integer\""
        },
        {
         "metadata": "{}",
         "name": "2nd_item_fav_brand",
         "type": "\"string\""
        }
       ],
       "type": "table"
      }
     },
     "output_type": "display_data"
    }
   ],
   "source": [
    "%sql\n",
    "with cte as(\n",
    "select *,row_number()over(partition by seller_id order by order_date asc)rn from orders)\n",
    "select user_id as seller_id, case when favorite_brand=item_brand then 'Yes' else 'No' end as 2nd_item_fav_brand  from users\n",
    "left join cte on cte.seller_id=users.user_id and rn=2\n",
    "left join items on items.item_id = cte.item_id\n"
   ]
  },
  {
   "cell_type": "markdown",
   "metadata": {
    "application/vnd.databricks.v1+cell": {
     "cellMetadata": {},
     "inputWidgets": {},
     "nuid": "aa10ab13-cd45-4ad9-942e-d81ee2ce70d5",
     "showTitle": false,
     "title": ""
    }
   },
   "source": [
    "<h3> Solution in pyspark </h3>"
   ]
  },
  {
   "cell_type": "code",
   "execution_count": 0,
   "metadata": {
    "application/vnd.databricks.v1+cell": {
     "cellMetadata": {
      "byteLimit": 2048000,
      "rowLimit": 10000
     },
     "inputWidgets": {},
     "nuid": "8991586e-ebbf-4b9e-873f-d437635388fd",
     "showTitle": false,
     "title": ""
    }
   },
   "outputs": [],
   "source": [
    "from pyspark.sql.functions import col,row_number,asc,when\n",
    "from pyspark.sql.window import Window"
   ]
  },
  {
   "cell_type": "code",
   "execution_count": 0,
   "metadata": {
    "application/vnd.databricks.v1+cell": {
     "cellMetadata": {
      "byteLimit": 2048000,
      "rowLimit": 10000
     },
     "inputWidgets": {},
     "nuid": "06b99aaf-cfd2-487e-b7b4-21a7192dca89",
     "showTitle": false,
     "title": ""
    }
   },
   "outputs": [
    {
     "output_type": "stream",
     "name": "stdout",
     "output_type": "stream",
     "text": [
      "+-------+----------+--------------+\n|user_id| join_date|favorite_brand|\n+-------+----------+--------------+\n|      1|2019-01-01|        Lenovo|\n|      2|2019-02-09|       Samsung|\n|      3|2019-01-19|            LG|\n|      4|2019-05-21|            HP|\n+-------+----------+--------------+\n\n+--------+----------+-------+--------+---------+\n|order_id|order_date|item_id|buyer_id|seller_id|\n+--------+----------+-------+--------+---------+\n|       1|2019-08-01|      4|       1|        2|\n|       2|2019-08-02|      2|       1|        3|\n|       3|2019-08-03|      3|       2|        3|\n|       4|2019-08-04|      1|       4|        2|\n|       5|2019-08-04|      1|       3|        4|\n|       6|2019-08-05|      2|       2|        4|\n+--------+----------+-------+--------+---------+\n\n+-------+----------+\n|item_id|item_brand|\n+-------+----------+\n|      1|   Samsung|\n|      2|    Lenovo|\n|      3|        LG|\n|      4|        HP|\n+-------+----------+\n\n"
     ]
    }
   ],
   "source": [
    "df_u=spark.sql(\"select * from users\")\n",
    "df_o=spark.sql(\"select * from orders\")\n",
    "df_i=spark.sql(\"select * from items\")\n",
    "df_u.show()\n",
    "df_o.show()\n",
    "df_i.show()"
   ]
  },
  {
   "cell_type": "code",
   "execution_count": 0,
   "metadata": {
    "application/vnd.databricks.v1+cell": {
     "cellMetadata": {
      "byteLimit": 2048000,
      "rowLimit": 10000
     },
     "inputWidgets": {},
     "nuid": "79343c20-8676-4f68-8e73-fe6471c5c172",
     "showTitle": false,
     "title": ""
    }
   },
   "outputs": [
    {
     "output_type": "stream",
     "name": "stdout",
     "output_type": "stream",
     "text": [
      "+---------+------------------+\n|seller_id|2nd_item_fav_brand|\n+---------+------------------+\n|        1|                no|\n|        2|               Yes|\n|        3|               Yes|\n|        4|                no|\n+---------+------------------+\n\n"
     ]
    }
   ],
   "source": [
    "df_o=df_o.withColumn(\"rn\",row_number().over(Window.partitionBy(\"seller_id\").orderBy(col(\"order_date\").asc())))\n",
    "df_rn=df_o.filter(df_o.rn==2).select(\"seller_id\",\"item_id\")\n",
    "df_u_rn=df_u.join(df_rn,df_rn.seller_id==df_u.user_id,\"left\").select(\"user_id\",\"item_id\",\"favorite_brand\")\n",
    "df_f=df_u_rn.join(df_i,\"item_id\",\"left\")\n",
    "df_f=df_f.withColumnRenamed(\"user_id\",\"seller_id\")\n",
    "df_final=df_f.withColumn(\"2nd_item_fav_brand\",when(df_f.favorite_brand==df_f.item_brand,'Yes').otherwise(\"no\"))\n",
    "df_final.select(\"seller_id\",\"2nd_item_fav_brand\").show()"
   ]
  }
 ],
 "metadata": {
  "application/vnd.databricks.v1+notebook": {
   "dashboards": [],
   "language": "python",
   "notebookMetadata": {
    "mostRecentlyExecutedCommandWithImplicitDF": {
     "commandId": 1214035745514416,
     "dataframes": [
      "_sqldf"
     ]
    },
    "pythonIndentUnit": 4
   },
   "notebookName": "7. Complex SQL",
   "widgets": {}
  }
 },
 "nbformat": 4,
 "nbformat_minor": 0
}
