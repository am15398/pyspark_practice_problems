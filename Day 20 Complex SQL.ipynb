{
 "cells": [
  {
   "cell_type": "markdown",
   "metadata": {
    "application/vnd.databricks.v1+cell": {
     "cellMetadata": {
      "byteLimit": 2048000,
      "rowLimit": 10000
     },
     "inputWidgets": {},
     "nuid": "e70e8228-7c1e-4500-9e88-c21db34150fb",
     "showTitle": false,
     "title": ""
    }
   },
   "source": [
    "<h3> Beauty of SQL RANK Function | SQL Interview Question and Answers | Covid Cases </h3>"
   ]
  },
  {
   "cell_type": "code",
   "execution_count": 0,
   "metadata": {
    "application/vnd.databricks.v1+cell": {
     "cellMetadata": {
      "byteLimit": 2048000,
      "implicitDf": true,
      "rowLimit": 10000
     },
     "inputWidgets": {},
     "nuid": "655712c8-912b-4eaa-af3d-6f306f74fe4d",
     "showTitle": false,
     "title": ""
    }
   },
   "outputs": [
    {
     "output_type": "display_data",
     "data": {
      "text/html": [
       "<style scoped>\n",
       "  .table-result-container {\n",
       "    max-height: 300px;\n",
       "    overflow: auto;\n",
       "  }\n",
       "  table, th, td {\n",
       "    border: 1px solid black;\n",
       "    border-collapse: collapse;\n",
       "  }\n",
       "  th, td {\n",
       "    padding: 5px;\n",
       "  }\n",
       "  th {\n",
       "    text-align: left;\n",
       "  }\n",
       "</style><div class='table-result-container'><table class='table-result'><thead style='background-color: white'><tr><th>num_affected_rows</th><th>num_inserted_rows</th></tr></thead><tbody><tr><td>1</td><td>1</td></tr></tbody></table></div>"
      ]
     },
     "metadata": {
      "application/vnd.databricks.v1+output": {
       "addedWidgets": {},
       "aggData": [],
       "aggError": "",
       "aggOverflow": false,
       "aggSchema": [],
       "aggSeriesLimitReached": false,
       "aggType": "",
       "arguments": {},
       "columnCustomDisplayInfos": {},
       "data": [
        [
         1,
         1
        ]
       ],
       "datasetInfos": [],
       "dbfsResultPath": null,
       "isJsonSchema": true,
       "metadata": {},
       "overflow": false,
       "plotOptions": {
        "customPlotOptions": {},
        "displayType": "table",
        "pivotAggregation": null,
        "pivotColumns": null,
        "xColumns": null,
        "yColumns": null
       },
       "removedWidgets": [],
       "schema": [
        {
         "metadata": "{}",
         "name": "num_affected_rows",
         "type": "\"long\""
        },
        {
         "metadata": "{}",
         "name": "num_inserted_rows",
         "type": "\"long\""
        }
       ],
       "type": "table"
      }
     },
     "output_type": "display_data"
    }
   ],
   "source": [
    "%sql\n",
    "create table covid(city varchar(50),days date,cases int);\n",
    "delete from covid;\n",
    "insert into covid values('DELHI','2022-01-01',100);\n",
    "insert into covid values('DELHI','2022-01-02',200);\n",
    "insert into covid values('DELHI','2022-01-03',300);\n",
    "\n",
    "insert into covid values('MUMBAI','2022-01-01',100);\n",
    "insert into covid values('MUMBAI','2022-01-02',100);\n",
    "insert into covid values('MUMBAI','2022-01-03',300);\n",
    "\n",
    "insert into covid values('CHENNAI','2022-01-01',100);\n",
    "insert into covid values('CHENNAI','2022-01-02',200);\n",
    "insert into covid values('CHENNAI','2022-01-03',150);\n",
    "\n",
    "insert into covid values('BANGALORE','2022-01-01',100);\n",
    "insert into covid values('BANGALORE','2022-01-02',300);\n",
    "insert into covid values('BANGALORE','2022-01-03',200);\n",
    "insert into covid values('BANGALORE','2022-01-04',400);"
   ]
  },
  {
   "cell_type": "code",
   "execution_count": 0,
   "metadata": {
    "application/vnd.databricks.v1+cell": {
     "cellMetadata": {
      "byteLimit": 2048000,
      "implicitDf": true,
      "rowLimit": 10000
     },
     "inputWidgets": {},
     "nuid": "c35009be-0e74-481b-8ab0-1e8d7ba3b5a5",
     "showTitle": false,
     "title": ""
    }
   },
   "outputs": [
    {
     "output_type": "display_data",
     "data": {
      "text/html": [
       "<style scoped>\n",
       "  .table-result-container {\n",
       "    max-height: 300px;\n",
       "    overflow: auto;\n",
       "  }\n",
       "  table, th, td {\n",
       "    border: 1px solid black;\n",
       "    border-collapse: collapse;\n",
       "  }\n",
       "  th, td {\n",
       "    padding: 5px;\n",
       "  }\n",
       "  th {\n",
       "    text-align: left;\n",
       "  }\n",
       "</style><div class='table-result-container'><table class='table-result'><thead style='background-color: white'><tr><th>city</th><th>days</th><th>cases</th></tr></thead><tbody><tr><td>BANGALORE</td><td>2022-01-01</td><td>100</td></tr><tr><td>BANGALORE</td><td>2022-01-02</td><td>300</td></tr><tr><td>BANGALORE</td><td>2022-01-03</td><td>200</td></tr><tr><td>BANGALORE</td><td>2022-01-04</td><td>400</td></tr><tr><td>CHENNAI</td><td>2022-01-01</td><td>100</td></tr><tr><td>CHENNAI</td><td>2022-01-02</td><td>200</td></tr><tr><td>CHENNAI</td><td>2022-01-03</td><td>150</td></tr><tr><td>MUMBAI</td><td>2022-01-02</td><td>100</td></tr><tr><td>MUMBAI</td><td>2022-01-03</td><td>300</td></tr><tr><td>MUMBAI</td><td>2022-01-01</td><td>100</td></tr><tr><td>DELHI</td><td>2022-01-02</td><td>200</td></tr><tr><td>DELHI</td><td>2022-01-01</td><td>100</td></tr><tr><td>DELHI</td><td>2022-01-03</td><td>300</td></tr></tbody></table></div>"
      ]
     },
     "metadata": {
      "application/vnd.databricks.v1+output": {
       "addedWidgets": {},
       "aggData": [],
       "aggError": "",
       "aggOverflow": false,
       "aggSchema": [],
       "aggSeriesLimitReached": false,
       "aggType": "",
       "arguments": {},
       "columnCustomDisplayInfos": {},
       "data": [
        [
         "BANGALORE",
         "2022-01-01",
         100
        ],
        [
         "BANGALORE",
         "2022-01-02",
         300
        ],
        [
         "BANGALORE",
         "2022-01-03",
         200
        ],
        [
         "BANGALORE",
         "2022-01-04",
         400
        ],
        [
         "CHENNAI",
         "2022-01-01",
         100
        ],
        [
         "CHENNAI",
         "2022-01-02",
         200
        ],
        [
         "CHENNAI",
         "2022-01-03",
         150
        ],
        [
         "MUMBAI",
         "2022-01-02",
         100
        ],
        [
         "MUMBAI",
         "2022-01-03",
         300
        ],
        [
         "MUMBAI",
         "2022-01-01",
         100
        ],
        [
         "DELHI",
         "2022-01-02",
         200
        ],
        [
         "DELHI",
         "2022-01-01",
         100
        ],
        [
         "DELHI",
         "2022-01-03",
         300
        ]
       ],
       "datasetInfos": [],
       "dbfsResultPath": null,
       "isJsonSchema": true,
       "metadata": {},
       "overflow": false,
       "plotOptions": {
        "customPlotOptions": {},
        "displayType": "table",
        "pivotAggregation": null,
        "pivotColumns": null,
        "xColumns": null,
        "yColumns": null
       },
       "removedWidgets": [],
       "schema": [
        {
         "metadata": "{\"__CHAR_VARCHAR_TYPE_STRING\":\"varchar(50)\"}",
         "name": "city",
         "type": "\"string\""
        },
        {
         "metadata": "{}",
         "name": "days",
         "type": "\"date\""
        },
        {
         "metadata": "{}",
         "name": "cases",
         "type": "\"integer\""
        }
       ],
       "type": "table"
      }
     },
     "output_type": "display_data"
    }
   ],
   "source": [
    "%sql\n",
    "select * from covid"
   ]
  },
  {
   "cell_type": "code",
   "execution_count": 0,
   "metadata": {
    "application/vnd.databricks.v1+cell": {
     "cellMetadata": {
      "byteLimit": 2048000,
      "implicitDf": true,
      "rowLimit": 10000
     },
     "inputWidgets": {},
     "nuid": "62ef3896-be04-42c2-83c7-33ac5815e727",
     "showTitle": false,
     "title": ""
    }
   },
   "outputs": [
    {
     "output_type": "display_data",
     "data": {
      "text/html": [
       "<style scoped>\n",
       "  .table-result-container {\n",
       "    max-height: 300px;\n",
       "    overflow: auto;\n",
       "  }\n",
       "  table, th, td {\n",
       "    border: 1px solid black;\n",
       "    border-collapse: collapse;\n",
       "  }\n",
       "  th, td {\n",
       "    padding: 5px;\n",
       "  }\n",
       "  th {\n",
       "    text-align: left;\n",
       "  }\n",
       "</style><div class='table-result-container'><table class='table-result'><thead style='background-color: white'><tr><th>city</th></tr></thead><tbody><tr><td>DELHI</td></tr></tbody></table></div>"
      ]
     },
     "metadata": {
      "application/vnd.databricks.v1+output": {
       "addedWidgets": {},
       "aggData": [],
       "aggError": "",
       "aggOverflow": false,
       "aggSchema": [],
       "aggSeriesLimitReached": false,
       "aggType": "",
       "arguments": {},
       "columnCustomDisplayInfos": {},
       "data": [
        [
         "DELHI"
        ]
       ],
       "datasetInfos": [],
       "dbfsResultPath": null,
       "isJsonSchema": true,
       "metadata": {},
       "overflow": false,
       "plotOptions": {
        "customPlotOptions": {},
        "displayType": "table",
        "pivotAggregation": null,
        "pivotColumns": null,
        "xColumns": null,
        "yColumns": null
       },
       "removedWidgets": [],
       "schema": [
        {
         "metadata": "{\"__CHAR_VARCHAR_TYPE_STRING\":\"varchar(50)\"}",
         "name": "city",
         "type": "\"string\""
        }
       ],
       "type": "table"
      }
     },
     "output_type": "display_data"
    }
   ],
   "source": [
    "%sql\n",
    "\n",
    "select city from (\n",
    "select *,rank()over(partition by city order by days)days_rnk,rank()over(partition by city order by cases)cases_rnk\n",
    ",rank()over(partition by city order by days)-rank()over(partition by city order by cases) as diff\n",
    " from covid)a1\n",
    " group by city\n",
    " having count(distinct diff)==1 and avg(diff)=0"
   ]
  },
  {
   "cell_type": "markdown",
   "metadata": {
    "application/vnd.databricks.v1+cell": {
     "cellMetadata": {},
     "inputWidgets": {},
     "nuid": "a252bf52-2467-4410-820f-eb60b3545025",
     "showTitle": false,
     "title": ""
    }
   },
   "source": [
    "<h3> solution in pyspark <\\h3>"
   ]
  },
  {
   "cell_type": "code",
   "execution_count": 0,
   "metadata": {
    "application/vnd.databricks.v1+cell": {
     "cellMetadata": {
      "byteLimit": 2048000,
      "rowLimit": 10000
     },
     "inputWidgets": {},
     "nuid": "8991586e-ebbf-4b9e-873f-d437635388fd",
     "showTitle": false,
     "title": ""
    }
   },
   "outputs": [],
   "source": [
    "from pyspark.sql.functions import col,rank,countDistinct,avg\n",
    "from pyspark.sql.window import Window"
   ]
  },
  {
   "cell_type": "code",
   "execution_count": 0,
   "metadata": {
    "application/vnd.databricks.v1+cell": {
     "cellMetadata": {
      "byteLimit": 2048000,
      "rowLimit": 10000
     },
     "inputWidgets": {},
     "nuid": "771ae21d-14f1-4316-ba01-3125a859fb04",
     "showTitle": false,
     "title": ""
    }
   },
   "outputs": [
    {
     "output_type": "stream",
     "name": "stdout",
     "output_type": "stream",
     "text": [
      "+---------+----------+-----+\n|     city|      days|cases|\n+---------+----------+-----+\n|BANGALORE|2022-01-01|  100|\n|BANGALORE|2022-01-02|  300|\n|BANGALORE|2022-01-03|  200|\n|BANGALORE|2022-01-04|  400|\n|  CHENNAI|2022-01-01|  100|\n|  CHENNAI|2022-01-02|  200|\n|  CHENNAI|2022-01-03|  150|\n|   MUMBAI|2022-01-02|  100|\n|   MUMBAI|2022-01-03|  300|\n|   MUMBAI|2022-01-01|  100|\n|    DELHI|2022-01-02|  200|\n|    DELHI|2022-01-01|  100|\n|    DELHI|2022-01-03|  300|\n+---------+----------+-----+\n\n"
     ]
    }
   ],
   "source": [
    "df_c=spark.sql(\"select * from covid\")\n",
    "df_c.show()"
   ]
  },
  {
   "cell_type": "code",
   "execution_count": 0,
   "metadata": {
    "application/vnd.databricks.v1+cell": {
     "cellMetadata": {
      "byteLimit": 2048000,
      "rowLimit": 10000
     },
     "inputWidgets": {},
     "nuid": "8694b0e9-3afd-4a25-8708-070fddd1ceb6",
     "showTitle": false,
     "title": ""
    }
   },
   "outputs": [
    {
     "output_type": "stream",
     "name": "stdout",
     "output_type": "stream",
     "text": [
      "+-----+\n| city|\n+-----+\n|DELHI|\n+-----+\n\n"
     ]
    }
   ],
   "source": [
    "df_c=df_c.withColumn(\"day_rnk\",rank().over(Window.partitionBy(\"city\").orderBy(\"days\"))).\\\n",
    "    withColumn(\"case_rnk\",rank().over(Window.partitionBy(\"city\").orderBy(\"cases\")))\n",
    "df_f=df_c.withColumn(\"diff\",col(\"day_rnk\")-col(\"case_rnk\")).groupBy(\"city\")\\\n",
    "    .agg(countDistinct(\"diff\").alias(\"c_dist\"),avg(\"diff\").alias(\"avg_diff\"))\n",
    "df_f.filter((col(\"c_dist\")==1)&(col(\"avg_diff\")==0.0)).select(\"city\").show()"
   ]
  }
 ],
 "metadata": {
  "application/vnd.databricks.v1+notebook": {
   "dashboards": [],
   "language": "python",
   "notebookMetadata": {
    "mostRecentlyExecutedCommandWithImplicitDF": {
     "commandId": 2469719601851352,
     "dataframes": [
      "_sqldf"
     ]
    },
    "pythonIndentUnit": 4
   },
   "notebookName": "Day 20 Complex SQL",
   "widgets": {}
  }
 },
 "nbformat": 4,
 "nbformat_minor": 0
}
