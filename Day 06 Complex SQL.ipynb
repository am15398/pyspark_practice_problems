{
 "cells": [
  {
   "cell_type": "markdown",
   "metadata": {
    "application/vnd.databricks.v1+cell": {
     "cellMetadata": {},
     "inputWidgets": {},
     "nuid": "e70e8228-7c1e-4500-9e88-c21db34150fb",
     "showTitle": false,
     "title": ""
    }
   },
   "source": [
    "<h3> Leetcode Hard problem 2| Tournament Winners | Complex SQL 8 </h3>"
   ]
  },
  {
   "cell_type": "code",
   "execution_count": 0,
   "metadata": {
    "application/vnd.databricks.v1+cell": {
     "cellMetadata": {
      "byteLimit": 2048000,
      "implicitDf": true,
      "rowLimit": 10000
     },
     "inputWidgets": {},
     "nuid": "58741a57-573d-4fa3-963d-823b3369facc",
     "showTitle": false,
     "title": ""
    }
   },
   "outputs": [
    {
     "output_type": "display_data",
     "data": {
      "text/html": [
       "<style scoped>\n",
       "  .table-result-container {\n",
       "    max-height: 300px;\n",
       "    overflow: auto;\n",
       "  }\n",
       "  table, th, td {\n",
       "    border: 1px solid black;\n",
       "    border-collapse: collapse;\n",
       "  }\n",
       "  th, td {\n",
       "    padding: 5px;\n",
       "  }\n",
       "  th {\n",
       "    text-align: left;\n",
       "  }\n",
       "</style><div class='table-result-container'><table class='table-result'><thead style='background-color: white'><tr><th>num_affected_rows</th><th>num_inserted_rows</th></tr></thead><tbody><tr><td>1</td><td>1</td></tr></tbody></table></div>"
      ]
     },
     "metadata": {
      "application/vnd.databricks.v1+output": {
       "addedWidgets": {},
       "aggData": [],
       "aggError": "",
       "aggOverflow": false,
       "aggSchema": [],
       "aggSeriesLimitReached": false,
       "aggType": "",
       "arguments": {},
       "columnCustomDisplayInfos": {},
       "data": [
        [
         1,
         1
        ]
       ],
       "datasetInfos": [],
       "dbfsResultPath": null,
       "isJsonSchema": true,
       "metadata": {},
       "overflow": false,
       "plotOptions": {
        "customPlotOptions": {},
        "displayType": "table",
        "pivotAggregation": null,
        "pivotColumns": null,
        "xColumns": null,
        "yColumns": null
       },
       "removedWidgets": [],
       "schema": [
        {
         "metadata": "{}",
         "name": "num_affected_rows",
         "type": "\"long\""
        },
        {
         "metadata": "{}",
         "name": "num_inserted_rows",
         "type": "\"long\""
        }
       ],
       "type": "table"
      }
     },
     "output_type": "display_data"
    }
   ],
   "source": [
    "%sql\n",
    "drop table if exists players;\n",
    "create table players\n",
    "(player_id int,\n",
    "group_id int);\n",
    "\n",
    "insert into players values (15,1);\n",
    "insert into players values (25,1);\n",
    "insert into players values (30,1);\n",
    "insert into players values (45,1);\n",
    "insert into players values (10,2);\n",
    "insert into players values (35,2);\n",
    "insert into players values (50,2);\n",
    "insert into players values (20,3);\n",
    "insert into players values (40,3);\n",
    "\n",
    "drop table if exists matches;\n",
    "create table matches\n",
    "(\n",
    "match_id int,\n",
    "first_player int,\n",
    "second_player int,\n",
    "first_score int,\n",
    "second_score int);\n",
    "\n",
    "insert into matches values (1,15,45,3,0);\n",
    "insert into matches values (2,30,25,1,2);\n",
    "insert into matches values (3,30,15,2,0);\n",
    "insert into matches values (4,40,20,5,2);\n",
    "insert into matches values (5,35,50,1,1);"
   ]
  },
  {
   "cell_type": "code",
   "execution_count": 0,
   "metadata": {
    "application/vnd.databricks.v1+cell": {
     "cellMetadata": {
      "byteLimit": 2048000,
      "implicitDf": true,
      "rowLimit": 10000
     },
     "inputWidgets": {},
     "nuid": "845012af-a51b-4d37-940b-7ebfcebb912b",
     "showTitle": false,
     "title": ""
    }
   },
   "outputs": [
    {
     "output_type": "display_data",
     "data": {
      "text/html": [
       "<style scoped>\n",
       "  .table-result-container {\n",
       "    max-height: 300px;\n",
       "    overflow: auto;\n",
       "  }\n",
       "  table, th, td {\n",
       "    border: 1px solid black;\n",
       "    border-collapse: collapse;\n",
       "  }\n",
       "  th, td {\n",
       "    padding: 5px;\n",
       "  }\n",
       "  th {\n",
       "    text-align: left;\n",
       "  }\n",
       "</style><div class='table-result-container'><table class='table-result'><thead style='background-color: white'><tr><th>player_id</th><th>group_id</th></tr></thead><tbody><tr><td>15</td><td>1</td></tr><tr><td>25</td><td>1</td></tr><tr><td>30</td><td>1</td></tr><tr><td>45</td><td>1</td></tr><tr><td>10</td><td>2</td></tr><tr><td>35</td><td>2</td></tr><tr><td>50</td><td>2</td></tr><tr><td>20</td><td>3</td></tr><tr><td>40</td><td>3</td></tr></tbody></table></div>"
      ]
     },
     "metadata": {
      "application/vnd.databricks.v1+output": {
       "addedWidgets": {},
       "aggData": [],
       "aggError": "",
       "aggOverflow": false,
       "aggSchema": [],
       "aggSeriesLimitReached": false,
       "aggType": "",
       "arguments": {},
       "columnCustomDisplayInfos": {},
       "data": [
        [
         15,
         1
        ],
        [
         25,
         1
        ],
        [
         30,
         1
        ],
        [
         45,
         1
        ],
        [
         10,
         2
        ],
        [
         35,
         2
        ],
        [
         50,
         2
        ],
        [
         20,
         3
        ],
        [
         40,
         3
        ]
       ],
       "datasetInfos": [],
       "dbfsResultPath": null,
       "isJsonSchema": true,
       "metadata": {},
       "overflow": false,
       "plotOptions": {
        "customPlotOptions": {},
        "displayType": "table",
        "pivotAggregation": null,
        "pivotColumns": null,
        "xColumns": null,
        "yColumns": null
       },
       "removedWidgets": [],
       "schema": [
        {
         "metadata": "{}",
         "name": "player_id",
         "type": "\"integer\""
        },
        {
         "metadata": "{}",
         "name": "group_id",
         "type": "\"integer\""
        }
       ],
       "type": "table"
      }
     },
     "output_type": "display_data"
    }
   ],
   "source": [
    "%sql\n",
    "select * from players"
   ]
  },
  {
   "cell_type": "code",
   "execution_count": 0,
   "metadata": {
    "application/vnd.databricks.v1+cell": {
     "cellMetadata": {
      "byteLimit": 2048000,
      "implicitDf": true,
      "rowLimit": 10000
     },
     "inputWidgets": {},
     "nuid": "1cff309e-d2ef-4b3d-b623-7c4c4d9399f4",
     "showTitle": false,
     "title": ""
    }
   },
   "outputs": [
    {
     "output_type": "display_data",
     "data": {
      "text/html": [
       "<style scoped>\n",
       "  .table-result-container {\n",
       "    max-height: 300px;\n",
       "    overflow: auto;\n",
       "  }\n",
       "  table, th, td {\n",
       "    border: 1px solid black;\n",
       "    border-collapse: collapse;\n",
       "  }\n",
       "  th, td {\n",
       "    padding: 5px;\n",
       "  }\n",
       "  th {\n",
       "    text-align: left;\n",
       "  }\n",
       "</style><div class='table-result-container'><table class='table-result'><thead style='background-color: white'><tr><th>match_id</th><th>first_player</th><th>second_player</th><th>first_score</th><th>second_score</th></tr></thead><tbody><tr><td>1</td><td>15</td><td>45</td><td>3</td><td>0</td></tr><tr><td>2</td><td>30</td><td>25</td><td>1</td><td>2</td></tr><tr><td>3</td><td>30</td><td>15</td><td>2</td><td>0</td></tr><tr><td>4</td><td>40</td><td>20</td><td>5</td><td>2</td></tr><tr><td>5</td><td>35</td><td>50</td><td>1</td><td>1</td></tr></tbody></table></div>"
      ]
     },
     "metadata": {
      "application/vnd.databricks.v1+output": {
       "addedWidgets": {},
       "aggData": [],
       "aggError": "",
       "aggOverflow": false,
       "aggSchema": [],
       "aggSeriesLimitReached": false,
       "aggType": "",
       "arguments": {},
       "columnCustomDisplayInfos": {},
       "data": [
        [
         1,
         15,
         45,
         3,
         0
        ],
        [
         2,
         30,
         25,
         1,
         2
        ],
        [
         3,
         30,
         15,
         2,
         0
        ],
        [
         4,
         40,
         20,
         5,
         2
        ],
        [
         5,
         35,
         50,
         1,
         1
        ]
       ],
       "datasetInfos": [],
       "dbfsResultPath": null,
       "isJsonSchema": true,
       "metadata": {},
       "overflow": false,
       "plotOptions": {
        "customPlotOptions": {},
        "displayType": "table",
        "pivotAggregation": null,
        "pivotColumns": null,
        "xColumns": null,
        "yColumns": null
       },
       "removedWidgets": [],
       "schema": [
        {
         "metadata": "{}",
         "name": "match_id",
         "type": "\"integer\""
        },
        {
         "metadata": "{}",
         "name": "first_player",
         "type": "\"integer\""
        },
        {
         "metadata": "{}",
         "name": "second_player",
         "type": "\"integer\""
        },
        {
         "metadata": "{}",
         "name": "first_score",
         "type": "\"integer\""
        },
        {
         "metadata": "{}",
         "name": "second_score",
         "type": "\"integer\""
        }
       ],
       "type": "table"
      }
     },
     "output_type": "display_data"
    }
   ],
   "source": [
    "%sql\n",
    "select * from matches"
   ]
  },
  {
   "cell_type": "markdown",
   "metadata": {
    "application/vnd.databricks.v1+cell": {
     "cellMetadata": {},
     "inputWidgets": {},
     "nuid": "e8defe35-87a3-4ff8-b703-37a6b8452f17",
     "showTitle": false,
     "title": ""
    }
   },
   "source": [
    "<h3> Solution in sql(hive) </h3>"
   ]
  },
  {
   "cell_type": "code",
   "execution_count": 0,
   "metadata": {
    "application/vnd.databricks.v1+cell": {
     "cellMetadata": {
      "byteLimit": 2048000,
      "implicitDf": true,
      "rowLimit": 10000
     },
     "inputWidgets": {},
     "nuid": "c8a0592d-cbf4-46b2-8396-8aac8eaad6b4",
     "showTitle": false,
     "title": ""
    }
   },
   "outputs": [
    {
     "output_type": "display_data",
     "data": {
      "text/html": [
       "<style scoped>\n",
       "  .table-result-container {\n",
       "    max-height: 300px;\n",
       "    overflow: auto;\n",
       "  }\n",
       "  table, th, td {\n",
       "    border: 1px solid black;\n",
       "    border-collapse: collapse;\n",
       "  }\n",
       "  th, td {\n",
       "    padding: 5px;\n",
       "  }\n",
       "  th {\n",
       "    text-align: left;\n",
       "  }\n",
       "</style><div class='table-result-container'><table class='table-result'><thead style='background-color: white'><tr><th>group_id</th><th>player_id</th></tr></thead><tbody><tr><td>1</td><td>15</td></tr><tr><td>2</td><td>35</td></tr><tr><td>3</td><td>40</td></tr></tbody></table></div>"
      ]
     },
     "metadata": {
      "application/vnd.databricks.v1+output": {
       "addedWidgets": {},
       "aggData": [],
       "aggError": "",
       "aggOverflow": false,
       "aggSchema": [],
       "aggSeriesLimitReached": false,
       "aggType": "",
       "arguments": {},
       "columnCustomDisplayInfos": {},
       "data": [
        [
         1,
         15
        ],
        [
         2,
         35
        ],
        [
         3,
         40
        ]
       ],
       "datasetInfos": [],
       "dbfsResultPath": null,
       "isJsonSchema": true,
       "metadata": {},
       "overflow": false,
       "plotOptions": {
        "customPlotOptions": {},
        "displayType": "table",
        "pivotAggregation": null,
        "pivotColumns": null,
        "xColumns": null,
        "yColumns": null
       },
       "removedWidgets": [],
       "schema": [
        {
         "metadata": "{}",
         "name": "group_id",
         "type": "\"integer\""
        },
        {
         "metadata": "{}",
         "name": "player_id",
         "type": "\"integer\""
        }
       ],
       "type": "table"
      }
     },
     "output_type": "display_data"
    }
   ],
   "source": [
    "%sql\n",
    "\n",
    "select group_id,player_id from (\n",
    "select player_id,group_id,s_score,\n",
    "row_number()over(partition by group_id order by group_id,s_score desc,player_id asc) as rn from players \n",
    "inner join (\n",
    "select player,sum(score) as s_score from (\n",
    "select first_player as player ,first_score as score from matches\n",
    "union all\n",
    "select second_player as player ,second_score as score from matches)a1\n",
    "group by player)mat on mat.player=players.player_id)a2\n",
    "where rn=1 \n"
   ]
  },
  {
   "cell_type": "markdown",
   "metadata": {
    "application/vnd.databricks.v1+cell": {
     "cellMetadata": {},
     "inputWidgets": {},
     "nuid": "aa10ab13-cd45-4ad9-942e-d81ee2ce70d5",
     "showTitle": false,
     "title": ""
    }
   },
   "source": [
    "<h3> Solution in pyspark </h3>"
   ]
  },
  {
   "cell_type": "code",
   "execution_count": 0,
   "metadata": {
    "application/vnd.databricks.v1+cell": {
     "cellMetadata": {
      "byteLimit": 2048000,
      "rowLimit": 10000
     },
     "inputWidgets": {},
     "nuid": "8991586e-ebbf-4b9e-873f-d437635388fd",
     "showTitle": false,
     "title": ""
    }
   },
   "outputs": [],
   "source": [
    "from pyspark.sql.functions import col,sum,row_number\n",
    "from pyspark.sql.window import Window"
   ]
  },
  {
   "cell_type": "code",
   "execution_count": 0,
   "metadata": {
    "application/vnd.databricks.v1+cell": {
     "cellMetadata": {
      "byteLimit": 2048000,
      "rowLimit": 10000
     },
     "inputWidgets": {},
     "nuid": "06b99aaf-cfd2-487e-b7b4-21a7192dca89",
     "showTitle": false,
     "title": ""
    }
   },
   "outputs": [
    {
     "output_type": "stream",
     "name": "stdout",
     "output_type": "stream",
     "text": [
      "+---------+--------+\n|player_id|group_id|\n+---------+--------+\n|       15|       1|\n|       25|       1|\n|       30|       1|\n|       45|       1|\n|       10|       2|\n|       35|       2|\n|       50|       2|\n|       20|       3|\n|       40|       3|\n+---------+--------+\n\n+--------+------------+-------------+-----------+------------+\n|match_id|first_player|second_player|first_score|second_score|\n+--------+------------+-------------+-----------+------------+\n|       1|          15|           45|          3|           0|\n|       2|          30|           25|          1|           2|\n|       3|          30|           15|          2|           0|\n|       4|          40|           20|          5|           2|\n|       5|          35|           50|          1|           1|\n+--------+------------+-------------+-----------+------------+\n\n"
     ]
    }
   ],
   "source": [
    "df_m=spark.sql(\"select * from matches\")\n",
    "df_p=spark.sql(\"select * from players\")\n",
    "df_p.show()\n",
    "df_m.show()"
   ]
  },
  {
   "cell_type": "code",
   "execution_count": 0,
   "metadata": {
    "application/vnd.databricks.v1+cell": {
     "cellMetadata": {
      "byteLimit": 2048000,
      "rowLimit": 10000
     },
     "inputWidgets": {},
     "nuid": "79343c20-8676-4f68-8e73-fe6471c5c172",
     "showTitle": false,
     "title": ""
    }
   },
   "outputs": [
    {
     "output_type": "stream",
     "name": "stdout",
     "output_type": "stream",
     "text": [
      "+--------+---------+\n|group_id|player_id|\n+--------+---------+\n|       1|       15|\n|       2|       35|\n|       3|       40|\n+--------+---------+\n\n"
     ]
    }
   ],
   "source": [
    "df_m_union=df_m.select(df_m[\"first_player\"].alias(\"player\"),df_m[\"first_score\"].alias(\"score\")).unionAll\\\n",
    "    (df_m.select(df_m[\"second_player\"].alias(\"player\"),df_m[\"second_score\"].alias(\"score\")))\n",
    "df_m_sum=df_m_union.groupBy(\"player\").agg(sum(\"score\").alias(\"score\"))\n",
    "df_f=df_m_sum.join(df_p,df_p.player_id==df_m_sum.player,\"inner\").select(\"group_id\",\"player_id\",\"score\")\n",
    "win=Window.partitionBy(\"group_id\").orderBy(col(\"score\").desc(),col(\"player_id\").asc())\n",
    "df_final=df_f.withColumn(\"rn\",row_number().over(win))\n",
    "df_final.filter(df_final.rn==1).select(\"group_id\",\"player_id\").show()"
   ]
  }
 ],
 "metadata": {
  "application/vnd.databricks.v1+notebook": {
   "dashboards": [],
   "language": "python",
   "notebookMetadata": {
    "mostRecentlyExecutedCommandWithImplicitDF": {
     "commandId": 1214035745514416,
     "dataframes": [
      "_sqldf"
     ]
    },
    "pythonIndentUnit": 4
   },
   "notebookName": "6. Complex SQL",
   "widgets": {}
  }
 },
 "nbformat": 4,
 "nbformat_minor": 0
}
