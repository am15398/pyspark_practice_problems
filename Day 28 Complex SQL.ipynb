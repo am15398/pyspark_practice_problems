{
 "cells": [
  {
   "cell_type": "markdown",
   "metadata": {
    "application/vnd.databricks.v1+cell": {
     "cellMetadata": {},
     "inputWidgets": {},
     "nuid": "1db2990f-dbe7-4bd0-8738-6fefe71e8c17",
     "showTitle": false,
     "title": ""
    }
   },
   "source": [
    "<h3> I Asked This SQL Interview Question in an Amazon Interview | Most Asked SQL Problem with a Twist <\\h3>"
   ]
  },
  {
   "cell_type": "code",
   "execution_count": 0,
   "metadata": {
    "application/vnd.databricks.v1+cell": {
     "cellMetadata": {
      "byteLimit": 2048000,
      "implicitDf": true,
      "rowLimit": 10000
     },
     "inputWidgets": {},
     "nuid": "475b8bb4-7dfd-45f5-87c6-174c9944a5d0",
     "showTitle": false,
     "title": ""
    }
   },
   "outputs": [
    {
     "output_type": "display_data",
     "data": {
      "text/html": [
       "<style scoped>\n",
       "  .table-result-container {\n",
       "    max-height: 300px;\n",
       "    overflow: auto;\n",
       "  }\n",
       "  table, th, td {\n",
       "    border: 1px solid black;\n",
       "    border-collapse: collapse;\n",
       "  }\n",
       "  th, td {\n",
       "    padding: 5px;\n",
       "  }\n",
       "  th {\n",
       "    text-align: left;\n",
       "  }\n",
       "</style><div class='table-result-container'><table class='table-result'><thead style='background-color: white'><tr><th>num_affected_rows</th><th>num_inserted_rows</th></tr></thead><tbody><tr><td>1</td><td>1</td></tr></tbody></table></div>"
      ]
     },
     "metadata": {
      "application/vnd.databricks.v1+output": {
       "addedWidgets": {},
       "aggData": [],
       "aggError": "",
       "aggOverflow": false,
       "aggSchema": [],
       "aggSeriesLimitReached": false,
       "aggType": "",
       "arguments": {},
       "columnCustomDisplayInfos": {},
       "data": [
        [
         1,
         1
        ]
       ],
       "datasetInfos": [],
       "dbfsResultPath": null,
       "isJsonSchema": true,
       "metadata": {},
       "overflow": false,
       "plotOptions": {
        "customPlotOptions": {},
        "displayType": "table",
        "pivotAggregation": null,
        "pivotColumns": null,
        "xColumns": null,
        "yColumns": null
       },
       "removedWidgets": [],
       "schema": [
        {
         "metadata": "{}",
         "name": "num_affected_rows",
         "type": "\"long\""
        },
        {
         "metadata": "{}",
         "name": "num_inserted_rows",
         "type": "\"long\""
        }
       ],
       "type": "table"
      }
     },
     "output_type": "display_data"
    }
   ],
   "source": [
    "%sql\n",
    "CREATE TABLE emp(\n",
    " emp_id int ,\n",
    " emp_name varchar(50) ,\n",
    " salary int ,\n",
    " manager_id int ,\n",
    " emp_age int ,\n",
    " dep_id int ,\n",
    " dep_name varchar(20) ,\n",
    " gender varchar(10) \n",
    ") ;\n",
    "insert into emp values(1,'Ankit',14300,4,39,100,'Analytics','Female');\n",
    "insert into emp values(2,'Mohit',14000,5,48,200,'IT','Male');\n",
    "insert into emp values(3,'Vikas',12100,4,37,100,'Analytics','Female');\n",
    "insert into emp values(4,'Rohit',7260,2,16,100,'Analytics','Female');\n",
    "insert into emp values(5,'Mudit',15000,6,55,200,'IT','Male');\n",
    "insert into emp values(6,'Agam',15600,2,14,200,'IT','Male');\n",
    "insert into emp values(7,'Sanjay',12000,2,13,200,'IT','Male');\n",
    "insert into emp values(8,'Ashish',7200,2,12,200,'IT','Male');\n",
    "insert into emp values(9,'Mukesh',7000,6,51,300,'HR','Male');\n",
    "insert into emp values(10,'Rakesh',8000,6,50,300,'HR','Male');\n",
    "insert into emp values(11,'Akhil',4000,1,31,500,'Ops','Male');"
   ]
  },
  {
   "cell_type": "code",
   "execution_count": 0,
   "metadata": {
    "application/vnd.databricks.v1+cell": {
     "cellMetadata": {
      "byteLimit": 2048000,
      "implicitDf": true,
      "rowLimit": 10000
     },
     "inputWidgets": {},
     "nuid": "f0f4fa72-3e8e-43f9-832d-4911703f2cfe",
     "showTitle": false,
     "title": ""
    }
   },
   "outputs": [
    {
     "output_type": "display_data",
     "data": {
      "text/html": [
       "<style scoped>\n",
       "  .table-result-container {\n",
       "    max-height: 300px;\n",
       "    overflow: auto;\n",
       "  }\n",
       "  table, th, td {\n",
       "    border: 1px solid black;\n",
       "    border-collapse: collapse;\n",
       "  }\n",
       "  th, td {\n",
       "    padding: 5px;\n",
       "  }\n",
       "  th {\n",
       "    text-align: left;\n",
       "  }\n",
       "</style><div class='table-result-container'><table class='table-result'><thead style='background-color: white'><tr><th>emp_id</th><th>emp_name</th><th>salary</th><th>manager_id</th><th>emp_age</th><th>dep_id</th><th>dep_name</th><th>gender</th></tr></thead><tbody><tr><td>4</td><td>Rohit</td><td>7260</td><td>2</td><td>16</td><td>100</td><td>Analytics</td><td>Female</td></tr><tr><td>3</td><td>Vikas</td><td>12100</td><td>4</td><td>37</td><td>100</td><td>Analytics</td><td>Female</td></tr><tr><td>1</td><td>Ankit</td><td>14300</td><td>4</td><td>39</td><td>100</td><td>Analytics</td><td>Female</td></tr><tr><td>8</td><td>Ashish</td><td>7200</td><td>2</td><td>12</td><td>200</td><td>IT</td><td>Male</td></tr><tr><td>10</td><td>Rakesh</td><td>8000</td><td>6</td><td>50</td><td>300</td><td>HR</td><td>Male</td></tr><tr><td>11</td><td>Akhil</td><td>4000</td><td>1</td><td>31</td><td>500</td><td>Ops</td><td>Male</td></tr><tr><td>7</td><td>Sanjay</td><td>12000</td><td>2</td><td>13</td><td>200</td><td>IT</td><td>Male</td></tr><tr><td>9</td><td>Mukesh</td><td>7000</td><td>6</td><td>51</td><td>300</td><td>HR</td><td>Male</td></tr><tr><td>2</td><td>Mohit</td><td>14000</td><td>5</td><td>48</td><td>200</td><td>IT</td><td>Male</td></tr><tr><td>5</td><td>Mudit</td><td>15000</td><td>6</td><td>55</td><td>200</td><td>IT</td><td>Male</td></tr><tr><td>6</td><td>Agam</td><td>15600</td><td>2</td><td>14</td><td>200</td><td>IT</td><td>Male</td></tr></tbody></table></div>"
      ]
     },
     "metadata": {
      "application/vnd.databricks.v1+output": {
       "addedWidgets": {},
       "aggData": [],
       "aggError": "",
       "aggOverflow": false,
       "aggSchema": [],
       "aggSeriesLimitReached": false,
       "aggType": "",
       "arguments": {},
       "columnCustomDisplayInfos": {},
       "data": [
        [
         4,
         "Rohit",
         7260,
         2,
         16,
         100,
         "Analytics",
         "Female"
        ],
        [
         3,
         "Vikas",
         12100,
         4,
         37,
         100,
         "Analytics",
         "Female"
        ],
        [
         1,
         "Ankit",
         14300,
         4,
         39,
         100,
         "Analytics",
         "Female"
        ],
        [
         8,
         "Ashish",
         7200,
         2,
         12,
         200,
         "IT",
         "Male"
        ],
        [
         10,
         "Rakesh",
         8000,
         6,
         50,
         300,
         "HR",
         "Male"
        ],
        [
         11,
         "Akhil",
         4000,
         1,
         31,
         500,
         "Ops",
         "Male"
        ],
        [
         7,
         "Sanjay",
         12000,
         2,
         13,
         200,
         "IT",
         "Male"
        ],
        [
         9,
         "Mukesh",
         7000,
         6,
         51,
         300,
         "HR",
         "Male"
        ],
        [
         2,
         "Mohit",
         14000,
         5,
         48,
         200,
         "IT",
         "Male"
        ],
        [
         5,
         "Mudit",
         15000,
         6,
         55,
         200,
         "IT",
         "Male"
        ],
        [
         6,
         "Agam",
         15600,
         2,
         14,
         200,
         "IT",
         "Male"
        ]
       ],
       "datasetInfos": [],
       "dbfsResultPath": null,
       "isJsonSchema": true,
       "metadata": {},
       "overflow": false,
       "plotOptions": {
        "customPlotOptions": {},
        "displayType": "table",
        "pivotAggregation": null,
        "pivotColumns": null,
        "xColumns": null,
        "yColumns": null
       },
       "removedWidgets": [],
       "schema": [
        {
         "metadata": "{}",
         "name": "emp_id",
         "type": "\"integer\""
        },
        {
         "metadata": "{\"__CHAR_VARCHAR_TYPE_STRING\":\"varchar(50)\"}",
         "name": "emp_name",
         "type": "\"string\""
        },
        {
         "metadata": "{}",
         "name": "salary",
         "type": "\"integer\""
        },
        {
         "metadata": "{}",
         "name": "manager_id",
         "type": "\"integer\""
        },
        {
         "metadata": "{}",
         "name": "emp_age",
         "type": "\"integer\""
        },
        {
         "metadata": "{}",
         "name": "dep_id",
         "type": "\"integer\""
        },
        {
         "metadata": "{\"__CHAR_VARCHAR_TYPE_STRING\":\"varchar(20)\"}",
         "name": "dep_name",
         "type": "\"string\""
        },
        {
         "metadata": "{\"__CHAR_VARCHAR_TYPE_STRING\":\"varchar(10)\"}",
         "name": "gender",
         "type": "\"string\""
        }
       ],
       "type": "table"
      }
     },
     "output_type": "display_data"
    }
   ],
   "source": [
    "%sql\n",
    "select * from emp"
   ]
  },
  {
   "cell_type": "code",
   "execution_count": 0,
   "metadata": {
    "application/vnd.databricks.v1+cell": {
     "cellMetadata": {
      "byteLimit": 2048000,
      "implicitDf": true,
      "rowLimit": 10000
     },
     "inputWidgets": {},
     "nuid": "d21519b6-f47a-497d-b177-39968a313966",
     "showTitle": false,
     "title": ""
    }
   },
   "outputs": [
    {
     "output_type": "display_data",
     "data": {
      "text/html": [
       "<style scoped>\n",
       "  .table-result-container {\n",
       "    max-height: 300px;\n",
       "    overflow: auto;\n",
       "  }\n",
       "  table, th, td {\n",
       "    border: 1px solid black;\n",
       "    border-collapse: collapse;\n",
       "  }\n",
       "  th, td {\n",
       "    padding: 5px;\n",
       "  }\n",
       "  th {\n",
       "    text-align: left;\n",
       "  }\n",
       "</style><div class='table-result-container'><table class='table-result'><thead style='background-color: white'><tr><th>emp_id</th><th>emp_name</th><th>salary</th><th>manager_id</th><th>emp_age</th><th>dep_id</th><th>dep_name</th><th>gender</th></tr></thead><tbody><tr><td>1</td><td>Ankit</td><td>14300</td><td>4</td><td>39</td><td>100</td><td>Analytics</td><td>Female</td></tr><tr><td>2</td><td>Mohit</td><td>14000</td><td>5</td><td>48</td><td>200</td><td>IT</td><td>Male</td></tr><tr><td>10</td><td>Rakesh</td><td>8000</td><td>6</td><td>50</td><td>300</td><td>HR</td><td>Male</td></tr><tr><td>11</td><td>Akhil</td><td>4000</td><td>1</td><td>31</td><td>500</td><td>Ops</td><td>Male</td></tr></tbody></table></div>"
      ]
     },
     "metadata": {
      "application/vnd.databricks.v1+output": {
       "addedWidgets": {},
       "aggData": [],
       "aggError": "",
       "aggOverflow": false,
       "aggSchema": [],
       "aggSeriesLimitReached": false,
       "aggType": "",
       "arguments": {},
       "columnCustomDisplayInfos": {},
       "data": [
        [
         1,
         "Ankit",
         14300,
         4,
         39,
         100,
         "Analytics",
         "Female"
        ],
        [
         2,
         "Mohit",
         14000,
         5,
         48,
         200,
         "IT",
         "Male"
        ],
        [
         10,
         "Rakesh",
         8000,
         6,
         50,
         300,
         "HR",
         "Male"
        ],
        [
         11,
         "Akhil",
         4000,
         1,
         31,
         500,
         "Ops",
         "Male"
        ]
       ],
       "datasetInfos": [],
       "dbfsResultPath": null,
       "isJsonSchema": true,
       "metadata": {},
       "overflow": false,
       "plotOptions": {
        "customPlotOptions": {},
        "displayType": "table",
        "pivotAggregation": null,
        "pivotColumns": null,
        "xColumns": null,
        "yColumns": null
       },
       "removedWidgets": [],
       "schema": [
        {
         "metadata": "{}",
         "name": "emp_id",
         "type": "\"integer\""
        },
        {
         "metadata": "{\"__CHAR_VARCHAR_TYPE_STRING\":\"varchar(50)\"}",
         "name": "emp_name",
         "type": "\"string\""
        },
        {
         "metadata": "{}",
         "name": "salary",
         "type": "\"integer\""
        },
        {
         "metadata": "{}",
         "name": "manager_id",
         "type": "\"integer\""
        },
        {
         "metadata": "{}",
         "name": "emp_age",
         "type": "\"integer\""
        },
        {
         "metadata": "{}",
         "name": "dep_id",
         "type": "\"integer\""
        },
        {
         "metadata": "{\"__CHAR_VARCHAR_TYPE_STRING\":\"varchar(20)\"}",
         "name": "dep_name",
         "type": "\"string\""
        },
        {
         "metadata": "{\"__CHAR_VARCHAR_TYPE_STRING\":\"varchar(10)\"}",
         "name": "gender",
         "type": "\"string\""
        }
       ],
       "type": "table"
      }
     },
     "output_type": "display_data"
    }
   ],
   "source": [
    "%sql\n",
    "SELECT emp_id,emp_name,salary,manager_id,emp_age,dep_id,dep_name,gender from (\n",
    "SELECT *,rank()over(PARTITION BY dep_id ORDER BY salary)rnk,count(1)over( PARTITION BY dep_id )cnt from emp)a\n",
    "where rnk=3 or (rnk<3 and rnk=cnt)"
   ]
  },
  {
   "cell_type": "markdown",
   "metadata": {
    "application/vnd.databricks.v1+cell": {
     "cellMetadata": {},
     "inputWidgets": {},
     "nuid": "4e83830f-40d5-4b27-8c7f-304e92a629bd",
     "showTitle": false,
     "title": ""
    }
   },
   "source": [
    "<h3> solution in pyspark <\\h3>"
   ]
  },
  {
   "cell_type": "code",
   "execution_count": 0,
   "metadata": {
    "application/vnd.databricks.v1+cell": {
     "cellMetadata": {
      "byteLimit": 2048000,
      "rowLimit": 10000
     },
     "inputWidgets": {},
     "nuid": "1a3bae17-fc09-47fa-8ba0-18ea41e35569",
     "showTitle": false,
     "title": ""
    }
   },
   "outputs": [],
   "source": [
    "from pyspark.sql.functions import col,count,rank,when,sum,lit\n",
    "from pyspark.sql.window import Window"
   ]
  },
  {
   "cell_type": "code",
   "execution_count": 0,
   "metadata": {
    "application/vnd.databricks.v1+cell": {
     "cellMetadata": {
      "byteLimit": 2048000,
      "rowLimit": 10000
     },
     "inputWidgets": {},
     "nuid": "055eb4c9-7030-48a2-a051-f04b962c8faa",
     "showTitle": false,
     "title": ""
    }
   },
   "outputs": [
    {
     "output_type": "stream",
     "name": "stdout",
     "output_type": "stream",
     "text": [
      "+------+--------+------+----------+-------+------+---------+------+\n|emp_id|emp_name|salary|manager_id|emp_age|dep_id| dep_name|gender|\n+------+--------+------+----------+-------+------+---------+------+\n|     4|   Rohit|  7260|         2|     16|   100|Analytics|Female|\n|     3|   Vikas| 12100|         4|     37|   100|Analytics|Female|\n|     1|   Ankit| 14300|         4|     39|   100|Analytics|Female|\n|     8|  Ashish|  7200|         2|     12|   200|       IT|  Male|\n|    10|  Rakesh|  8000|         6|     50|   300|       HR|  Male|\n|    11|   Akhil|  4000|         1|     31|   500|      Ops|  Male|\n|     7|  Sanjay| 12000|         2|     13|   200|       IT|  Male|\n|     9|  Mukesh|  7000|         6|     51|   300|       HR|  Male|\n|     2|   Mohit| 14000|         5|     48|   200|       IT|  Male|\n|     5|   Mudit| 15000|         6|     55|   200|       IT|  Male|\n|     6|    Agam| 15600|         2|     14|   200|       IT|  Male|\n+------+--------+------+----------+-------+------+---------+------+\n\n"
     ]
    }
   ],
   "source": [
    "df_e=spark.sql(\"select * from emp\")\n",
    "df_e.show()"
   ]
  },
  {
   "cell_type": "code",
   "execution_count": 0,
   "metadata": {
    "application/vnd.databricks.v1+cell": {
     "cellMetadata": {
      "byteLimit": 2048000,
      "rowLimit": 10000
     },
     "inputWidgets": {},
     "nuid": "4f8d7f79-bfc8-4487-9feb-3d9eac5707a3",
     "showTitle": false,
     "title": ""
    }
   },
   "outputs": [
    {
     "output_type": "stream",
     "name": "stdout",
     "output_type": "stream",
     "text": [
      "+------+--------+------+----------+-------+------+---------+------+\n|emp_id|emp_name|salary|manager_id|emp_age|dep_id| dep_name|gender|\n+------+--------+------+----------+-------+------+---------+------+\n|     1|   Ankit| 14300|         4|     39|   100|Analytics|Female|\n|     2|   Mohit| 14000|         5|     48|   200|       IT|  Male|\n|    10|  Rakesh|  8000|         6|     50|   300|       HR|  Male|\n|    11|   Akhil|  4000|         1|     31|   500|      Ops|  Male|\n+------+--------+------+----------+-------+------+---------+------+\n\n"
     ]
    }
   ],
   "source": [
    "df_e.withColumn(\"rnk\",rank().over(Window.partitionBy(\"dep_id\").orderBy(\"salary\"))).\\\n",
    "    withColumn(\"cnt\",count(lit(1)).over(Window.partitionBy(\"dep_id\"))).\\\n",
    "        filter((col(\"rnk\")==3)|((col(\"rnk\")<3)&(col(\"rnk\")==col(\"cnt\")))).\\\n",
    "            select(\"emp_id\",\"emp_name\",\"salary\",\"manager_id\",\"emp_age\",\"dep_id\",\"dep_name\",\"gender\").show()"
   ]
  }
 ],
 "metadata": {
  "application/vnd.databricks.v1+notebook": {
   "dashboards": [],
   "language": "python",
   "notebookMetadata": {
    "mostRecentlyExecutedCommandWithImplicitDF": {
     "commandId": 2581249443266268,
     "dataframes": [
      "_sqldf"
     ]
    },
    "pythonIndentUnit": 4
   },
   "notebookName": "Day 28 Complex SQL",
   "widgets": {}
  }
 },
 "nbformat": 4,
 "nbformat_minor": 0
}
