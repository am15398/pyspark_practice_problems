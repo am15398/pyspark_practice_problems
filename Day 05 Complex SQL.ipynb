{
 "cells": [
  {
   "cell_type": "markdown",
   "metadata": {
    "application/vnd.databricks.v1+cell": {
     "cellMetadata": {},
     "inputWidgets": {},
     "nuid": "e70e8228-7c1e-4500-9e88-c21db34150fb",
     "showTitle": false,
     "title": ""
    }
   },
   "source": [
    "<h3> Leetcode Hard Problem | Complex SQL 7 | Trips and Users </h3>"
   ]
  },
  {
   "cell_type": "code",
   "execution_count": 0,
   "metadata": {
    "application/vnd.databricks.v1+cell": {
     "cellMetadata": {
      "byteLimit": 2048000,
      "implicitDf": true,
      "rowLimit": 10000
     },
     "inputWidgets": {},
     "nuid": "58741a57-573d-4fa3-963d-823b3369facc",
     "showTitle": false,
     "title": ""
    }
   },
   "outputs": [
    {
     "output_type": "display_data",
     "data": {
      "text/html": [
       "<style scoped>\n",
       "  .table-result-container {\n",
       "    max-height: 300px;\n",
       "    overflow: auto;\n",
       "  }\n",
       "  table, th, td {\n",
       "    border: 1px solid black;\n",
       "    border-collapse: collapse;\n",
       "  }\n",
       "  th, td {\n",
       "    padding: 5px;\n",
       "  }\n",
       "  th {\n",
       "    text-align: left;\n",
       "  }\n",
       "</style><div class='table-result-container'><table class='table-result'><thead style='background-color: white'><tr><th>num_affected_rows</th><th>num_inserted_rows</th></tr></thead><tbody><tr><td>1</td><td>1</td></tr></tbody></table></div>"
      ]
     },
     "metadata": {
      "application/vnd.databricks.v1+output": {
       "addedWidgets": {},
       "aggData": [],
       "aggError": "",
       "aggOverflow": false,
       "aggSchema": [],
       "aggSeriesLimitReached": false,
       "aggType": "",
       "arguments": {},
       "columnCustomDisplayInfos": {},
       "data": [
        [
         1,
         1
        ]
       ],
       "datasetInfos": [],
       "dbfsResultPath": null,
       "isJsonSchema": true,
       "metadata": {},
       "overflow": false,
       "plotOptions": {
        "customPlotOptions": {},
        "displayType": "table",
        "pivotAggregation": null,
        "pivotColumns": null,
        "xColumns": null,
        "yColumns": null
       },
       "removedWidgets": [],
       "schema": [
        {
         "metadata": "{}",
         "name": "num_affected_rows",
         "type": "\"long\""
        },
        {
         "metadata": "{}",
         "name": "num_inserted_rows",
         "type": "\"long\""
        }
       ],
       "type": "table"
      }
     },
     "output_type": "display_data"
    }
   ],
   "source": [
    "%sql\n",
    "Create table  Trips (id int, client_id int, driver_id int, city_id int, status varchar(50), request_at varchar(50));\n",
    "Create table Users (users_id int, banned varchar(50), role varchar(50));\n",
    "Truncate table Trips;\n",
    "insert into Trips (id, client_id, driver_id, city_id, status, request_at) values ('1', '1', '10', '1', 'completed', '2013-10-01');\n",
    "insert into Trips (id, client_id, driver_id, city_id, status, request_at) values ('2', '2', '11', '1', 'cancelled_by_driver', '2013-10-01');\n",
    "insert into Trips (id, client_id, driver_id, city_id, status, request_at) values ('3', '3', '12', '6', 'completed', '2013-10-01');\n",
    "insert into Trips (id, client_id, driver_id, city_id, status, request_at) values ('4', '4', '13', '6', 'cancelled_by_client', '2013-10-01');\n",
    "insert into Trips (id, client_id, driver_id, city_id, status, request_at) values ('5', '1', '10', '1', 'completed', '2013-10-02');\n",
    "insert into Trips (id, client_id, driver_id, city_id, status, request_at) values ('6', '2', '11', '6', 'completed', '2013-10-02');\n",
    "insert into Trips (id, client_id, driver_id, city_id, status, request_at) values ('7', '3', '12', '6', 'completed', '2013-10-02');\n",
    "insert into Trips (id, client_id, driver_id, city_id, status, request_at) values ('8', '2', '12', '12', 'completed', '2013-10-03');\n",
    "insert into Trips (id, client_id, driver_id, city_id, status, request_at) values ('9', '3', '10', '12', 'completed', '2013-10-03');\n",
    "insert into Trips (id, client_id, driver_id, city_id, status, request_at) values ('10', '4', '13', '12', 'cancelled_by_driver', '2013-10-03');\n",
    "Truncate table Users;\n",
    "insert into Users (users_id, banned, role) values ('1', 'No', 'client');\n",
    "insert into Users (users_id, banned, role) values ('2', 'Yes', 'client');\n",
    "insert into Users (users_id, banned, role) values ('3', 'No', 'client');\n",
    "insert into Users (users_id, banned, role) values ('4', 'No', 'client');\n",
    "insert into Users (users_id, banned, role) values ('10', 'No', 'driver');\n",
    "insert into Users (users_id, banned, role) values ('11', 'No', 'driver');\n",
    "insert into Users (users_id, banned, role) values ('12', 'No', 'driver');\n",
    "insert into Users (users_id, banned, role) values ('13', 'No', 'driver');\n"
   ]
  },
  {
   "cell_type": "code",
   "execution_count": 0,
   "metadata": {
    "application/vnd.databricks.v1+cell": {
     "cellMetadata": {
      "byteLimit": 2048000,
      "implicitDf": true,
      "rowLimit": 10000
     },
     "inputWidgets": {},
     "nuid": "845012af-a51b-4d37-940b-7ebfcebb912b",
     "showTitle": false,
     "title": ""
    }
   },
   "outputs": [
    {
     "output_type": "display_data",
     "data": {
      "text/html": [
       "<style scoped>\n",
       "  .table-result-container {\n",
       "    max-height: 300px;\n",
       "    overflow: auto;\n",
       "  }\n",
       "  table, th, td {\n",
       "    border: 1px solid black;\n",
       "    border-collapse: collapse;\n",
       "  }\n",
       "  th, td {\n",
       "    padding: 5px;\n",
       "  }\n",
       "  th {\n",
       "    text-align: left;\n",
       "  }\n",
       "</style><div class='table-result-container'><table class='table-result'><thead style='background-color: white'><tr><th>id</th><th>client_id</th><th>driver_id</th><th>city_id</th><th>status</th><th>request_at</th></tr></thead><tbody><tr><td>4</td><td>4</td><td>13</td><td>6</td><td>cancelled_by_client</td><td>2013-10-01</td></tr><tr><td>2</td><td>2</td><td>11</td><td>1</td><td>cancelled_by_driver</td><td>2013-10-01</td></tr><tr><td>10</td><td>4</td><td>13</td><td>12</td><td>cancelled_by_driver</td><td>2013-10-03</td></tr><tr><td>7</td><td>3</td><td>12</td><td>6</td><td>completed</td><td>2013-10-02</td></tr><tr><td>1</td><td>1</td><td>10</td><td>1</td><td>completed</td><td>2013-10-01</td></tr><tr><td>6</td><td>2</td><td>11</td><td>6</td><td>completed</td><td>2013-10-02</td></tr><tr><td>3</td><td>3</td><td>12</td><td>6</td><td>completed</td><td>2013-10-01</td></tr><tr><td>5</td><td>1</td><td>10</td><td>1</td><td>completed</td><td>2013-10-02</td></tr><tr><td>8</td><td>2</td><td>12</td><td>12</td><td>completed</td><td>2013-10-03</td></tr><tr><td>9</td><td>3</td><td>10</td><td>12</td><td>completed</td><td>2013-10-03</td></tr></tbody></table></div>"
      ]
     },
     "metadata": {
      "application/vnd.databricks.v1+output": {
       "addedWidgets": {},
       "aggData": [],
       "aggError": "",
       "aggOverflow": false,
       "aggSchema": [],
       "aggSeriesLimitReached": false,
       "aggType": "",
       "arguments": {},
       "columnCustomDisplayInfos": {},
       "data": [
        [
         4,
         4,
         13,
         6,
         "cancelled_by_client",
         "2013-10-01"
        ],
        [
         2,
         2,
         11,
         1,
         "cancelled_by_driver",
         "2013-10-01"
        ],
        [
         10,
         4,
         13,
         12,
         "cancelled_by_driver",
         "2013-10-03"
        ],
        [
         7,
         3,
         12,
         6,
         "completed",
         "2013-10-02"
        ],
        [
         1,
         1,
         10,
         1,
         "completed",
         "2013-10-01"
        ],
        [
         6,
         2,
         11,
         6,
         "completed",
         "2013-10-02"
        ],
        [
         3,
         3,
         12,
         6,
         "completed",
         "2013-10-01"
        ],
        [
         5,
         1,
         10,
         1,
         "completed",
         "2013-10-02"
        ],
        [
         8,
         2,
         12,
         12,
         "completed",
         "2013-10-03"
        ],
        [
         9,
         3,
         10,
         12,
         "completed",
         "2013-10-03"
        ]
       ],
       "datasetInfos": [],
       "dbfsResultPath": null,
       "isJsonSchema": true,
       "metadata": {},
       "overflow": false,
       "plotOptions": {
        "customPlotOptions": {},
        "displayType": "table",
        "pivotAggregation": null,
        "pivotColumns": null,
        "xColumns": null,
        "yColumns": null
       },
       "removedWidgets": [],
       "schema": [
        {
         "metadata": "{}",
         "name": "id",
         "type": "\"integer\""
        },
        {
         "metadata": "{}",
         "name": "client_id",
         "type": "\"integer\""
        },
        {
         "metadata": "{}",
         "name": "driver_id",
         "type": "\"integer\""
        },
        {
         "metadata": "{}",
         "name": "city_id",
         "type": "\"integer\""
        },
        {
         "metadata": "{\"__CHAR_VARCHAR_TYPE_STRING\":\"varchar(50)\"}",
         "name": "status",
         "type": "\"string\""
        },
        {
         "metadata": "{\"__CHAR_VARCHAR_TYPE_STRING\":\"varchar(50)\"}",
         "name": "request_at",
         "type": "\"string\""
        }
       ],
       "type": "table"
      }
     },
     "output_type": "display_data"
    }
   ],
   "source": [
    "%sql\n",
    "select * from Trips"
   ]
  },
  {
   "cell_type": "code",
   "execution_count": 0,
   "metadata": {
    "application/vnd.databricks.v1+cell": {
     "cellMetadata": {
      "byteLimit": 2048000,
      "implicitDf": true,
      "rowLimit": 10000
     },
     "inputWidgets": {},
     "nuid": "1cff309e-d2ef-4b3d-b623-7c4c4d9399f4",
     "showTitle": false,
     "title": ""
    }
   },
   "outputs": [
    {
     "output_type": "display_data",
     "data": {
      "text/html": [
       "<style scoped>\n",
       "  .table-result-container {\n",
       "    max-height: 300px;\n",
       "    overflow: auto;\n",
       "  }\n",
       "  table, th, td {\n",
       "    border: 1px solid black;\n",
       "    border-collapse: collapse;\n",
       "  }\n",
       "  th, td {\n",
       "    padding: 5px;\n",
       "  }\n",
       "  th {\n",
       "    text-align: left;\n",
       "  }\n",
       "</style><div class='table-result-container'><table class='table-result'><thead style='background-color: white'><tr><th>users_id</th><th>banned</th><th>role</th></tr></thead><tbody><tr><td>2</td><td>Yes</td><td>client</td></tr><tr><td>1</td><td>No</td><td>client</td></tr><tr><td>3</td><td>No</td><td>client</td></tr><tr><td>4</td><td>No</td><td>client</td></tr><tr><td>10</td><td>No</td><td>driver</td></tr><tr><td>11</td><td>No</td><td>driver</td></tr><tr><td>12</td><td>No</td><td>driver</td></tr><tr><td>13</td><td>No</td><td>driver</td></tr></tbody></table></div>"
      ]
     },
     "metadata": {
      "application/vnd.databricks.v1+output": {
       "addedWidgets": {},
       "aggData": [],
       "aggError": "",
       "aggOverflow": false,
       "aggSchema": [],
       "aggSeriesLimitReached": false,
       "aggType": "",
       "arguments": {},
       "columnCustomDisplayInfos": {},
       "data": [
        [
         2,
         "Yes",
         "client"
        ],
        [
         1,
         "No",
         "client"
        ],
        [
         3,
         "No",
         "client"
        ],
        [
         4,
         "No",
         "client"
        ],
        [
         10,
         "No",
         "driver"
        ],
        [
         11,
         "No",
         "driver"
        ],
        [
         12,
         "No",
         "driver"
        ],
        [
         13,
         "No",
         "driver"
        ]
       ],
       "datasetInfos": [],
       "dbfsResultPath": null,
       "isJsonSchema": true,
       "metadata": {},
       "overflow": false,
       "plotOptions": {
        "customPlotOptions": {},
        "displayType": "table",
        "pivotAggregation": null,
        "pivotColumns": null,
        "xColumns": null,
        "yColumns": null
       },
       "removedWidgets": [],
       "schema": [
        {
         "metadata": "{}",
         "name": "users_id",
         "type": "\"integer\""
        },
        {
         "metadata": "{\"__CHAR_VARCHAR_TYPE_STRING\":\"varchar(50)\"}",
         "name": "banned",
         "type": "\"string\""
        },
        {
         "metadata": "{\"__CHAR_VARCHAR_TYPE_STRING\":\"varchar(50)\"}",
         "name": "role",
         "type": "\"string\""
        }
       ],
       "type": "table"
      }
     },
     "output_type": "display_data"
    }
   ],
   "source": [
    "%sql\n",
    "select * from Users"
   ]
  },
  {
   "cell_type": "markdown",
   "metadata": {
    "application/vnd.databricks.v1+cell": {
     "cellMetadata": {},
     "inputWidgets": {},
     "nuid": "e8defe35-87a3-4ff8-b703-37a6b8452f17",
     "showTitle": false,
     "title": ""
    }
   },
   "source": [
    "<h3> Solution in sql(hive) </h3>"
   ]
  },
  {
   "cell_type": "code",
   "execution_count": 0,
   "metadata": {
    "application/vnd.databricks.v1+cell": {
     "cellMetadata": {
      "byteLimit": 2048000,
      "implicitDf": true,
      "rowLimit": 10000
     },
     "inputWidgets": {},
     "nuid": "c8a0592d-cbf4-46b2-8396-8aac8eaad6b4",
     "showTitle": false,
     "title": ""
    }
   },
   "outputs": [
    {
     "output_type": "display_data",
     "data": {
      "text/html": [
       "<style scoped>\n",
       "  .table-result-container {\n",
       "    max-height: 300px;\n",
       "    overflow: auto;\n",
       "  }\n",
       "  table, th, td {\n",
       "    border: 1px solid black;\n",
       "    border-collapse: collapse;\n",
       "  }\n",
       "  th, td {\n",
       "    padding: 5px;\n",
       "  }\n",
       "  th {\n",
       "    text-align: left;\n",
       "  }\n",
       "</style><div class='table-result-container'><table class='table-result'><thead style='background-color: white'><tr><th>request_at</th><th>cancel_trip_count</th><th>total_trip</th><th>cancel_percentage</th></tr></thead><tbody><tr><td>2013-10-01</td><td>1</td><td>3</td><td>33.333333333333336</td></tr><tr><td>2013-10-03</td><td>1</td><td>2</td><td>50.0</td></tr><tr><td>2013-10-02</td><td>0</td><td>2</td><td>0.0</td></tr></tbody></table></div>"
      ]
     },
     "metadata": {
      "application/vnd.databricks.v1+output": {
       "addedWidgets": {},
       "aggData": [],
       "aggError": "",
       "aggOverflow": false,
       "aggSchema": [],
       "aggSeriesLimitReached": false,
       "aggType": "",
       "arguments": {},
       "columnCustomDisplayInfos": {},
       "data": [
        [
         "2013-10-01",
         1,
         3,
         33.333333333333336
        ],
        [
         "2013-10-03",
         1,
         2,
         50.0
        ],
        [
         "2013-10-02",
         0,
         2,
         0.0
        ]
       ],
       "datasetInfos": [],
       "dbfsResultPath": null,
       "isJsonSchema": true,
       "metadata": {},
       "overflow": false,
       "plotOptions": {
        "customPlotOptions": {},
        "displayType": "table",
        "pivotAggregation": null,
        "pivotColumns": null,
        "xColumns": null,
        "yColumns": null
       },
       "removedWidgets": [],
       "schema": [
        {
         "metadata": "{\"__CHAR_VARCHAR_TYPE_STRING\":\"varchar(50)\"}",
         "name": "request_at",
         "type": "\"string\""
        },
        {
         "metadata": "{}",
         "name": "cancel_trip_count",
         "type": "\"long\""
        },
        {
         "metadata": "{}",
         "name": "total_trip",
         "type": "\"long\""
        },
        {
         "metadata": "{}",
         "name": "cancel_percentage",
         "type": "\"double\""
        }
       ],
       "type": "table"
      }
     },
     "output_type": "display_data"
    }
   ],
   "source": [
    "%sql\n",
    "\n",
    "select t.request_at,sum(case when t.status<>'completed' then 1 else 0 end) as cancel_trip_count,\n",
    "count(*) as total_trip,\n",
    "sum(case when t.status<>'completed' then 1 else 0 end)*100/count(*) as cancel_percentage\n",
    " from trips t\n",
    "inner join users c1 on c1.users_id=t.client_id\n",
    "inner join users d1 on d1.users_id=t.driver_id\n",
    "where c1.banned<>'Yes' and d1.banned<>'Yes'\n",
    "group by t.request_at"
   ]
  },
  {
   "cell_type": "markdown",
   "metadata": {
    "application/vnd.databricks.v1+cell": {
     "cellMetadata": {},
     "inputWidgets": {},
     "nuid": "aa10ab13-cd45-4ad9-942e-d81ee2ce70d5",
     "showTitle": false,
     "title": ""
    }
   },
   "source": [
    "<h3> Solution in pyspark </h3>"
   ]
  },
  {
   "cell_type": "code",
   "execution_count": 0,
   "metadata": {
    "application/vnd.databricks.v1+cell": {
     "cellMetadata": {
      "byteLimit": 2048000,
      "rowLimit": 10000
     },
     "inputWidgets": {},
     "nuid": "8991586e-ebbf-4b9e-873f-d437635388fd",
     "showTitle": false,
     "title": ""
    }
   },
   "outputs": [],
   "source": [
    "from pyspark.sql.functions import col,count"
   ]
  },
  {
   "cell_type": "code",
   "execution_count": 0,
   "metadata": {
    "application/vnd.databricks.v1+cell": {
     "cellMetadata": {
      "byteLimit": 2048000,
      "rowLimit": 10000
     },
     "inputWidgets": {},
     "nuid": "06b99aaf-cfd2-487e-b7b4-21a7192dca89",
     "showTitle": false,
     "title": ""
    }
   },
   "outputs": [
    {
     "output_type": "stream",
     "name": "stdout",
     "output_type": "stream",
     "text": [
      "+---+---------+---------+-------+-------------------+----------+\n| id|client_id|driver_id|city_id|             status|request_at|\n+---+---------+---------+-------+-------------------+----------+\n|  4|        4|       13|      6|cancelled_by_client|2013-10-01|\n|  2|        2|       11|      1|cancelled_by_driver|2013-10-01|\n| 10|        4|       13|     12|cancelled_by_driver|2013-10-03|\n|  7|        3|       12|      6|          completed|2013-10-02|\n|  1|        1|       10|      1|          completed|2013-10-01|\n|  6|        2|       11|      6|          completed|2013-10-02|\n|  3|        3|       12|      6|          completed|2013-10-01|\n|  5|        1|       10|      1|          completed|2013-10-02|\n|  8|        2|       12|     12|          completed|2013-10-03|\n|  9|        3|       10|     12|          completed|2013-10-03|\n+---+---------+---------+-------+-------------------+----------+\n\n+--------+------+------+\n|users_id|banned|  role|\n+--------+------+------+\n|       2|   Yes|client|\n|       1|    No|client|\n|       3|    No|client|\n|       4|    No|client|\n|      10|    No|driver|\n|      11|    No|driver|\n|      12|    No|driver|\n|      13|    No|driver|\n+--------+------+------+\n\n"
     ]
    }
   ],
   "source": [
    "df_u=spark.sql(\"select * from users\")\n",
    "df_t=spark.sql(\"select * from trips\")\n",
    "df_t.show()\n",
    "df_u.show()"
   ]
  },
  {
   "cell_type": "code",
   "execution_count": 0,
   "metadata": {
    "application/vnd.databricks.v1+cell": {
     "cellMetadata": {
      "byteLimit": 2048000,
      "rowLimit": 10000
     },
     "inputWidgets": {},
     "nuid": "1a5219d4-c57f-41e5-88e5-5892ebe1c427",
     "showTitle": false,
     "title": ""
    }
   },
   "outputs": [
    {
     "output_type": "stream",
     "name": "stdout",
     "output_type": "stream",
     "text": [
      "+----------+------------------+-----------+------------------+\n|request_at|cancle_trips_count|total_trips| cancel_percenateg|\n+----------+------------------+-----------+------------------+\n|2013-10-01|                 1|          3|33.333333333333336|\n|2013-10-02|                 0|          2|               0.0|\n|2013-10-03|                 1|          2|              50.0|\n+----------+------------------+-----------+------------------+\n\n"
     ]
    }
   ],
   "source": [
    "df1=df_t.join(df_u,df_u.users_id==df_t.client_id,\"inner\").filter(col(\"banned\")=='No').select(\"driver_id\",\"status\",\"request_at\")\n",
    "df2=df1.join(df_u,df_u.users_id==df1.driver_id,\"inner\").filter(col(\"banned\")=='No').select(\"status\",\"request_at\")\n",
    "df_tot=df2.groupBy(\"request_at\").agg(count(\"request_at\").alias(\"total_trips\"))\n",
    "df_can=df2.filter(col(\"status\")!='completed').groupBy(\"request_at\").agg(count(\"request_at\").alias(\"cancle_trips_count\"))\n",
    "df_fin=df_tot.join(df_can, \"request_at\", \"left\").fillna({\"cancle_trips_count\":0})\n",
    "df_final=df_fin.withColumn(\"cancel_percenateg\",df_fin.cancle_trips_count*100/df_fin.total_trips)\n",
    "df_final.orderBy(\"request_at\").select(\"request_at\",\"cancle_trips_count\",\"total_trips\",\"cancel_percenateg\").show()"
   ]
  }
 ],
 "metadata": {
  "application/vnd.databricks.v1+notebook": {
   "dashboards": [],
   "language": "python",
   "notebookMetadata": {
    "mostRecentlyExecutedCommandWithImplicitDF": {
     "commandId": 1214035745514422,
     "dataframes": [
      "_sqldf"
     ]
    },
    "pythonIndentUnit": 4
   },
   "notebookName": "5. Complex SQL",
   "widgets": {}
  }
 },
 "nbformat": 4,
 "nbformat_minor": 0
}
