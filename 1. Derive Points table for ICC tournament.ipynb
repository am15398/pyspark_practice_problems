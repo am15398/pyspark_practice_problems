{
 "cells": [
  {
   "cell_type": "markdown",
   "metadata": {
    "application/vnd.databricks.v1+cell": {
     "cellMetadata": {},
     "inputWidgets": {},
     "nuid": "aff51305-39a9-4370-a0a3-a17147bf8813",
     "showTitle": false,
     "title": ""
    }
   },
   "source": [
    "<h3>Ankit Bansal Complex SQL Query 1 | Derive Points table for ICC tournament</h3> "
   ]
  },
  {
   "cell_type": "markdown",
   "metadata": {
    "application/vnd.databricks.v1+cell": {
     "cellMetadata": {},
     "inputWidgets": {},
     "nuid": "ea1d86f8-4b24-4a73-acee-428645c6c64d",
     "showTitle": false,
     "title": ""
    }
   },
   "source": [
    "<h2> query data set </h2>"
   ]
  },
  {
   "cell_type": "code",
   "execution_count": 0,
   "metadata": {
    "application/vnd.databricks.v1+cell": {
     "cellMetadata": {
      "byteLimit": 2048000,
      "implicitDf": true,
      "rowLimit": 10000
     },
     "inputWidgets": {},
     "nuid": "05e089e1-c2c7-4539-956c-8d2f185ec7d3",
     "showTitle": false,
     "title": ""
    }
   },
   "outputs": [
    {
     "output_type": "display_data",
     "data": {
      "text/html": [
       "<style scoped>\n",
       "  .table-result-container {\n",
       "    max-height: 300px;\n",
       "    overflow: auto;\n",
       "  }\n",
       "  table, th, td {\n",
       "    border: 1px solid black;\n",
       "    border-collapse: collapse;\n",
       "  }\n",
       "  th, td {\n",
       "    padding: 5px;\n",
       "  }\n",
       "  th {\n",
       "    text-align: left;\n",
       "  }\n",
       "</style><div class='table-result-container'><table class='table-result'><thead style='background-color: white'><tr><th>num_affected_rows</th><th>num_inserted_rows</th></tr></thead><tbody><tr><td>1</td><td>1</td></tr></tbody></table></div>"
      ]
     },
     "metadata": {
      "application/vnd.databricks.v1+output": {
       "addedWidgets": {},
       "aggData": [],
       "aggError": "",
       "aggOverflow": false,
       "aggSchema": [],
       "aggSeriesLimitReached": false,
       "aggType": "",
       "arguments": {},
       "columnCustomDisplayInfos": {},
       "data": [
        [
         1,
         1
        ]
       ],
       "datasetInfos": [],
       "dbfsResultPath": null,
       "isJsonSchema": true,
       "metadata": {},
       "overflow": false,
       "plotOptions": {
        "customPlotOptions": {},
        "displayType": "table",
        "pivotAggregation": null,
        "pivotColumns": null,
        "xColumns": null,
        "yColumns": null
       },
       "removedWidgets": [],
       "schema": [
        {
         "metadata": "{}",
         "name": "num_affected_rows",
         "type": "\"long\""
        },
        {
         "metadata": "{}",
         "name": "num_inserted_rows",
         "type": "\"long\""
        }
       ],
       "type": "table"
      }
     },
     "output_type": "display_data"
    }
   ],
   "source": [
    "%sql\n",
    "\n",
    "create table icc_world_cup\n",
    "(\n",
    "Team_1 Varchar(20),\n",
    "Team_2 Varchar(20),\n",
    "Winner Varchar(20)\n",
    ");\n",
    "INSERT INTO icc_world_cup values('India','SL','India');\n",
    "INSERT INTO icc_world_cup values('SL','Aus','Aus');\n",
    "INSERT INTO icc_world_cup values('SA','Eng','Eng');\n",
    "INSERT INTO icc_world_cup values('Eng','NZ','NZ');\n",
    "INSERT INTO icc_world_cup values('Aus','India','India');"
   ]
  },
  {
   "cell_type": "markdown",
   "metadata": {
    "application/vnd.databricks.v1+cell": {
     "cellMetadata": {},
     "inputWidgets": {},
     "nuid": "71c13ca7-7304-4aac-a1c7-5797315c9ece",
     "showTitle": false,
     "title": ""
    }
   },
   "source": [
    "<h2> Solution in sql(hive) </h2>"
   ]
  },
  {
   "cell_type": "code",
   "execution_count": 0,
   "metadata": {
    "application/vnd.databricks.v1+cell": {
     "cellMetadata": {
      "byteLimit": 2048000,
      "implicitDf": true,
      "rowLimit": 10000
     },
     "inputWidgets": {},
     "nuid": "22829ae2-2b76-4070-a523-84b7510f3f84",
     "showTitle": false,
     "title": ""
    }
   },
   "outputs": [
    {
     "output_type": "display_data",
     "data": {
      "text/html": [
       "<style scoped>\n",
       "  .table-result-container {\n",
       "    max-height: 300px;\n",
       "    overflow: auto;\n",
       "  }\n",
       "  table, th, td {\n",
       "    border: 1px solid black;\n",
       "    border-collapse: collapse;\n",
       "  }\n",
       "  th, td {\n",
       "    padding: 5px;\n",
       "  }\n",
       "  th {\n",
       "    text-align: left;\n",
       "  }\n",
       "</style><div class='table-result-container'><table class='table-result'><thead style='background-color: white'><tr><th>team</th><th>matches_played</th><th>no_of_win</th><th>no_of_losses</th></tr></thead><tbody><tr><td>SL</td><td>2</td><td>0</td><td>2</td></tr><tr><td>Eng</td><td>2</td><td>1</td><td>1</td></tr><tr><td>India</td><td>2</td><td>2</td><td>0</td></tr><tr><td>SA</td><td>1</td><td>0</td><td>1</td></tr><tr><td>Aus</td><td>2</td><td>1</td><td>1</td></tr><tr><td>NZ</td><td>1</td><td>1</td><td>0</td></tr></tbody></table></div>"
      ]
     },
     "metadata": {
      "application/vnd.databricks.v1+output": {
       "addedWidgets": {},
       "aggData": [],
       "aggError": "",
       "aggOverflow": false,
       "aggSchema": [],
       "aggSeriesLimitReached": false,
       "aggType": "",
       "arguments": {},
       "columnCustomDisplayInfos": {},
       "data": [
        [
         "SL",
         2,
         0,
         2
        ],
        [
         "Eng",
         2,
         1,
         1
        ],
        [
         "India",
         2,
         2,
         0
        ],
        [
         "SA",
         1,
         0,
         1
        ],
        [
         "Aus",
         2,
         1,
         1
        ],
        [
         "NZ",
         1,
         1,
         0
        ]
       ],
       "datasetInfos": [],
       "dbfsResultPath": null,
       "isJsonSchema": true,
       "metadata": {},
       "overflow": false,
       "plotOptions": {
        "customPlotOptions": {},
        "displayType": "table",
        "pivotAggregation": null,
        "pivotColumns": null,
        "xColumns": null,
        "yColumns": null
       },
       "removedWidgets": [],
       "schema": [
        {
         "metadata": "{\"__CHAR_VARCHAR_TYPE_STRING\":\"varchar(20)\"}",
         "name": "team",
         "type": "\"string\""
        },
        {
         "metadata": "{}",
         "name": "matches_played",
         "type": "\"long\""
        },
        {
         "metadata": "{}",
         "name": "no_of_win",
         "type": "\"long\""
        },
        {
         "metadata": "{}",
         "name": "no_of_losses",
         "type": "\"long\""
        }
       ],
       "type": "table"
      }
     },
     "output_type": "display_data"
    }
   ],
   "source": [
    "%sql\n",
    "with cte1 as (\n",
    "  select team_1 as team , sum(tcnt) as matches_played from (\n",
    "    select team_1,count(*)as tcnt from icc_world_cup group by team_1\n",
    "    union all\n",
    "    select team_2,count(*)as tcnt from icc_world_cup group by team_2\n",
    "    )a1\n",
    "  group by team_1\n",
    "  )\n",
    "\n",
    "select team,matches_played,nvl(wn,0) as no_of_win,matches_played-nvl(wn,0)as no_of_losses from cte1 \n",
    "left join (\n",
    "  select Winner,count(*)as wn from icc_world_cup group by Winner\n",
    "  )a2 on a2.Winner=cte1.team"
   ]
  },
  {
   "cell_type": "markdown",
   "metadata": {
    "application/vnd.databricks.v1+cell": {
     "cellMetadata": {},
     "inputWidgets": {},
     "nuid": "fbadd220-fd9b-4462-9a95-59d022ac6e02",
     "showTitle": false,
     "title": ""
    }
   },
   "source": [
    "<h2>Solution in Pyspark </h2>"
   ]
  },
  {
   "cell_type": "code",
   "execution_count": 0,
   "metadata": {
    "application/vnd.databricks.v1+cell": {
     "cellMetadata": {
      "byteLimit": 2048000,
      "rowLimit": 10000
     },
     "inputWidgets": {},
     "nuid": "cc1146c4-ad77-4b8f-9a23-3a5a5c8d1f9b",
     "showTitle": false,
     "title": ""
    }
   },
   "outputs": [],
   "source": [
    "from pyspark.sql.functions import col\n",
    "from pyspark.sql.functions import sum"
   ]
  },
  {
   "cell_type": "code",
   "execution_count": 0,
   "metadata": {
    "application/vnd.databricks.v1+cell": {
     "cellMetadata": {
      "byteLimit": 2048000,
      "rowLimit": 10000
     },
     "inputWidgets": {},
     "nuid": "3827e34d-a3a5-4ade-a055-4fd7b307405e",
     "showTitle": false,
     "title": ""
    }
   },
   "outputs": [],
   "source": [
    "# put data in pyspark data frame from the hive table\n",
    "df=spark.sql(\"select * from icc_world_cup\")"
   ]
  },
  {
   "cell_type": "code",
   "execution_count": 0,
   "metadata": {
    "application/vnd.databricks.v1+cell": {
     "cellMetadata": {
      "byteLimit": 2048000,
      "rowLimit": 10000
     },
     "inputWidgets": {},
     "nuid": "d21c69dd-b6ea-464c-a80f-2e9a7a21b083",
     "showTitle": false,
     "title": ""
    }
   },
   "outputs": [
    {
     "output_type": "stream",
     "name": "stdout",
     "output_type": "stream",
     "text": [
      "+-----+--------------+---------+------------+\n| Team|matches_played|no_of_win|no_of_losses|\n+-----+--------------+---------+------------+\n|   SL|             2|        0|           2|\n|  Eng|             2|        1|           1|\n|India|             2|        2|           0|\n|   SA|             1|        0|           1|\n|  Aus|             2|        1|           1|\n|   NZ|             1|        1|           0|\n+-----+--------------+---------+------------+\n\n"
     ]
    }
   ],
   "source": [
    "df1=df.groupBy(\"team_1\").count()\n",
    "df2=df.groupBy(\"team_2\").count()\n",
    "df_union=df1.unionAll(df2)\n",
    "df_matchs=df_union.groupBy(\"team_1\").agg(sum(\"count\").alias(\"matches_played\"))\n",
    "df_win=df.groupBy(\"Winner\").count()\n",
    "df_no_of_win=df_matchs.join(df_win,df_matchs.team_1==df_win.Winner,\"left\").\\\n",
    "    select(df_matchs[\"team_1\"].alias(\"Team\"),\"matches_played\",df_win[\"count\"].alias(\"no_of_win\")).fillna(0)\n",
    "df_final=df_no_of_win.withColumn(\"no_of_losses\",df_no_of_win.matches_played-df_no_of_win.no_of_win)\n",
    "df_final.show()"
   ]
  }
 ],
 "metadata": {
  "application/vnd.databricks.v1+notebook": {
   "dashboards": [],
   "language": "python",
   "notebookMetadata": {
    "mostRecentlyExecutedCommandWithImplicitDF": {
     "commandId": 1736595202135472,
     "dataframes": [
      "_sqldf"
     ]
    },
    "pythonIndentUnit": 4
   },
   "notebookName": "1. Derive Points table for ICC tournament",
   "widgets": {}
  }
 },
 "nbformat": 4,
 "nbformat_minor": 0
}
