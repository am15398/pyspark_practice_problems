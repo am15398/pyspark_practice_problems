{
 "cells": [
  {
   "cell_type": "markdown",
   "metadata": {
    "application/vnd.databricks.v1+cell": {
     "cellMetadata": {
      "byteLimit": 2048000,
      "rowLimit": 10000
     },
     "inputWidgets": {},
     "nuid": "e70e8228-7c1e-4500-9e88-c21db34150fb",
     "showTitle": false,
     "title": ""
    }
   },
   "source": [
    "<h3> Solving 4 Tricky SQL Problems </h3>"
   ]
  },
  {
   "cell_type": "code",
   "execution_count": 0,
   "metadata": {
    "application/vnd.databricks.v1+cell": {
     "cellMetadata": {
      "byteLimit": 2048000,
      "implicitDf": true,
      "rowLimit": 10000
     },
     "inputWidgets": {},
     "nuid": "655712c8-912b-4eaa-af3d-6f306f74fe4d",
     "showTitle": false,
     "title": ""
    }
   },
   "outputs": [
    {
     "output_type": "display_data",
     "data": {
      "text/html": [
       "<style scoped>\n",
       "  .table-result-container {\n",
       "    max-height: 300px;\n",
       "    overflow: auto;\n",
       "  }\n",
       "  table, th, td {\n",
       "    border: 1px solid black;\n",
       "    border-collapse: collapse;\n",
       "  }\n",
       "  th, td {\n",
       "    padding: 5px;\n",
       "  }\n",
       "  th {\n",
       "    text-align: left;\n",
       "  }\n",
       "</style><div class='table-result-container'><table class='table-result'><thead style='background-color: white'><tr><th>num_affected_rows</th><th>num_inserted_rows</th></tr></thead><tbody><tr><td>1</td><td>1</td></tr></tbody></table></div>"
      ]
     },
     "metadata": {
      "application/vnd.databricks.v1+output": {
       "addedWidgets": {},
       "aggData": [],
       "aggError": "",
       "aggOverflow": false,
       "aggSchema": [],
       "aggSeriesLimitReached": false,
       "aggType": "",
       "arguments": {},
       "columnCustomDisplayInfos": {},
       "data": [
        [
         1,
         1
        ]
       ],
       "datasetInfos": [],
       "dbfsResultPath": null,
       "isJsonSchema": true,
       "metadata": {},
       "overflow": false,
       "plotOptions": {
        "customPlotOptions": {},
        "displayType": "table",
        "pivotAggregation": null,
        "pivotColumns": null,
        "xColumns": null,
        "yColumns": null
       },
       "removedWidgets": [],
       "schema": [
        {
         "metadata": "{}",
         "name": "num_affected_rows",
         "type": "\"long\""
        },
        {
         "metadata": "{}",
         "name": "num_inserted_rows",
         "type": "\"long\""
        }
       ],
       "type": "table"
      }
     },
     "output_type": "display_data"
    }
   ],
   "source": [
    "%sql\n",
    "drop table if exists students;\n",
    "CREATE TABLE students(\n",
    " studentid int ,\n",
    " studentname String ,\n",
    " subject string ,\n",
    " marks int ,\n",
    " testid int ,\n",
    " testdate date \n",
    ")\n",
    ";\n",
    "insert into students values (2,'Max Ruin','Subject1',63,1,'2022-01-02');\n",
    "insert into students values (3,'Arnold','Subject1',95,1,'2022-01-02');\n",
    "insert into students values (4,'Krish Star','Subject1',61,1,'2022-01-02');\n",
    "insert into students values (5,'John Mike','Subject1',91,1,'2022-01-02');\n",
    "insert into students values (4,'Krish Star','Subject2',71,1,'2022-01-02');\n",
    "insert into students values (3,'Arnold','Subject2',32,1,'2022-01-02');\n",
    "insert into students values (5,'John Mike','Subject2',61,2,'2022-11-02');\n",
    "insert into students values (1,'John Deo','Subject2',60,1,'2022-01-02');\n",
    "insert into students values (2,'Max Ruin','Subject2',84,1,'2022-01-02');\n",
    "insert into students values (2,'Max Ruin','Subject3',29,3,'2022-01-03');\n",
    "insert into students values (5,'John Mike','Subject3',98,2,'2022-11-02');\n"
   ]
  },
  {
   "cell_type": "code",
   "execution_count": 0,
   "metadata": {
    "application/vnd.databricks.v1+cell": {
     "cellMetadata": {
      "byteLimit": 2048000,
      "implicitDf": true,
      "rowLimit": 10000
     },
     "inputWidgets": {},
     "nuid": "187b6105-3f4f-4587-819e-1e20468fcef6",
     "showTitle": false,
     "title": ""
    }
   },
   "outputs": [
    {
     "output_type": "display_data",
     "data": {
      "text/html": [
       "<style scoped>\n",
       "  .table-result-container {\n",
       "    max-height: 300px;\n",
       "    overflow: auto;\n",
       "  }\n",
       "  table, th, td {\n",
       "    border: 1px solid black;\n",
       "    border-collapse: collapse;\n",
       "  }\n",
       "  th, td {\n",
       "    padding: 5px;\n",
       "  }\n",
       "  th {\n",
       "    text-align: left;\n",
       "  }\n",
       "</style><div class='table-result-container'><table class='table-result'><thead style='background-color: white'><tr><th>studentid</th><th>studentname</th><th>subject</th><th>marks</th><th>testid</th><th>testdate</th></tr></thead><tbody><tr><td>4</td><td>Krish Star</td><td>Subject2</td><td>71</td><td>1</td><td>2022-01-02</td></tr><tr><td>4</td><td>Krish Star</td><td>Subject1</td><td>61</td><td>1</td><td>2022-01-02</td></tr><tr><td>5</td><td>John Mike</td><td>Subject2</td><td>61</td><td>2</td><td>2022-11-02</td></tr><tr><td>5</td><td>John Mike</td><td>Subject3</td><td>98</td><td>2</td><td>2022-11-02</td></tr><tr><td>5</td><td>John Mike</td><td>Subject1</td><td>91</td><td>1</td><td>2022-01-02</td></tr><tr><td>2</td><td>Max Ruin</td><td>Subject2</td><td>84</td><td>1</td><td>2022-01-02</td></tr><tr><td>2</td><td>Max Ruin</td><td>Subject1</td><td>63</td><td>1</td><td>2022-01-02</td></tr><tr><td>1</td><td>John Deo</td><td>Subject2</td><td>60</td><td>1</td><td>2022-01-02</td></tr><tr><td>2</td><td>Max Ruin</td><td>Subject3</td><td>29</td><td>3</td><td>2022-01-03</td></tr><tr><td>3</td><td>Arnold</td><td>Subject2</td><td>32</td><td>1</td><td>2022-01-02</td></tr><tr><td>3</td><td>Arnold</td><td>Subject1</td><td>95</td><td>1</td><td>2022-01-02</td></tr></tbody></table></div>"
      ]
     },
     "metadata": {
      "application/vnd.databricks.v1+output": {
       "addedWidgets": {},
       "aggData": [],
       "aggError": "",
       "aggOverflow": false,
       "aggSchema": [],
       "aggSeriesLimitReached": false,
       "aggType": "",
       "arguments": {},
       "columnCustomDisplayInfos": {},
       "data": [
        [
         4,
         "Krish Star",
         "Subject2",
         71,
         1,
         "2022-01-02"
        ],
        [
         4,
         "Krish Star",
         "Subject1",
         61,
         1,
         "2022-01-02"
        ],
        [
         5,
         "John Mike",
         "Subject2",
         61,
         2,
         "2022-11-02"
        ],
        [
         5,
         "John Mike",
         "Subject3",
         98,
         2,
         "2022-11-02"
        ],
        [
         5,
         "John Mike",
         "Subject1",
         91,
         1,
         "2022-01-02"
        ],
        [
         2,
         "Max Ruin",
         "Subject2",
         84,
         1,
         "2022-01-02"
        ],
        [
         2,
         "Max Ruin",
         "Subject1",
         63,
         1,
         "2022-01-02"
        ],
        [
         1,
         "John Deo",
         "Subject2",
         60,
         1,
         "2022-01-02"
        ],
        [
         2,
         "Max Ruin",
         "Subject3",
         29,
         3,
         "2022-01-03"
        ],
        [
         3,
         "Arnold",
         "Subject2",
         32,
         1,
         "2022-01-02"
        ],
        [
         3,
         "Arnold",
         "Subject1",
         95,
         1,
         "2022-01-02"
        ]
       ],
       "datasetInfos": [],
       "dbfsResultPath": null,
       "isJsonSchema": true,
       "metadata": {},
       "overflow": false,
       "plotOptions": {
        "customPlotOptions": {},
        "displayType": "table",
        "pivotAggregation": null,
        "pivotColumns": null,
        "xColumns": null,
        "yColumns": null
       },
       "removedWidgets": [],
       "schema": [
        {
         "metadata": "{}",
         "name": "studentid",
         "type": "\"integer\""
        },
        {
         "metadata": "{}",
         "name": "studentname",
         "type": "\"string\""
        },
        {
         "metadata": "{}",
         "name": "subject",
         "type": "\"string\""
        },
        {
         "metadata": "{}",
         "name": "marks",
         "type": "\"integer\""
        },
        {
         "metadata": "{}",
         "name": "testid",
         "type": "\"integer\""
        },
        {
         "metadata": "{}",
         "name": "testdate",
         "type": "\"date\""
        }
       ],
       "type": "table"
      }
     },
     "output_type": "display_data"
    }
   ],
   "source": [
    "%sql\n",
    "select * from students"
   ]
  },
  {
   "cell_type": "markdown",
   "metadata": {
    "application/vnd.databricks.v1+cell": {
     "cellMetadata": {},
     "inputWidgets": {},
     "nuid": "1b521dc2-ce0f-4d91-95b8-eb3086d1c402",
     "showTitle": false,
     "title": ""
    }
   },
   "source": [
    "<h3> write sql to get list of student who get marks above avg in each sub <\\h3>"
   ]
  },
  {
   "cell_type": "code",
   "execution_count": 0,
   "metadata": {
    "application/vnd.databricks.v1+cell": {
     "cellMetadata": {
      "byteLimit": 2048000,
      "implicitDf": true,
      "rowLimit": 10000
     },
     "inputWidgets": {},
     "nuid": "c35009be-0e74-481b-8ab0-1e8d7ba3b5a5",
     "showTitle": false,
     "title": ""
    }
   },
   "outputs": [
    {
     "output_type": "display_data",
     "data": {
      "text/html": [
       "<style scoped>\n",
       "  .table-result-container {\n",
       "    max-height: 300px;\n",
       "    overflow: auto;\n",
       "  }\n",
       "  table, th, td {\n",
       "    border: 1px solid black;\n",
       "    border-collapse: collapse;\n",
       "  }\n",
       "  th, td {\n",
       "    padding: 5px;\n",
       "  }\n",
       "  th {\n",
       "    text-align: left;\n",
       "  }\n",
       "</style><div class='table-result-container'><table class='table-result'><thead style='background-color: white'><tr><th>studentid</th><th>studentname</th><th>subject</th><th>marks</th><th>testid</th><th>testdate</th></tr></thead><tbody><tr><td>4</td><td>Krish Star</td><td>Subject2</td><td>71</td><td>1</td><td>2022-01-02</td></tr><tr><td>5</td><td>John Mike</td><td>Subject3</td><td>98</td><td>2</td><td>2022-11-02</td></tr><tr><td>5</td><td>John Mike</td><td>Subject1</td><td>91</td><td>1</td><td>2022-01-02</td></tr><tr><td>2</td><td>Max Ruin</td><td>Subject2</td><td>84</td><td>1</td><td>2022-01-02</td></tr><tr><td>3</td><td>Arnold</td><td>Subject1</td><td>95</td><td>1</td><td>2022-01-02</td></tr></tbody></table></div>"
      ]
     },
     "metadata": {
      "application/vnd.databricks.v1+output": {
       "addedWidgets": {},
       "aggData": [],
       "aggError": "",
       "aggOverflow": false,
       "aggSchema": [],
       "aggSeriesLimitReached": false,
       "aggType": "",
       "arguments": {},
       "columnCustomDisplayInfos": {},
       "data": [
        [
         4,
         "Krish Star",
         "Subject2",
         71,
         1,
         "2022-01-02"
        ],
        [
         5,
         "John Mike",
         "Subject3",
         98,
         2,
         "2022-11-02"
        ],
        [
         5,
         "John Mike",
         "Subject1",
         91,
         1,
         "2022-01-02"
        ],
        [
         2,
         "Max Ruin",
         "Subject2",
         84,
         1,
         "2022-01-02"
        ],
        [
         3,
         "Arnold",
         "Subject1",
         95,
         1,
         "2022-01-02"
        ]
       ],
       "datasetInfos": [],
       "dbfsResultPath": null,
       "isJsonSchema": true,
       "metadata": {},
       "overflow": false,
       "plotOptions": {
        "customPlotOptions": {},
        "displayType": "table",
        "pivotAggregation": null,
        "pivotColumns": null,
        "xColumns": null,
        "yColumns": null
       },
       "removedWidgets": [],
       "schema": [
        {
         "metadata": "{}",
         "name": "studentid",
         "type": "\"integer\""
        },
        {
         "metadata": "{}",
         "name": "studentname",
         "type": "\"string\""
        },
        {
         "metadata": "{}",
         "name": "subject",
         "type": "\"string\""
        },
        {
         "metadata": "{}",
         "name": "marks",
         "type": "\"integer\""
        },
        {
         "metadata": "{}",
         "name": "testid",
         "type": "\"integer\""
        },
        {
         "metadata": "{}",
         "name": "testdate",
         "type": "\"date\""
        }
       ],
       "type": "table"
      }
     },
     "output_type": "display_data"
    }
   ],
   "source": [
    "%sql\n",
    "select s.* from students s\n",
    "inner join(\n",
    "select subject,avg(marks)avg_mark from students group by subject) a on a.subject=s.subject\n",
    "where a.avg_mark<s.marks"
   ]
  },
  {
   "cell_type": "markdown",
   "metadata": {
    "application/vnd.databricks.v1+cell": {
     "cellMetadata": {},
     "inputWidgets": {},
     "nuid": "002da5ed-0f6f-4549-a0d6-f845f47d50a6",
     "showTitle": false,
     "title": ""
    }
   },
   "source": [
    "<h3> write sql query to get per of student who score more then 90 in any subject among the all student <\\h3>"
   ]
  },
  {
   "cell_type": "code",
   "execution_count": 0,
   "metadata": {
    "application/vnd.databricks.v1+cell": {
     "cellMetadata": {
      "byteLimit": 2048000,
      "implicitDf": true,
      "rowLimit": 10000
     },
     "inputWidgets": {},
     "nuid": "af6a3721-4df4-45b7-9331-9e85488071a7",
     "showTitle": false,
     "title": ""
    }
   },
   "outputs": [
    {
     "output_type": "display_data",
     "data": {
      "text/html": [
       "<style scoped>\n",
       "  .table-result-container {\n",
       "    max-height: 300px;\n",
       "    overflow: auto;\n",
       "  }\n",
       "  table, th, td {\n",
       "    border: 1px solid black;\n",
       "    border-collapse: collapse;\n",
       "  }\n",
       "  th, td {\n",
       "    padding: 5px;\n",
       "  }\n",
       "  th {\n",
       "    text-align: left;\n",
       "  }\n",
       "</style><div class='table-result-container'><table class='table-result'><thead style='background-color: white'><tr><th>a</th></tr></thead><tbody><tr><td>40.00000000000000</td></tr></tbody></table></div>"
      ]
     },
     "metadata": {
      "application/vnd.databricks.v1+output": {
       "addedWidgets": {},
       "aggData": [],
       "aggError": "",
       "aggOverflow": false,
       "aggSchema": [],
       "aggSeriesLimitReached": false,
       "aggType": "",
       "arguments": {},
       "columnCustomDisplayInfos": {},
       "data": [
        [
         "40.00000000000000"
        ]
       ],
       "datasetInfos": [],
       "dbfsResultPath": null,
       "isJsonSchema": true,
       "metadata": {},
       "overflow": false,
       "plotOptions": {
        "customPlotOptions": {},
        "displayType": "table",
        "pivotAggregation": null,
        "pivotColumns": null,
        "xColumns": null,
        "yColumns": null
       },
       "removedWidgets": [],
       "schema": [
        {
         "metadata": "{}",
         "name": "a",
         "type": "\"decimal(38,14)\""
        }
       ],
       "type": "table"
      }
     },
     "output_type": "display_data"
    }
   ],
   "source": [
    "%sql\n",
    "select  count(distinct case when marks>90 then studentid else null end)*100.0/count( distinct studentid) as a from students"
   ]
  },
  {
   "cell_type": "markdown",
   "metadata": {
    "application/vnd.databricks.v1+cell": {
     "cellMetadata": {},
     "inputWidgets": {},
     "nuid": "07ab264e-0287-4d79-87e3-f76fc9b81d76",
     "showTitle": false,
     "title": ""
    }
   },
   "source": [
    "<h3> write sql query get 2nd highest and 2nd lowest marks in each subject <\\h3>"
   ]
  },
  {
   "cell_type": "code",
   "execution_count": 0,
   "metadata": {
    "application/vnd.databricks.v1+cell": {
     "cellMetadata": {
      "byteLimit": 2048000,
      "implicitDf": true,
      "rowLimit": 10000
     },
     "inputWidgets": {},
     "nuid": "f0e79762-8bbf-402e-9708-b96a7275f914",
     "showTitle": false,
     "title": ""
    }
   },
   "outputs": [
    {
     "output_type": "display_data",
     "data": {
      "text/html": [
       "<style scoped>\n",
       "  .table-result-container {\n",
       "    max-height: 300px;\n",
       "    overflow: auto;\n",
       "  }\n",
       "  table, th, td {\n",
       "    border: 1px solid black;\n",
       "    border-collapse: collapse;\n",
       "  }\n",
       "  th, td {\n",
       "    padding: 5px;\n",
       "  }\n",
       "  th {\n",
       "    text-align: left;\n",
       "  }\n",
       "</style><div class='table-result-container'><table class='table-result'><thead style='background-color: white'><tr><th>subject</th><th>second_hightest</th><th>second_lowest</th></tr></thead><tbody><tr><td>Subject1</td><td>91</td><td>63</td></tr><tr><td>Subject2</td><td>71</td><td>60</td></tr><tr><td>Subject3</td><td>29</td><td>98</td></tr></tbody></table></div>"
      ]
     },
     "metadata": {
      "application/vnd.databricks.v1+output": {
       "addedWidgets": {},
       "aggData": [],
       "aggError": "",
       "aggOverflow": false,
       "aggSchema": [],
       "aggSeriesLimitReached": false,
       "aggType": "",
       "arguments": {},
       "columnCustomDisplayInfos": {},
       "data": [
        [
         "Subject1",
         91,
         63
        ],
        [
         "Subject2",
         71,
         60
        ],
        [
         "Subject3",
         29,
         98
        ]
       ],
       "datasetInfos": [],
       "dbfsResultPath": null,
       "isJsonSchema": true,
       "metadata": {},
       "overflow": false,
       "plotOptions": {
        "customPlotOptions": {},
        "displayType": "table",
        "pivotAggregation": null,
        "pivotColumns": null,
        "xColumns": null,
        "yColumns": null
       },
       "removedWidgets": [],
       "schema": [
        {
         "metadata": "{}",
         "name": "subject",
         "type": "\"string\""
        },
        {
         "metadata": "{}",
         "name": "second_hightest",
         "type": "\"long\""
        },
        {
         "metadata": "{}",
         "name": "second_lowest",
         "type": "\"long\""
        }
       ],
       "type": "table"
      }
     },
     "output_type": "display_data"
    }
   ],
   "source": [
    "%sql\n",
    "SELECT subject, sum( case when rn_desc=2 then marks else 0 end ) as second_hightest,\n",
    "sum( case when rn_asc=2 then marks else 0 end ) as second_lowest \n",
    "from(\n",
    "SELECT *,rank()over(PARTITION BY subject ORDER BY marks) rn_asc,\n",
    "rank()over(PARTITION BY subject ORDER BY marks desc) rn_desc FROM students\n",
    ")a GROUP BY subject"
   ]
  },
  {
   "cell_type": "markdown",
   "metadata": {
    "application/vnd.databricks.v1+cell": {
     "cellMetadata": {},
     "inputWidgets": {},
     "nuid": "3699b81c-482e-4a1f-8e64-441b7f3dc518",
     "showTitle": false,
     "title": ""
    }
   },
   "source": [
    "<h3> for each student and test ,identfy if their marks increase or decrease from prev test <\\h3>"
   ]
  },
  {
   "cell_type": "code",
   "execution_count": 0,
   "metadata": {
    "application/vnd.databricks.v1+cell": {
     "cellMetadata": {
      "byteLimit": 2048000,
      "implicitDf": true,
      "rowLimit": 10000
     },
     "inputWidgets": {},
     "nuid": "948c7042-c155-4a8d-9d1c-e973c9913961",
     "showTitle": false,
     "title": ""
    }
   },
   "outputs": [
    {
     "output_type": "display_data",
     "data": {
      "text/html": [
       "<style scoped>\n",
       "  .table-result-container {\n",
       "    max-height: 300px;\n",
       "    overflow: auto;\n",
       "  }\n",
       "  table, th, td {\n",
       "    border: 1px solid black;\n",
       "    border-collapse: collapse;\n",
       "  }\n",
       "  th, td {\n",
       "    padding: 5px;\n",
       "  }\n",
       "  th {\n",
       "    text-align: left;\n",
       "  }\n",
       "</style><div class='table-result-container'><table class='table-result'><thead style='background-color: white'><tr><th>studentid</th><th>studentname</th><th>subject</th><th>marks</th><th>testid</th><th>testdate</th><th>prev_marks</th><th>progress</th></tr></thead><tbody><tr><td>1</td><td>John Deo</td><td>Subject2</td><td>60</td><td>1</td><td>2022-01-02</td><td>null</td><td>null</td></tr><tr><td>2</td><td>Max Ruin</td><td>Subject1</td><td>63</td><td>1</td><td>2022-01-02</td><td>null</td><td>null</td></tr><tr><td>2</td><td>Max Ruin</td><td>Subject2</td><td>84</td><td>1</td><td>2022-01-02</td><td>63</td><td> inc</td></tr><tr><td>2</td><td>Max Ruin</td><td>Subject3</td><td>29</td><td>3</td><td>2022-01-03</td><td>84</td><td>desc</td></tr><tr><td>3</td><td>Arnold</td><td>Subject1</td><td>95</td><td>1</td><td>2022-01-02</td><td>null</td><td>null</td></tr><tr><td>3</td><td>Arnold</td><td>Subject2</td><td>32</td><td>1</td><td>2022-01-02</td><td>95</td><td>desc</td></tr><tr><td>4</td><td>Krish Star</td><td>Subject1</td><td>61</td><td>1</td><td>2022-01-02</td><td>null</td><td>null</td></tr><tr><td>4</td><td>Krish Star</td><td>Subject2</td><td>71</td><td>1</td><td>2022-01-02</td><td>61</td><td> inc</td></tr><tr><td>5</td><td>John Mike</td><td>Subject1</td><td>91</td><td>1</td><td>2022-01-02</td><td>null</td><td>null</td></tr><tr><td>5</td><td>John Mike</td><td>Subject2</td><td>61</td><td>2</td><td>2022-11-02</td><td>91</td><td>desc</td></tr><tr><td>5</td><td>John Mike</td><td>Subject3</td><td>98</td><td>2</td><td>2022-11-02</td><td>61</td><td> inc</td></tr></tbody></table></div>"
      ]
     },
     "metadata": {
      "application/vnd.databricks.v1+output": {
       "addedWidgets": {},
       "aggData": [],
       "aggError": "",
       "aggOverflow": false,
       "aggSchema": [],
       "aggSeriesLimitReached": false,
       "aggType": "",
       "arguments": {},
       "columnCustomDisplayInfos": {},
       "data": [
        [
         1,
         "John Deo",
         "Subject2",
         60,
         1,
         "2022-01-02",
         null,
         null
        ],
        [
         2,
         "Max Ruin",
         "Subject1",
         63,
         1,
         "2022-01-02",
         null,
         null
        ],
        [
         2,
         "Max Ruin",
         "Subject2",
         84,
         1,
         "2022-01-02",
         63,
         " inc"
        ],
        [
         2,
         "Max Ruin",
         "Subject3",
         29,
         3,
         "2022-01-03",
         84,
         "desc"
        ],
        [
         3,
         "Arnold",
         "Subject1",
         95,
         1,
         "2022-01-02",
         null,
         null
        ],
        [
         3,
         "Arnold",
         "Subject2",
         32,
         1,
         "2022-01-02",
         95,
         "desc"
        ],
        [
         4,
         "Krish Star",
         "Subject1",
         61,
         1,
         "2022-01-02",
         null,
         null
        ],
        [
         4,
         "Krish Star",
         "Subject2",
         71,
         1,
         "2022-01-02",
         61,
         " inc"
        ],
        [
         5,
         "John Mike",
         "Subject1",
         91,
         1,
         "2022-01-02",
         null,
         null
        ],
        [
         5,
         "John Mike",
         "Subject2",
         61,
         2,
         "2022-11-02",
         91,
         "desc"
        ],
        [
         5,
         "John Mike",
         "Subject3",
         98,
         2,
         "2022-11-02",
         61,
         " inc"
        ]
       ],
       "datasetInfos": [],
       "dbfsResultPath": null,
       "isJsonSchema": true,
       "metadata": {},
       "overflow": false,
       "plotOptions": {
        "customPlotOptions": {},
        "displayType": "table",
        "pivotAggregation": null,
        "pivotColumns": null,
        "xColumns": null,
        "yColumns": null
       },
       "removedWidgets": [],
       "schema": [
        {
         "metadata": "{}",
         "name": "studentid",
         "type": "\"integer\""
        },
        {
         "metadata": "{}",
         "name": "studentname",
         "type": "\"string\""
        },
        {
         "metadata": "{}",
         "name": "subject",
         "type": "\"string\""
        },
        {
         "metadata": "{}",
         "name": "marks",
         "type": "\"integer\""
        },
        {
         "metadata": "{}",
         "name": "testid",
         "type": "\"integer\""
        },
        {
         "metadata": "{}",
         "name": "testdate",
         "type": "\"date\""
        },
        {
         "metadata": "{}",
         "name": "prev_marks",
         "type": "\"integer\""
        },
        {
         "metadata": "{}",
         "name": "progress",
         "type": "\"string\""
        }
       ],
       "type": "table"
      }
     },
     "output_type": "display_data"
    }
   ],
   "source": [
    "%sql\n",
    "select *, case when marks<prev_marks then 'desc' \n",
    "when marks>prev_marks then ' inc' else null end as progress from (\n",
    "select *,lag(marks,1)over(partition by studentid order by testdate,subject)prev_marks from students\n",
    ")a1"
   ]
  },
  {
   "cell_type": "markdown",
   "metadata": {
    "application/vnd.databricks.v1+cell": {
     "cellMetadata": {},
     "inputWidgets": {},
     "nuid": "a252bf52-2467-4410-820f-eb60b3545025",
     "showTitle": false,
     "title": ""
    }
   },
   "source": [
    "<h3> solution in pyspark <\\h3>"
   ]
  },
  {
   "cell_type": "code",
   "execution_count": 0,
   "metadata": {
    "application/vnd.databricks.v1+cell": {
     "cellMetadata": {
      "byteLimit": 2048000,
      "rowLimit": 10000
     },
     "inputWidgets": {},
     "nuid": "8991586e-ebbf-4b9e-873f-d437635388fd",
     "showTitle": false,
     "title": ""
    }
   },
   "outputs": [],
   "source": [
    "from pyspark.sql.functions import when,col,sum,avg,lag,rank,when,max\n",
    "from pyspark.sql.window import Window"
   ]
  },
  {
   "cell_type": "code",
   "execution_count": 0,
   "metadata": {
    "application/vnd.databricks.v1+cell": {
     "cellMetadata": {
      "byteLimit": 2048000,
      "rowLimit": 10000
     },
     "inputWidgets": {},
     "nuid": "771ae21d-14f1-4316-ba01-3125a859fb04",
     "showTitle": false,
     "title": ""
    }
   },
   "outputs": [
    {
     "output_type": "stream",
     "name": "stdout",
     "output_type": "stream",
     "text": [
      "+---------+-----------+--------+-----+------+----------+\n|studentid|studentname| subject|marks|testid|  testdate|\n+---------+-----------+--------+-----+------+----------+\n|        4| Krish Star|Subject2|   71|     1|2022-01-02|\n|        4| Krish Star|Subject1|   61|     1|2022-01-02|\n|        5|  John Mike|Subject2|   61|     2|2022-11-02|\n|        5|  John Mike|Subject3|   98|     2|2022-11-02|\n|        5|  John Mike|Subject1|   91|     1|2022-01-02|\n|        2|   Max Ruin|Subject2|   84|     1|2022-01-02|\n|        2|   Max Ruin|Subject1|   63|     1|2022-01-02|\n|        1|   John Deo|Subject2|   60|     1|2022-01-02|\n|        2|   Max Ruin|Subject3|   29|     3|2022-01-03|\n|        3|     Arnold|Subject2|   32|     1|2022-01-02|\n|        3|     Arnold|Subject1|   95|     1|2022-01-02|\n+---------+-----------+--------+-----+------+----------+\n\n"
     ]
    }
   ],
   "source": [
    "df_s=spark.sql(\"select * from students\")\n",
    "df_s.show()"
   ]
  },
  {
   "cell_type": "markdown",
   "metadata": {
    "application/vnd.databricks.v1+cell": {
     "cellMetadata": {},
     "inputWidgets": {},
     "nuid": "a1e2ae7d-f9a7-4327-ac06-5e61cad9f016",
     "showTitle": false,
     "title": ""
    }
   },
   "source": [
    "<h3> write sql to get list of student who get marks above avg in each sub <\\h3>"
   ]
  },
  {
   "cell_type": "code",
   "execution_count": 0,
   "metadata": {
    "application/vnd.databricks.v1+cell": {
     "cellMetadata": {
      "byteLimit": 2048000,
      "rowLimit": 10000
     },
     "inputWidgets": {},
     "nuid": "8694b0e9-3afd-4a25-8708-070fddd1ceb6",
     "showTitle": false,
     "title": ""
    }
   },
   "outputs": [
    {
     "output_type": "stream",
     "name": "stdout",
     "output_type": "stream",
     "text": [
      "+--------+---------+-----------+-----+------+----------+---------+\n| subject|studentid|studentname|marks|testid|  testdate|avg_marks|\n+--------+---------+-----------+-----+------+----------+---------+\n|Subject2|        4| Krish Star|   71|     1|2022-01-02|     61.6|\n|Subject3|        5|  John Mike|   98|     2|2022-11-02|     63.5|\n|Subject1|        5|  John Mike|   91|     1|2022-01-02|     77.5|\n|Subject2|        2|   Max Ruin|   84|     1|2022-01-02|     61.6|\n|Subject1|        3|     Arnold|   95|     1|2022-01-02|     77.5|\n+--------+---------+-----------+-----+------+----------+---------+\n\n"
     ]
    }
   ],
   "source": [
    "df_avg=df_s.groupBy(\"subject\").agg(avg(\"marks\").alias(\"avg_marks\"))\n",
    "df_s.join(df_avg,\"subject\",\"inner\").filter(col(\"avg_marks\")<col(\"marks\")).show()"
   ]
  },
  {
   "cell_type": "markdown",
   "metadata": {
    "application/vnd.databricks.v1+cell": {
     "cellMetadata": {},
     "inputWidgets": {},
     "nuid": "444e0a4f-6267-4aeb-9ad8-b321b231e7f1",
     "showTitle": false,
     "title": ""
    }
   },
   "source": [
    "<h3> write sql query to get per of student who score more then 90 in any subject among the all student <\\h3>"
   ]
  },
  {
   "cell_type": "code",
   "execution_count": 0,
   "metadata": {
    "application/vnd.databricks.v1+cell": {
     "cellMetadata": {
      "byteLimit": 2048000,
      "rowLimit": 10000
     },
     "inputWidgets": {},
     "nuid": "cf0a6b89-4a05-4546-8748-0bac609dfede",
     "showTitle": false,
     "title": ""
    }
   },
   "outputs": [
    {
     "output_type": "stream",
     "name": "stdout",
     "output_type": "stream",
     "text": [
      "40.0\n"
     ]
    }
   ],
   "source": [
    "df_c=df_s.filter(col(\"marks\")>90).select(\"studentid\").distinct().count()\n",
    "df_t=df_s.select(\"studentid\").distinct().count()\n",
    "print(df_c*100/df_t)"
   ]
  },
  {
   "cell_type": "markdown",
   "metadata": {
    "application/vnd.databricks.v1+cell": {
     "cellMetadata": {},
     "inputWidgets": {},
     "nuid": "092e93a9-6742-4893-ada2-7e19a4b9268d",
     "showTitle": false,
     "title": ""
    }
   },
   "source": [
    "<h3> write sql query get 2nd highest and 2nd lowest marks in each subject <\\h3>"
   ]
  },
  {
   "cell_type": "code",
   "execution_count": 0,
   "metadata": {
    "application/vnd.databricks.v1+cell": {
     "cellMetadata": {
      "byteLimit": 2048000,
      "rowLimit": 10000
     },
     "inputWidgets": {},
     "nuid": "788bac80-de7a-4dd5-be7f-c001a61a9a27",
     "showTitle": false,
     "title": ""
    }
   },
   "outputs": [
    {
     "output_type": "stream",
     "name": "stdout",
     "output_type": "stream",
     "text": [
      "+--------+--------------+-------------+\n| subject|second_highest|second_lowest|\n+--------+--------------+-------------+\n|Subject1|            91|           63|\n|Subject2|            71|           60|\n|Subject3|            29|           98|\n+--------+--------------+-------------+\n\n"
     ]
    }
   ],
   "source": [
    "df=df_s.withColumn(\"lag_desc\",rank().over(Window.partitionBy(\"subject\").orderBy(col(\"marks\").desc()))).\\\n",
    "    withColumn(\"lag_asc\",rank().over(Window.partitionBy(\"subject\").orderBy(col(\"marks\").asc())))\n",
    "df.withColumn(\"second_highest\",when(col(\"lag_desc\")==2,col(\"marks\"))).\\\n",
    "    withColumn(\"second_lowest\",when(col(\"lag_asc\")==2,col(\"marks\"))).\\\n",
    "        groupBy(\"subject\").agg(max(\"second_highest\").alias(\"second_highest\"),max(\"second_lowest\").alias(\"second_lowest\")).show()"
   ]
  },
  {
   "cell_type": "markdown",
   "metadata": {
    "application/vnd.databricks.v1+cell": {
     "cellMetadata": {},
     "inputWidgets": {},
     "nuid": "b99553b0-5876-4d54-b11d-0ef753f1ef6f",
     "showTitle": false,
     "title": ""
    }
   },
   "source": [
    "<h3> for each student and test ,identfy if their marks increase or decrease from prev test <\\h3>"
   ]
  },
  {
   "cell_type": "code",
   "execution_count": 0,
   "metadata": {
    "application/vnd.databricks.v1+cell": {
     "cellMetadata": {
      "byteLimit": 2048000,
      "rowLimit": 10000
     },
     "inputWidgets": {},
     "nuid": "ef04a0da-3b6c-4c4c-8ecb-565780be313e",
     "showTitle": false,
     "title": ""
    }
   },
   "outputs": [
    {
     "output_type": "stream",
     "name": "stdout",
     "output_type": "stream",
     "text": [
      "+---------+-----------+--------+-----+------+----------+----------+---------+\n|studentid|studentname| subject|marks|testid|  testdate|prev_marks|preogress|\n+---------+-----------+--------+-----+------+----------+----------+---------+\n|        3|     Arnold|Subject1|   95|     1|2022-01-02|      null|     null|\n|        3|     Arnold|Subject2|   32|     1|2022-01-02|        95|      dec|\n|        1|   John Deo|Subject2|   60|     1|2022-01-02|      null|     null|\n|        5|  John Mike|Subject1|   91|     1|2022-01-02|      null|     null|\n|        5|  John Mike|Subject2|   61|     2|2022-11-02|        91|      dec|\n|        5|  John Mike|Subject3|   98|     2|2022-11-02|        61|      inc|\n|        4| Krish Star|Subject1|   61|     1|2022-01-02|      null|     null|\n|        4| Krish Star|Subject2|   71|     1|2022-01-02|        61|      inc|\n|        2|   Max Ruin|Subject1|   63|     1|2022-01-02|      null|     null|\n|        2|   Max Ruin|Subject2|   84|     1|2022-01-02|        63|      inc|\n|        2|   Max Ruin|Subject3|   29|     3|2022-01-03|        84|      dec|\n+---------+-----------+--------+-----+------+----------+----------+---------+\n\n"
     ]
    }
   ],
   "source": [
    "df_s.withColumn(\"prev_marks\",lag(\"marks\",1).over(Window.partitionBy(\"studentname\").orderBy(\"testdate\",\"subject\"))).\\\n",
    "    withColumn(\"preogress\",when(col(\"marks\")<col(\"prev_marks\"),\"dec\").\\\n",
    "        when(col(\"marks\")>col(\"prev_marks\"),\"inc\")).show()"
   ]
  }
 ],
 "metadata": {
  "application/vnd.databricks.v1+notebook": {
   "dashboards": [],
   "language": "python",
   "notebookMetadata": {
    "mostRecentlyExecutedCommandWithImplicitDF": {
     "commandId": 3055158021508886,
     "dataframes": [
      "_sqldf"
     ]
    },
    "pythonIndentUnit": 4
   },
   "notebookName": "Day 24 Complex SQL",
   "widgets": {}
  }
 },
 "nbformat": 4,
 "nbformat_minor": 0
}
