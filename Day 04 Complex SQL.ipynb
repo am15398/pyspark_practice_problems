{
 "cells": [
  {
   "cell_type": "markdown",
   "metadata": {
    "application/vnd.databricks.v1+cell": {
     "cellMetadata": {
      "byteLimit": 2048000,
      "rowLimit": 10000
     },
     "inputWidgets": {},
     "nuid": "0891c57a-47d9-4dfe-9d09-ab277885145b",
     "showTitle": false,
     "title": ""
    }
   },
   "source": [
    "<h3>Complex SQL 6 | Scenario based on join, group by and having clauses | SQL Interview Question </h3>"
   ]
  },
  {
   "cell_type": "code",
   "execution_count": 0,
   "metadata": {
    "application/vnd.databricks.v1+cell": {
     "cellMetadata": {
      "byteLimit": 2048000,
      "implicitDf": true,
      "rowLimit": 10000
     },
     "inputWidgets": {},
     "nuid": "e1afffbc-5956-4f35-8f50-b0b23cfb35b6",
     "showTitle": false,
     "title": ""
    }
   },
   "outputs": [
    {
     "output_type": "display_data",
     "data": {
      "text/html": [
       "<style scoped>\n",
       "  .table-result-container {\n",
       "    max-height: 300px;\n",
       "    overflow: auto;\n",
       "  }\n",
       "  table, th, td {\n",
       "    border: 1px solid black;\n",
       "    border-collapse: collapse;\n",
       "  }\n",
       "  th, td {\n",
       "    padding: 5px;\n",
       "  }\n",
       "  th {\n",
       "    text-align: left;\n",
       "  }\n",
       "</style><div class='table-result-container'><table class='table-result'><thead style='background-color: white'><tr><th>num_affected_rows</th><th>num_inserted_rows</th></tr></thead><tbody><tr><td>8</td><td>8</td></tr></tbody></table></div>"
      ]
     },
     "metadata": {
      "application/vnd.databricks.v1+output": {
       "addedWidgets": {},
       "aggData": [],
       "aggError": "",
       "aggOverflow": false,
       "aggSchema": [],
       "aggSeriesLimitReached": false,
       "aggType": "",
       "arguments": {},
       "columnCustomDisplayInfos": {},
       "data": [
        [
         8,
         8
        ]
       ],
       "datasetInfos": [],
       "dbfsResultPath": null,
       "isJsonSchema": true,
       "metadata": {},
       "overflow": false,
       "plotOptions": {
        "customPlotOptions": {},
        "displayType": "table",
        "pivotAggregation": null,
        "pivotColumns": null,
        "xColumns": null,
        "yColumns": null
       },
       "removedWidgets": [],
       "schema": [
        {
         "metadata": "{}",
         "name": "num_affected_rows",
         "type": "\"long\""
        },
        {
         "metadata": "{}",
         "name": "num_inserted_rows",
         "type": "\"long\""
        }
       ],
       "type": "table"
      }
     },
     "output_type": "display_data"
    }
   ],
   "source": [
    "%sql\n",
    "drop table if exists person;\n",
    "CREATE TABLE person (\n",
    "    PersonID INT,\n",
    "    Name STRING,\n",
    "    Email STRING,\n",
    "    Score INT\n",
    ");\n",
    "INSERT INTO TABLE person\n",
    "VALUES\n",
    "    (1, 'Alice', 'alice2018@hotmail.com', 88),\n",
    "    (2, 'Bob', 'bob2018@hotmail.com', 11),\n",
    "    (3, 'Davis', 'davis2018@hotmail.com', 27),\n",
    "    (4, 'Tara', 'tara2018@hotmail.com', 45),\n",
    "    (5, 'John', 'john2018@hotmail.com', 63);\n",
    "\n",
    "drop table if exists friend;\n",
    "CREATE TABLE friend (\n",
    "    PersonID INT,\n",
    "    FriendID INT\n",
    ");\n",
    "INSERT INTO TABLE friend\n",
    "VALUES\n",
    "    (1, 2),\n",
    "    (1, 3),\n",
    "    (2, 1),\n",
    "    (2, 3),\n",
    "    (3, 5),\n",
    "    (4, 2),\n",
    "    (4, 3),\n",
    "    (4, 5);\n",
    "\n"
   ]
  },
  {
   "cell_type": "code",
   "execution_count": 0,
   "metadata": {
    "application/vnd.databricks.v1+cell": {
     "cellMetadata": {
      "byteLimit": 2048000,
      "implicitDf": true,
      "rowLimit": 10000
     },
     "inputWidgets": {},
     "nuid": "66cbe4f0-6394-4b2a-b30f-142d41cee712",
     "showTitle": false,
     "title": ""
    }
   },
   "outputs": [
    {
     "output_type": "display_data",
     "data": {
      "text/html": [
       "<style scoped>\n",
       "  .table-result-container {\n",
       "    max-height: 300px;\n",
       "    overflow: auto;\n",
       "  }\n",
       "  table, th, td {\n",
       "    border: 1px solid black;\n",
       "    border-collapse: collapse;\n",
       "  }\n",
       "  th, td {\n",
       "    padding: 5px;\n",
       "  }\n",
       "  th {\n",
       "    text-align: left;\n",
       "  }\n",
       "</style><div class='table-result-container'><table class='table-result'><thead style='background-color: white'><tr><th>PersonID</th><th>Name</th><th>Email</th><th>Score</th></tr></thead><tbody><tr><td>1</td><td>Alice</td><td>alice2018@hotmail.com</td><td>88</td></tr><tr><td>2</td><td>Bob</td><td>bob2018@hotmail.com</td><td>11</td></tr><tr><td>3</td><td>Davis</td><td>davis2018@hotmail.com</td><td>27</td></tr><tr><td>4</td><td>Tara</td><td>tara2018@hotmail.com</td><td>45</td></tr><tr><td>5</td><td>John</td><td>john2018@hotmail.com</td><td>63</td></tr></tbody></table></div>"
      ]
     },
     "metadata": {
      "application/vnd.databricks.v1+output": {
       "addedWidgets": {},
       "aggData": [],
       "aggError": "",
       "aggOverflow": false,
       "aggSchema": [],
       "aggSeriesLimitReached": false,
       "aggType": "",
       "arguments": {},
       "columnCustomDisplayInfos": {},
       "data": [
        [
         1,
         "Alice",
         "alice2018@hotmail.com",
         88
        ],
        [
         2,
         "Bob",
         "bob2018@hotmail.com",
         11
        ],
        [
         3,
         "Davis",
         "davis2018@hotmail.com",
         27
        ],
        [
         4,
         "Tara",
         "tara2018@hotmail.com",
         45
        ],
        [
         5,
         "John",
         "john2018@hotmail.com",
         63
        ]
       ],
       "datasetInfos": [],
       "dbfsResultPath": null,
       "isJsonSchema": true,
       "metadata": {},
       "overflow": false,
       "plotOptions": {
        "customPlotOptions": {},
        "displayType": "table",
        "pivotAggregation": null,
        "pivotColumns": null,
        "xColumns": null,
        "yColumns": null
       },
       "removedWidgets": [],
       "schema": [
        {
         "metadata": "{}",
         "name": "PersonID",
         "type": "\"integer\""
        },
        {
         "metadata": "{}",
         "name": "Name",
         "type": "\"string\""
        },
        {
         "metadata": "{}",
         "name": "Email",
         "type": "\"string\""
        },
        {
         "metadata": "{}",
         "name": "Score",
         "type": "\"integer\""
        }
       ],
       "type": "table"
      }
     },
     "output_type": "display_data"
    }
   ],
   "source": [
    "%sql\n",
    "select * from person;"
   ]
  },
  {
   "cell_type": "code",
   "execution_count": 0,
   "metadata": {
    "application/vnd.databricks.v1+cell": {
     "cellMetadata": {
      "byteLimit": 2048000,
      "implicitDf": true,
      "rowLimit": 10000
     },
     "inputWidgets": {},
     "nuid": "e34764b6-ea71-445b-bfde-fe2981016e0e",
     "showTitle": false,
     "title": ""
    }
   },
   "outputs": [
    {
     "output_type": "display_data",
     "data": {
      "text/html": [
       "<style scoped>\n",
       "  .table-result-container {\n",
       "    max-height: 300px;\n",
       "    overflow: auto;\n",
       "  }\n",
       "  table, th, td {\n",
       "    border: 1px solid black;\n",
       "    border-collapse: collapse;\n",
       "  }\n",
       "  th, td {\n",
       "    padding: 5px;\n",
       "  }\n",
       "  th {\n",
       "    text-align: left;\n",
       "  }\n",
       "</style><div class='table-result-container'><table class='table-result'><thead style='background-color: white'><tr><th>PersonID</th><th>FriendID</th></tr></thead><tbody><tr><td>1</td><td>2</td></tr><tr><td>1</td><td>3</td></tr><tr><td>2</td><td>1</td></tr><tr><td>2</td><td>3</td></tr><tr><td>3</td><td>5</td></tr><tr><td>4</td><td>2</td></tr><tr><td>4</td><td>3</td></tr><tr><td>4</td><td>5</td></tr></tbody></table></div>"
      ]
     },
     "metadata": {
      "application/vnd.databricks.v1+output": {
       "addedWidgets": {},
       "aggData": [],
       "aggError": "",
       "aggOverflow": false,
       "aggSchema": [],
       "aggSeriesLimitReached": false,
       "aggType": "",
       "arguments": {},
       "columnCustomDisplayInfos": {},
       "data": [
        [
         1,
         2
        ],
        [
         1,
         3
        ],
        [
         2,
         1
        ],
        [
         2,
         3
        ],
        [
         3,
         5
        ],
        [
         4,
         2
        ],
        [
         4,
         3
        ],
        [
         4,
         5
        ]
       ],
       "datasetInfos": [],
       "dbfsResultPath": null,
       "isJsonSchema": true,
       "metadata": {},
       "overflow": false,
       "plotOptions": {
        "customPlotOptions": {},
        "displayType": "table",
        "pivotAggregation": null,
        "pivotColumns": null,
        "xColumns": null,
        "yColumns": null
       },
       "removedWidgets": [],
       "schema": [
        {
         "metadata": "{}",
         "name": "PersonID",
         "type": "\"integer\""
        },
        {
         "metadata": "{}",
         "name": "FriendID",
         "type": "\"integer\""
        }
       ],
       "type": "table"
      }
     },
     "output_type": "display_data"
    }
   ],
   "source": [
    "%sql\n",
    "select * from friend;"
   ]
  },
  {
   "cell_type": "markdown",
   "metadata": {
    "application/vnd.databricks.v1+cell": {
     "cellMetadata": {
      "byteLimit": 2048000,
      "rowLimit": 10000
     },
     "inputWidgets": {},
     "nuid": "7fd68711-caca-414e-86fc-6b5b9c367b95",
     "showTitle": false,
     "title": ""
    }
   },
   "source": [
    "<h3>solution in hive (friendship score >100)</h3>"
   ]
  },
  {
   "cell_type": "code",
   "execution_count": 0,
   "metadata": {
    "application/vnd.databricks.v1+cell": {
     "cellMetadata": {
      "byteLimit": 2048000,
      "implicitDf": true,
      "rowLimit": 10000
     },
     "inputWidgets": {},
     "nuid": "534aa22f-c6e6-4e55-85ca-84088f88977c",
     "showTitle": false,
     "title": ""
    }
   },
   "outputs": [
    {
     "output_type": "display_data",
     "data": {
      "text/html": [
       "<style scoped>\n",
       "  .table-result-container {\n",
       "    max-height: 300px;\n",
       "    overflow: auto;\n",
       "  }\n",
       "  table, th, td {\n",
       "    border: 1px solid black;\n",
       "    border-collapse: collapse;\n",
       "  }\n",
       "  th, td {\n",
       "    padding: 5px;\n",
       "  }\n",
       "  th {\n",
       "    text-align: left;\n",
       "  }\n",
       "</style><div class='table-result-container'><table class='table-result'><thead style='background-color: white'><tr><th>personid</th><th>total_friend_score</th><th>no_of_friend</th><th>person_name</th></tr></thead><tbody><tr><td>2</td><td>115</td><td>2</td><td>Bob</td></tr><tr><td>4</td><td>101</td><td>3</td><td>Tara</td></tr></tbody></table></div>"
      ]
     },
     "metadata": {
      "application/vnd.databricks.v1+output": {
       "addedWidgets": {},
       "aggData": [],
       "aggError": "",
       "aggOverflow": false,
       "aggSchema": [],
       "aggSeriesLimitReached": false,
       "aggType": "",
       "arguments": {},
       "columnCustomDisplayInfos": {},
       "data": [
        [
         2,
         115,
         2,
         "Bob"
        ],
        [
         4,
         101,
         3,
         "Tara"
        ]
       ],
       "datasetInfos": [],
       "dbfsResultPath": null,
       "isJsonSchema": true,
       "metadata": {},
       "overflow": false,
       "plotOptions": {
        "customPlotOptions": {},
        "displayType": "table",
        "pivotAggregation": null,
        "pivotColumns": null,
        "xColumns": null,
        "yColumns": null
       },
       "removedWidgets": [],
       "schema": [
        {
         "metadata": "{}",
         "name": "personid",
         "type": "\"integer\""
        },
        {
         "metadata": "{}",
         "name": "total_friend_score",
         "type": "\"long\""
        },
        {
         "metadata": "{}",
         "name": "no_of_friend",
         "type": "\"long\""
        },
        {
         "metadata": "{}",
         "name": "person_name",
         "type": "\"string\""
        }
       ],
       "type": "table"
      }
     },
     "output_type": "display_data"
    }
   ],
   "source": [
    "%sql \n",
    "select p1.personid,p2.total_score as total_friend_score, p2.total_friend as no_of_friend ,p1.name as person_name from person p1 \n",
    "inner join (\n",
    "select f.PersonID,sum(score) as total_score,count(1) as total_friend from  friend f \n",
    "inner join person p on p.PersonID=f.FriendID\n",
    "group by f.PersonID)p2 on p1.PersonID=p2.PersonID\n",
    "where p2.total_score>100\n",
    "order by p1.personid"
   ]
  },
  {
   "cell_type": "markdown",
   "metadata": {
    "application/vnd.databricks.v1+cell": {
     "cellMetadata": {
      "byteLimit": 2048000,
      "rowLimit": 10000
     },
     "inputWidgets": {},
     "nuid": "d83e53e4-4cd3-4577-8159-29ce7c94eb43",
     "showTitle": false,
     "title": ""
    }
   },
   "source": [
    "<h3> solution in pyspark</h3>"
   ]
  },
  {
   "cell_type": "code",
   "execution_count": 0,
   "metadata": {
    "application/vnd.databricks.v1+cell": {
     "cellMetadata": {
      "byteLimit": 2048000,
      "rowLimit": 10000
     },
     "inputWidgets": {},
     "nuid": "2eceb333-c87d-4531-a586-ba518e9f3f44",
     "showTitle": false,
     "title": ""
    }
   },
   "outputs": [],
   "source": [
    "from pyspark.sql.functions import sum,count,col"
   ]
  },
  {
   "cell_type": "code",
   "execution_count": 0,
   "metadata": {
    "application/vnd.databricks.v1+cell": {
     "cellMetadata": {
      "byteLimit": 2048000,
      "rowLimit": 10000
     },
     "inputWidgets": {},
     "nuid": "e8299d73-7f21-4cbc-9f1b-9d5f2cb02671",
     "showTitle": false,
     "title": ""
    }
   },
   "outputs": [
    {
     "output_type": "stream",
     "name": "stdout",
     "output_type": "stream",
     "text": [
      "+--------+-----+---------------------+-----+\n|PersonID|Name |Email                |Score|\n+--------+-----+---------------------+-----+\n|1       |Alice|alice2018@hotmail.com|88   |\n|2       |Bob  |bob2018@hotmail.com  |11   |\n|3       |Davis|davis2018@hotmail.com|27   |\n|4       |Tara |tara2018@hotmail.com |45   |\n|5       |John |john2018@hotmail.com |63   |\n+--------+-----+---------------------+-----+\n\n+--------+--------+\n|PersonID|FriendID|\n+--------+--------+\n|       1|       2|\n|       1|       3|\n|       2|       1|\n|       2|       3|\n|       3|       5|\n|       4|       2|\n|       4|       3|\n|       4|       5|\n+--------+--------+\n\n"
     ]
    }
   ],
   "source": [
    "df_person=spark.sql(\"select * from person\")\n",
    "df_friend=spark.sql(\"select * from friend\")\n",
    "df_person.show(truncate= False)\n",
    "df_friend.show()"
   ]
  },
  {
   "cell_type": "code",
   "execution_count": 0,
   "metadata": {
    "application/vnd.databricks.v1+cell": {
     "cellMetadata": {
      "byteLimit": 2048000,
      "rowLimit": 10000
     },
     "inputWidgets": {},
     "nuid": "d6d73593-02c4-454f-b89c-3a0848f2a8e2",
     "showTitle": false,
     "title": ""
    }
   },
   "outputs": [
    {
     "output_type": "stream",
     "name": "stdout",
     "output_type": "stream",
     "text": [
      "+--------+------------------+------------+-----------+\n|PersonID|total_friend_score|no_of_friend|person_name|\n+--------+------------------+------------+-----------+\n|       2|               115|           2|        Bob|\n|       4|               101|           3|       Tara|\n+--------+------------------+------------+-----------+\n\n"
     ]
    }
   ],
   "source": [
    "df1=df_friend.alias(\"friend\").join(df_person.alias(\"person\"), col(\"person.PersonID\") == col(\"friend.FriendID\"), \"inner\") \\\n",
    "    .groupBy(col(\"friend.PersonID\")).agg(sum(col(\"person.score\")).alias(\"total_friend_score\"),\\\n",
    "         count(col(\"person.PersonID\")).alias(\"no_of_friend\")).filter(col(\"total_friend_score\")>100)\n",
    "df_2=df1.join(df_person,on=\"PersonID\", how=\"inner\").\\\n",
    "    select(\"PersonID\",\"total_friend_score\",\"no_of_friend\",\"Name\")\n",
    "df_2=df_2.withColumnRenamed(\"Name\",\"person_name\")\n",
    "df_2.orderBy(\"personid\").show()\n"
   ]
  }
 ],
 "metadata": {
  "application/vnd.databricks.v1+notebook": {
   "dashboards": [],
   "language": "python",
   "notebookMetadata": {
    "mostRecentlyExecutedCommandWithImplicitDF": {
     "commandId": 1285421268267141,
     "dataframes": [
      "_sqldf"
     ]
    },
    "pythonIndentUnit": 4
   },
   "notebookName": "4. Complex SQL",
   "widgets": {}
  }
 },
 "nbformat": 4,
 "nbformat_minor": 0
}
