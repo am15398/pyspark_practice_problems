{
 "cells": [
  {
   "cell_type": "markdown",
   "metadata": {
    "application/vnd.databricks.v1+cell": {
     "cellMetadata": {},
     "inputWidgets": {},
     "nuid": "a7bbd1af-2f7b-47aa-b8d3-33c7674dee15",
     "showTitle": false,
     "title": ""
    }
   },
   "source": [
    "<h3>Ankit Bansal Complex SQL 3 | Scenario based Interviews Question for Product companies</h3>"
   ]
  },
  {
   "cell_type": "markdown",
   "metadata": {
    "application/vnd.databricks.v1+cell": {
     "cellMetadata": {},
     "inputWidgets": {},
     "nuid": "d8b005d9-3ca7-4eff-b811-362b8856349d",
     "showTitle": false,
     "title": ""
    }
   },
   "source": [
    "<h2>query data set<\\h2>"
   ]
  },
  {
   "cell_type": "code",
   "execution_count": 0,
   "metadata": {
    "application/vnd.databricks.v1+cell": {
     "cellMetadata": {
      "byteLimit": 2048000,
      "implicitDf": true,
      "rowLimit": 10000
     },
     "inputWidgets": {},
     "nuid": "26f5b0a2-fa0e-4430-a695-578c0319bf33",
     "showTitle": false,
     "title": ""
    }
   },
   "outputs": [
    {
     "output_type": "display_data",
     "data": {
      "text/html": [
       "<style scoped>\n",
       "  .table-result-container {\n",
       "    max-height: 300px;\n",
       "    overflow: auto;\n",
       "  }\n",
       "  table, th, td {\n",
       "    border: 1px solid black;\n",
       "    border-collapse: collapse;\n",
       "  }\n",
       "  th, td {\n",
       "    padding: 5px;\n",
       "  }\n",
       "  th {\n",
       "    text-align: left;\n",
       "  }\n",
       "</style><div class='table-result-container'><table class='table-result'><thead style='background-color: white'><tr><th>num_affected_rows</th><th>num_inserted_rows</th></tr></thead><tbody><tr><td>6</td><td>6</td></tr></tbody></table></div>"
      ]
     },
     "metadata": {
      "application/vnd.databricks.v1+output": {
       "addedWidgets": {},
       "aggData": [],
       "aggError": "",
       "aggOverflow": false,
       "aggSchema": [],
       "aggSeriesLimitReached": false,
       "aggType": "",
       "arguments": {},
       "columnCustomDisplayInfos": {},
       "data": [
        [
         6,
         6
        ]
       ],
       "datasetInfos": [],
       "dbfsResultPath": null,
       "isJsonSchema": true,
       "metadata": {},
       "overflow": false,
       "plotOptions": {
        "customPlotOptions": {},
        "displayType": "table",
        "pivotAggregation": null,
        "pivotColumns": null,
        "xColumns": null,
        "yColumns": null
       },
       "removedWidgets": [],
       "schema": [
        {
         "metadata": "{}",
         "name": "num_affected_rows",
         "type": "\"long\""
        },
        {
         "metadata": "{}",
         "name": "num_inserted_rows",
         "type": "\"long\""
        }
       ],
       "type": "table"
      }
     },
     "output_type": "display_data"
    }
   ],
   "source": [
    "%sql\n",
    "create table entries ( \n",
    "name varchar(20),\n",
    "address varchar(20),\n",
    "email varchar(20),\n",
    "floor int,\n",
    "resources varchar(10));\n",
    "\n",
    "insert into entries values \n",
    "('A','Bangalore','A@gmail.com',1,'CPU'),\n",
    "('A','Bangalore','A1@gmail.com',1,'CPU'),\n",
    "('A','Bangalore','A2@gmail.com',2,'DESKTOP'),\n",
    "('B','Bangalore','B@gmail.com',2,'DESKTOP'),\n",
    "('B','Bangalore','B1@gmail.com',2,'DESKTOP'),\n",
    "('B','Bangalore','B2@gmail.com',1,'MONITOR')"
   ]
  },
  {
   "cell_type": "code",
   "execution_count": 0,
   "metadata": {
    "application/vnd.databricks.v1+cell": {
     "cellMetadata": {
      "byteLimit": 2048000,
      "implicitDf": true,
      "rowLimit": 10000
     },
     "inputWidgets": {},
     "nuid": "26a09166-4bb6-4f91-afd5-ff434e8af384",
     "showTitle": false,
     "title": ""
    }
   },
   "outputs": [
    {
     "output_type": "display_data",
     "data": {
      "text/html": [
       "<style scoped>\n",
       "  .table-result-container {\n",
       "    max-height: 300px;\n",
       "    overflow: auto;\n",
       "  }\n",
       "  table, th, td {\n",
       "    border: 1px solid black;\n",
       "    border-collapse: collapse;\n",
       "  }\n",
       "  th, td {\n",
       "    padding: 5px;\n",
       "  }\n",
       "  th {\n",
       "    text-align: left;\n",
       "  }\n",
       "</style><div class='table-result-container'><table class='table-result'><thead style='background-color: white'><tr><th>name</th><th>address</th><th>email</th><th>floor</th><th>resources</th></tr></thead><tbody><tr><td>A</td><td>Bangalore</td><td>A@gmail.com</td><td>1</td><td>CPU</td></tr><tr><td>A</td><td>Bangalore</td><td>A1@gmail.com</td><td>1</td><td>CPU</td></tr><tr><td>A</td><td>Bangalore</td><td>A2@gmail.com</td><td>2</td><td>DESKTOP</td></tr><tr><td>B</td><td>Bangalore</td><td>B@gmail.com</td><td>2</td><td>DESKTOP</td></tr><tr><td>B</td><td>Bangalore</td><td>B1@gmail.com</td><td>2</td><td>DESKTOP</td></tr><tr><td>B</td><td>Bangalore</td><td>B2@gmail.com</td><td>1</td><td>MONITOR</td></tr></tbody></table></div>"
      ]
     },
     "metadata": {
      "application/vnd.databricks.v1+output": {
       "addedWidgets": {},
       "aggData": [],
       "aggError": "",
       "aggOverflow": false,
       "aggSchema": [],
       "aggSeriesLimitReached": false,
       "aggType": "",
       "arguments": {},
       "columnCustomDisplayInfos": {},
       "data": [
        [
         "A",
         "Bangalore",
         "A@gmail.com",
         1,
         "CPU"
        ],
        [
         "A",
         "Bangalore",
         "A1@gmail.com",
         1,
         "CPU"
        ],
        [
         "A",
         "Bangalore",
         "A2@gmail.com",
         2,
         "DESKTOP"
        ],
        [
         "B",
         "Bangalore",
         "B@gmail.com",
         2,
         "DESKTOP"
        ],
        [
         "B",
         "Bangalore",
         "B1@gmail.com",
         2,
         "DESKTOP"
        ],
        [
         "B",
         "Bangalore",
         "B2@gmail.com",
         1,
         "MONITOR"
        ]
       ],
       "datasetInfos": [],
       "dbfsResultPath": null,
       "isJsonSchema": true,
       "metadata": {},
       "overflow": false,
       "plotOptions": {
        "customPlotOptions": {},
        "displayType": "table",
        "pivotAggregation": null,
        "pivotColumns": null,
        "xColumns": null,
        "yColumns": null
       },
       "removedWidgets": [],
       "schema": [
        {
         "metadata": "{\"__CHAR_VARCHAR_TYPE_STRING\":\"varchar(20)\"}",
         "name": "name",
         "type": "\"string\""
        },
        {
         "metadata": "{\"__CHAR_VARCHAR_TYPE_STRING\":\"varchar(20)\"}",
         "name": "address",
         "type": "\"string\""
        },
        {
         "metadata": "{\"__CHAR_VARCHAR_TYPE_STRING\":\"varchar(20)\"}",
         "name": "email",
         "type": "\"string\""
        },
        {
         "metadata": "{}",
         "name": "floor",
         "type": "\"integer\""
        },
        {
         "metadata": "{\"__CHAR_VARCHAR_TYPE_STRING\":\"varchar(10)\"}",
         "name": "resources",
         "type": "\"string\""
        }
       ],
       "type": "table"
      }
     },
     "output_type": "display_data"
    }
   ],
   "source": [
    "%sql\n",
    "select * from entries"
   ]
  },
  {
   "cell_type": "code",
   "execution_count": 0,
   "metadata": {
    "application/vnd.databricks.v1+cell": {
     "cellMetadata": {
      "byteLimit": 2048000,
      "implicitDf": true,
      "rowLimit": 10000
     },
     "inputWidgets": {},
     "nuid": "8cded4d0-039f-4d7f-bba5-664d845638f9",
     "showTitle": false,
     "title": ""
    }
   },
   "outputs": [
    {
     "output_type": "display_data",
     "data": {
      "text/html": [
       "<style scoped>\n",
       "  .table-result-container {\n",
       "    max-height: 300px;\n",
       "    overflow: auto;\n",
       "  }\n",
       "  table, th, td {\n",
       "    border: 1px solid black;\n",
       "    border-collapse: collapse;\n",
       "  }\n",
       "  th, td {\n",
       "    padding: 5px;\n",
       "  }\n",
       "  th {\n",
       "    text-align: left;\n",
       "  }\n",
       "</style><div class='table-result-container'><table class='table-result'><thead style='background-color: white'><tr><th>name</th><th>most_visited_floor</th><th>total_vists</th><th>used_resources</th></tr></thead><tbody><tr><td>A</td><td>1</td><td>3</td><td>CPU,DESKTOP</td></tr><tr><td>B</td><td>2</td><td>3</td><td>DESKTOP,MONITOR</td></tr></tbody></table></div>"
      ]
     },
     "metadata": {
      "application/vnd.databricks.v1+output": {
       "addedWidgets": {},
       "aggData": [],
       "aggError": "",
       "aggOverflow": false,
       "aggSchema": [],
       "aggSeriesLimitReached": false,
       "aggType": "",
       "arguments": {},
       "columnCustomDisplayInfos": {},
       "data": [
        [
         "A",
         1,
         3,
         "CPU,DESKTOP"
        ],
        [
         "B",
         2,
         3,
         "DESKTOP,MONITOR"
        ]
       ],
       "datasetInfos": [],
       "dbfsResultPath": null,
       "isJsonSchema": true,
       "metadata": {},
       "overflow": false,
       "plotOptions": {
        "customPlotOptions": {},
        "displayType": "table",
        "pivotAggregation": null,
        "pivotColumns": null,
        "xColumns": null,
        "yColumns": null
       },
       "removedWidgets": [],
       "schema": [
        {
         "metadata": "{\"__CHAR_VARCHAR_TYPE_STRING\":\"varchar(20)\"}",
         "name": "name",
         "type": "\"string\""
        },
        {
         "metadata": "{}",
         "name": "most_visited_floor",
         "type": "\"integer\""
        },
        {
         "metadata": "{}",
         "name": "total_vists",
         "type": "\"long\""
        },
        {
         "metadata": "{}",
         "name": "used_resources",
         "type": "\"string\""
        }
       ],
       "type": "table"
      }
     },
     "output_type": "display_data"
    }
   ],
   "source": [
    "%sql\n",
    "with cte1 as(\n",
    "  select name,floor,count(floor) as m_total_vist from entries group by name,floor\n",
    "  )\n",
    "  , cte2 as(\n",
    "select cte1.name,cte1.floor from cte1\n",
    "inner join (\n",
    "  select  name,max(m_total_vist)m_total_vist  from cte1 group by name\n",
    "  )a1 on a1.name=cte1.name and a1.m_total_vist=cte1.m_total_vist)\n",
    ",cte3 as (\n",
    "select cte2.name,cte2.floor as most_visited_floor,total_vist as total_vists from cte2\n",
    "inner join (\n",
    "  select name,count(floor) as total_vist from entries group by name\n",
    ")a2 on a2.name=cte2.name)\n",
    "select cte3.name,most_visited_floor,total_vists,used_resources from cte3 \n",
    "inner join(\n",
    "  SELECT name, CONCAT_WS(',', COLLECT_LIST(resources ) ) as used_resources\n",
    "  FROM (\n",
    "    select distinct name ,resources from  entries order by name,resources\n",
    "    )a0\n",
    "  GROUP BY name)a3 on a3.name=cte3.name\n"
   ]
  },
  {
   "cell_type": "markdown",
   "metadata": {
    "application/vnd.databricks.v1+cell": {
     "cellMetadata": {},
     "inputWidgets": {},
     "nuid": "440e653b-1139-4c2f-9a3c-e881b76da3e8",
     "showTitle": false,
     "title": ""
    }
   },
   "source": [
    "<h2>Solution in Pyspark</h2>"
   ]
  },
  {
   "cell_type": "code",
   "execution_count": 0,
   "metadata": {
    "application/vnd.databricks.v1+cell": {
     "cellMetadata": {
      "byteLimit": 2048000,
      "rowLimit": 10000
     },
     "inputWidgets": {},
     "nuid": "aadef3de-e323-49bc-88e4-8a612e108be3",
     "showTitle": false,
     "title": ""
    }
   },
   "outputs": [],
   "source": [
    "from pyspark.sql.functions import max,col, collect_list, concat_ws"
   ]
  },
  {
   "cell_type": "code",
   "execution_count": 0,
   "metadata": {
    "application/vnd.databricks.v1+cell": {
     "cellMetadata": {
      "byteLimit": 2048000,
      "rowLimit": 10000
     },
     "inputWidgets": {},
     "nuid": "eb0f4e56-eea3-4554-982a-b32c2b908994",
     "showTitle": false,
     "title": ""
    }
   },
   "outputs": [],
   "source": [
    "df=spark.sql(\"select * from entries\")"
   ]
  },
  {
   "cell_type": "code",
   "execution_count": 0,
   "metadata": {
    "application/vnd.databricks.v1+cell": {
     "cellMetadata": {
      "byteLimit": 2048000,
      "rowLimit": 10000
     },
     "inputWidgets": {},
     "nuid": "662081f6-6121-42f8-88c2-c70b66e237fe",
     "showTitle": false,
     "title": ""
    }
   },
   "outputs": [
    {
     "output_type": "stream",
     "name": "stdout",
     "output_type": "stream",
     "text": [
      "+----+---------------+----------+---------------+\n|name|most_floor_vist|total_vist| used_resources|\n+----+---------------+----------+---------------+\n|   A|              1|         3|    CPU,DESKTOP|\n|   B|              2|         3|DESKTOP,MONITOR|\n+----+---------------+----------+---------------+\n\n"
     ]
    }
   ],
   "source": [
    "df_tot_vist=df.groupBy(\"name\").count() #total_vist\n",
    "df_tot_vist=df_tot_vist.withColumnRenamed(\"name\", \"name_df_tot_vist\")\n",
    "df_mst_1=df.groupBy(\"name\",\"floor\").count()\n",
    "df_mst_2=df_mst_1.groupBy(\"name\").agg(max(\"count\").alias(\"mx_cnt\"))\n",
    "df_mst_2=df_mst_2.withColumnRenamed(\"name\", \"name1\")\n",
    "df_mst=df_mst_1.join(df_mst_2,(df_mst_1[\"name\"]==df_mst_2[\"name1\"]) & (df_mst_1[\"count\"]==df_mst_2[\"mx_cnt\"]),\"inner\" ).\\\n",
    "    select(\"name\",\"floor\")    # max floor vist\n",
    "df_dist=df.select(\"name\",\"resources\").distinct().orderBy(\"name\",\"resources\")  # get distinct value\n",
    "df_used=df_dist.groupBy(\"name\").agg(concat_ws(\",\", collect_list(col(\"resources\"))).alias(\"used_resources\")) #used_resources\n",
    "df1=df_tot_vist.join(df_mst,df_mst.name==df_tot_vist.name_df_tot_vist,\"inner\")\n",
    "df2=df1.select(df1[\"name\"].alias(\"df1_name\"),df1[\"floor\"].alias(\"most_floor_vist\"),df1[\"count\"].alias(\"total_vist\"))\n",
    "df3=df2.join(df_used,df2.df1_name==df_used.name,\"inner\")\n",
    "df_final=df3.select(\"name\",\"most_floor_vist\",\"total_vist\",\"used_resources\")\n",
    "df_final.show()"
   ]
  }
 ],
 "metadata": {
  "application/vnd.databricks.v1+notebook": {
   "dashboards": [],
   "language": "python",
   "notebookMetadata": {
    "mostRecentlyExecutedCommandWithImplicitDF": {
     "commandId": 1736595202135502,
     "dataframes": [
      "_sqldf"
     ]
    },
    "pythonIndentUnit": 4
   },
   "notebookName": "Q3. Scenario based Interviews Question for Product companies",
   "widgets": {}
  }
 },
 "nbformat": 4,
 "nbformat_minor": 0
}
